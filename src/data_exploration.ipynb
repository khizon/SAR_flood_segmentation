{
 "cells": [
  {
   "cell_type": "code",
   "execution_count": 25,
   "id": "dda3cadf-cdba-4d66-8eab-39fe43815d97",
   "metadata": {},
   "outputs": [
    {
     "name": "stdout",
     "output_type": "stream",
     "text": [
      "/home/genrev_kiel_hizon/SAR_flood_segmentation/src\n"
     ]
    }
   ],
   "source": [
    "from glob import glob\n",
    "from matplotlib import pyplot as plt\n",
    "import numpy as np\n",
    "import os\n",
    "from skimage.io import imread, imshow\n",
    "import numpy as np\n",
    "import pandas as pd\n",
    "import seaborn as sns\n",
    "import df_utils\n",
    "from pytorch_lightning import seed_everything\n",
    "from sklearn.model_selection import train_test_split\n",
    "\n",
    "!pwd\n",
    "# os.chdir('../')\n",
    "# !pwd"
   ]
  },
  {
   "cell_type": "markdown",
   "id": "57cd7fa7-a3c5-4bdb-b7e6-a2497a307ba2",
   "metadata": {},
   "source": [
    "## Generate Annotations CSV"
   ]
  },
  {
   "cell_type": "code",
   "execution_count": 2,
   "id": "0ad72091-411c-4c94-9e82-7b8ddbd10dbe",
   "metadata": {},
   "outputs": [
    {
     "name": "stderr",
     "output_type": "stream",
     "text": [
      "Global seed set to 42\n"
     ]
    },
    {
     "data": {
      "text/plain": [
       "42"
      ]
     },
     "execution_count": 2,
     "metadata": {},
     "output_type": "execute_result"
    }
   ],
   "source": [
    "seed_everything(42, workers=True)"
   ]
  },
  {
   "cell_type": "code",
   "execution_count": 3,
   "id": "7cbf75aa-9a37-4d54-aae6-32e84a47ece8",
   "metadata": {},
   "outputs": [
    {
     "data": {
      "text/html": [
       "<div>\n",
       "<style scoped>\n",
       "    .dataframe tbody tr th:only-of-type {\n",
       "        vertical-align: middle;\n",
       "    }\n",
       "\n",
       "    .dataframe tbody tr th {\n",
       "        vertical-align: top;\n",
       "    }\n",
       "\n",
       "    .dataframe thead th {\n",
       "        text-align: right;\n",
       "    }\n",
       "</style>\n",
       "<table border=\"1\" class=\"dataframe\">\n",
       "  <thead>\n",
       "    <tr style=\"text-align: right;\">\n",
       "      <th></th>\n",
       "      <th>vv_image_path</th>\n",
       "      <th>vh_image_path</th>\n",
       "      <th>flood_label_path</th>\n",
       "      <th>water_body_label_path</th>\n",
       "      <th>region</th>\n",
       "    </tr>\n",
       "  </thead>\n",
       "  <tbody>\n",
       "    <tr>\n",
       "      <th>0</th>\n",
       "      <td>../data/train/train/bangladesh_20170314t115609...</td>\n",
       "      <td>../data/train/train/bangladesh_20170314t115609...</td>\n",
       "      <td>../data/train/train/bangladesh_20170314t115609...</td>\n",
       "      <td>../data/train/train/bangladesh_20170314t115609...</td>\n",
       "      <td>bangladesh</td>\n",
       "    </tr>\n",
       "    <tr>\n",
       "      <th>1</th>\n",
       "      <td>../data/train/train/bangladesh_20170314t115609...</td>\n",
       "      <td>../data/train/train/bangladesh_20170314t115609...</td>\n",
       "      <td>../data/train/train/bangladesh_20170314t115609...</td>\n",
       "      <td>../data/train/train/bangladesh_20170314t115609...</td>\n",
       "      <td>bangladesh</td>\n",
       "    </tr>\n",
       "    <tr>\n",
       "      <th>2</th>\n",
       "      <td>../data/train/train/bangladesh_20170314t115609...</td>\n",
       "      <td>../data/train/train/bangladesh_20170314t115609...</td>\n",
       "      <td>../data/train/train/bangladesh_20170314t115609...</td>\n",
       "      <td>../data/train/train/bangladesh_20170314t115609...</td>\n",
       "      <td>bangladesh</td>\n",
       "    </tr>\n",
       "    <tr>\n",
       "      <th>3</th>\n",
       "      <td>../data/train/train/bangladesh_20170314t115609...</td>\n",
       "      <td>../data/train/train/bangladesh_20170314t115609...</td>\n",
       "      <td>../data/train/train/bangladesh_20170314t115609...</td>\n",
       "      <td>../data/train/train/bangladesh_20170314t115609...</td>\n",
       "      <td>bangladesh</td>\n",
       "    </tr>\n",
       "    <tr>\n",
       "      <th>4</th>\n",
       "      <td>../data/train/train/bangladesh_20170314t115609...</td>\n",
       "      <td>../data/train/train/bangladesh_20170314t115609...</td>\n",
       "      <td>../data/train/train/bangladesh_20170314t115609...</td>\n",
       "      <td>../data/train/train/bangladesh_20170314t115609...</td>\n",
       "      <td>bangladesh</td>\n",
       "    </tr>\n",
       "  </tbody>\n",
       "</table>\n",
       "</div>"
      ],
      "text/plain": [
       "                                       vv_image_path  \\\n",
       "0  ../data/train/train/bangladesh_20170314t115609...   \n",
       "1  ../data/train/train/bangladesh_20170314t115609...   \n",
       "2  ../data/train/train/bangladesh_20170314t115609...   \n",
       "3  ../data/train/train/bangladesh_20170314t115609...   \n",
       "4  ../data/train/train/bangladesh_20170314t115609...   \n",
       "\n",
       "                                       vh_image_path  \\\n",
       "0  ../data/train/train/bangladesh_20170314t115609...   \n",
       "1  ../data/train/train/bangladesh_20170314t115609...   \n",
       "2  ../data/train/train/bangladesh_20170314t115609...   \n",
       "3  ../data/train/train/bangladesh_20170314t115609...   \n",
       "4  ../data/train/train/bangladesh_20170314t115609...   \n",
       "\n",
       "                                    flood_label_path  \\\n",
       "0  ../data/train/train/bangladesh_20170314t115609...   \n",
       "1  ../data/train/train/bangladesh_20170314t115609...   \n",
       "2  ../data/train/train/bangladesh_20170314t115609...   \n",
       "3  ../data/train/train/bangladesh_20170314t115609...   \n",
       "4  ../data/train/train/bangladesh_20170314t115609...   \n",
       "\n",
       "                               water_body_label_path      region  \n",
       "0  ../data/train/train/bangladesh_20170314t115609...  bangladesh  \n",
       "1  ../data/train/train/bangladesh_20170314t115609...  bangladesh  \n",
       "2  ../data/train/train/bangladesh_20170314t115609...  bangladesh  \n",
       "3  ../data/train/train/bangladesh_20170314t115609...  bangladesh  \n",
       "4  ../data/train/train/bangladesh_20170314t115609...  bangladesh  "
      ]
     },
     "execution_count": 3,
     "metadata": {},
     "output_type": "execute_result"
    }
   ],
   "source": [
    "train_df = df_utils.create_df('../data/train/train/')\n",
    "train_df.head()"
   ]
  },
  {
   "cell_type": "code",
   "execution_count": 4,
   "id": "9eeda066-e4a5-433b-bf8a-ff72444f5255",
   "metadata": {},
   "outputs": [
    {
     "data": {
      "text/html": [
       "<div>\n",
       "<style scoped>\n",
       "    .dataframe tbody tr th:only-of-type {\n",
       "        vertical-align: middle;\n",
       "    }\n",
       "\n",
       "    .dataframe tbody tr th {\n",
       "        vertical-align: top;\n",
       "    }\n",
       "\n",
       "    .dataframe thead th {\n",
       "        text-align: right;\n",
       "    }\n",
       "</style>\n",
       "<table border=\"1\" class=\"dataframe\">\n",
       "  <thead>\n",
       "    <tr style=\"text-align: right;\">\n",
       "      <th></th>\n",
       "      <th>vv_image_path</th>\n",
       "      <th>vh_image_path</th>\n",
       "      <th>flood_label_path</th>\n",
       "      <th>water_body_label_path</th>\n",
       "      <th>region</th>\n",
       "    </tr>\n",
       "  </thead>\n",
       "  <tbody>\n",
       "    <tr>\n",
       "      <th>0</th>\n",
       "      <td>../data/val_with_ref_labels/test/florence_2018...</td>\n",
       "      <td>../data/val_with_ref_labels/test/florence_2018...</td>\n",
       "      <td>../data/val_with_ref_labels/test/florence_2018...</td>\n",
       "      <td>../data/val_with_ref_labels/test/florence_2018...</td>\n",
       "      <td>florence</td>\n",
       "    </tr>\n",
       "    <tr>\n",
       "      <th>1</th>\n",
       "      <td>../data/val_with_ref_labels/test/florence_2018...</td>\n",
       "      <td>../data/val_with_ref_labels/test/florence_2018...</td>\n",
       "      <td>../data/val_with_ref_labels/test/florence_2018...</td>\n",
       "      <td>../data/val_with_ref_labels/test/florence_2018...</td>\n",
       "      <td>florence</td>\n",
       "    </tr>\n",
       "    <tr>\n",
       "      <th>2</th>\n",
       "      <td>../data/val_with_ref_labels/test/florence_2018...</td>\n",
       "      <td>../data/val_with_ref_labels/test/florence_2018...</td>\n",
       "      <td>../data/val_with_ref_labels/test/florence_2018...</td>\n",
       "      <td>../data/val_with_ref_labels/test/florence_2018...</td>\n",
       "      <td>florence</td>\n",
       "    </tr>\n",
       "    <tr>\n",
       "      <th>3</th>\n",
       "      <td>../data/val_with_ref_labels/test/florence_2018...</td>\n",
       "      <td>../data/val_with_ref_labels/test/florence_2018...</td>\n",
       "      <td>../data/val_with_ref_labels/test/florence_2018...</td>\n",
       "      <td>../data/val_with_ref_labels/test/florence_2018...</td>\n",
       "      <td>florence</td>\n",
       "    </tr>\n",
       "    <tr>\n",
       "      <th>4</th>\n",
       "      <td>../data/val_with_ref_labels/test/florence_2018...</td>\n",
       "      <td>../data/val_with_ref_labels/test/florence_2018...</td>\n",
       "      <td>../data/val_with_ref_labels/test/florence_2018...</td>\n",
       "      <td>../data/val_with_ref_labels/test/florence_2018...</td>\n",
       "      <td>florence</td>\n",
       "    </tr>\n",
       "  </tbody>\n",
       "</table>\n",
       "</div>"
      ],
      "text/plain": [
       "                                       vv_image_path  \\\n",
       "0  ../data/val_with_ref_labels/test/florence_2018...   \n",
       "1  ../data/val_with_ref_labels/test/florence_2018...   \n",
       "2  ../data/val_with_ref_labels/test/florence_2018...   \n",
       "3  ../data/val_with_ref_labels/test/florence_2018...   \n",
       "4  ../data/val_with_ref_labels/test/florence_2018...   \n",
       "\n",
       "                                       vh_image_path  \\\n",
       "0  ../data/val_with_ref_labels/test/florence_2018...   \n",
       "1  ../data/val_with_ref_labels/test/florence_2018...   \n",
       "2  ../data/val_with_ref_labels/test/florence_2018...   \n",
       "3  ../data/val_with_ref_labels/test/florence_2018...   \n",
       "4  ../data/val_with_ref_labels/test/florence_2018...   \n",
       "\n",
       "                                    flood_label_path  \\\n",
       "0  ../data/val_with_ref_labels/test/florence_2018...   \n",
       "1  ../data/val_with_ref_labels/test/florence_2018...   \n",
       "2  ../data/val_with_ref_labels/test/florence_2018...   \n",
       "3  ../data/val_with_ref_labels/test/florence_2018...   \n",
       "4  ../data/val_with_ref_labels/test/florence_2018...   \n",
       "\n",
       "                               water_body_label_path    region  \n",
       "0  ../data/val_with_ref_labels/test/florence_2018...  florence  \n",
       "1  ../data/val_with_ref_labels/test/florence_2018...  florence  \n",
       "2  ../data/val_with_ref_labels/test/florence_2018...  florence  \n",
       "3  ../data/val_with_ref_labels/test/florence_2018...  florence  \n",
       "4  ../data/val_with_ref_labels/test/florence_2018...  florence  "
      ]
     },
     "execution_count": 4,
     "metadata": {},
     "output_type": "execute_result"
    }
   ],
   "source": [
    "test_df = df_utils.create_df('../data/val_with_ref_labels/test')\n",
    "test_df.head()"
   ]
  },
  {
   "cell_type": "markdown",
   "id": "24a971fb-ce9f-4c95-807b-ae7c86c55d09",
   "metadata": {},
   "source": [
    "## Find images with flooding\n"
   ]
  },
  {
   "cell_type": "code",
   "execution_count": 5,
   "id": "9f9ef02b-9d9a-4b8a-aca1-e8111b842c6a",
   "metadata": {},
   "outputs": [],
   "source": [
    "# train_df = train_df.sample(5)\n",
    "# test_df = test_df.sample(5)"
   ]
  },
  {
   "cell_type": "code",
   "execution_count": 6,
   "id": "c1df400e-4c4e-4e86-b0f2-3d7c90984c0b",
   "metadata": {},
   "outputs": [],
   "source": [
    "train_df['has_mask'] = train_df['flood_label_path'].apply(df_utils.has_mask)\n",
    "test_df['has_mask'] = test_df['flood_label_path'].apply(df_utils.has_mask)"
   ]
  },
  {
   "cell_type": "code",
   "execution_count": 7,
   "id": "18f271d9-0b0b-4917-bad3-6713eb741194",
   "metadata": {},
   "outputs": [
    {
     "data": {
      "text/plain": [
       "False    22471\n",
       "True     10934\n",
       "Name: has_mask, dtype: int64"
      ]
     },
     "execution_count": 7,
     "metadata": {},
     "output_type": "execute_result"
    }
   ],
   "source": [
    "train_df['has_mask'].value_counts()"
   ]
  },
  {
   "cell_type": "code",
   "execution_count": 8,
   "id": "7a86a1d8-cdc6-44eb-9dac-f2e63afd5069",
   "metadata": {},
   "outputs": [
    {
     "data": {
      "text/plain": [
       "False    7290\n",
       "True     3110\n",
       "Name: has_mask, dtype: int64"
      ]
     },
     "execution_count": 8,
     "metadata": {},
     "output_type": "execute_result"
    }
   ],
   "source": [
    "test_df['has_mask'].value_counts()"
   ]
  },
  {
   "cell_type": "markdown",
   "id": "96b0e314-121f-4d3a-8f9d-ca823a86c908",
   "metadata": {
    "tags": []
   },
   "source": [
    "## Find images where the satellite image is binary (invalid)\n",
    "Invalid criteria:\n",
    "- Binary SAR image\n",
    "- 95%+ of pixels are cropped out areas ('1')\n",
    "- 95%+ of pixels are open water\n",
    "    - Either the SAR images are 95%+ black ('0')\n",
    "    - or the Water label is 95%+ white ('1')"
   ]
  },
  {
   "cell_type": "code",
   "execution_count": 9,
   "id": "bf7d0445-53a6-414b-8ddb-44083a2af6ab",
   "metadata": {},
   "outputs": [],
   "source": [
    "train_df = train_df.apply(lambda row: df_utils.remove_binary(row), axis=1)\n",
    "test_df = test_df.apply(lambda row: df_utils.remove_binary(row), axis=1)"
   ]
  },
  {
   "cell_type": "code",
   "execution_count": 10,
   "id": "9e1f69ca-6283-4b9f-88b4-0cbe0c2e63b1",
   "metadata": {},
   "outputs": [
    {
     "data": {
      "text/html": [
       "<div>\n",
       "<style scoped>\n",
       "    .dataframe tbody tr th:only-of-type {\n",
       "        vertical-align: middle;\n",
       "    }\n",
       "\n",
       "    .dataframe tbody tr th {\n",
       "        vertical-align: top;\n",
       "    }\n",
       "\n",
       "    .dataframe thead th {\n",
       "        text-align: right;\n",
       "    }\n",
       "</style>\n",
       "<table border=\"1\" class=\"dataframe\">\n",
       "  <thead>\n",
       "    <tr style=\"text-align: right;\">\n",
       "      <th></th>\n",
       "      <th>vv_image_path</th>\n",
       "      <th>vh_image_path</th>\n",
       "      <th>flood_label_path</th>\n",
       "      <th>water_body_label_path</th>\n",
       "      <th>region</th>\n",
       "      <th>has_mask</th>\n",
       "      <th>invalid</th>\n",
       "    </tr>\n",
       "  </thead>\n",
       "  <tbody>\n",
       "    <tr>\n",
       "      <th>0</th>\n",
       "      <td>../data/train/train/bangladesh_20170314t115609...</td>\n",
       "      <td>../data/train/train/bangladesh_20170314t115609...</td>\n",
       "      <td>../data/train/train/bangladesh_20170314t115609...</td>\n",
       "      <td>../data/train/train/bangladesh_20170314t115609...</td>\n",
       "      <td>bangladesh</td>\n",
       "      <td>False</td>\n",
       "      <td>True</td>\n",
       "    </tr>\n",
       "    <tr>\n",
       "      <th>1</th>\n",
       "      <td>../data/train/train/bangladesh_20170314t115609...</td>\n",
       "      <td>../data/train/train/bangladesh_20170314t115609...</td>\n",
       "      <td>../data/train/train/bangladesh_20170314t115609...</td>\n",
       "      <td>../data/train/train/bangladesh_20170314t115609...</td>\n",
       "      <td>bangladesh</td>\n",
       "      <td>False</td>\n",
       "      <td>True</td>\n",
       "    </tr>\n",
       "    <tr>\n",
       "      <th>2</th>\n",
       "      <td>../data/train/train/bangladesh_20170314t115609...</td>\n",
       "      <td>../data/train/train/bangladesh_20170314t115609...</td>\n",
       "      <td>../data/train/train/bangladesh_20170314t115609...</td>\n",
       "      <td>../data/train/train/bangladesh_20170314t115609...</td>\n",
       "      <td>bangladesh</td>\n",
       "      <td>False</td>\n",
       "      <td>True</td>\n",
       "    </tr>\n",
       "    <tr>\n",
       "      <th>3</th>\n",
       "      <td>../data/train/train/bangladesh_20170314t115609...</td>\n",
       "      <td>../data/train/train/bangladesh_20170314t115609...</td>\n",
       "      <td>../data/train/train/bangladesh_20170314t115609...</td>\n",
       "      <td>../data/train/train/bangladesh_20170314t115609...</td>\n",
       "      <td>bangladesh</td>\n",
       "      <td>False</td>\n",
       "      <td>True</td>\n",
       "    </tr>\n",
       "    <tr>\n",
       "      <th>4</th>\n",
       "      <td>../data/train/train/bangladesh_20170314t115609...</td>\n",
       "      <td>../data/train/train/bangladesh_20170314t115609...</td>\n",
       "      <td>../data/train/train/bangladesh_20170314t115609...</td>\n",
       "      <td>../data/train/train/bangladesh_20170314t115609...</td>\n",
       "      <td>bangladesh</td>\n",
       "      <td>False</td>\n",
       "      <td>True</td>\n",
       "    </tr>\n",
       "  </tbody>\n",
       "</table>\n",
       "</div>"
      ],
      "text/plain": [
       "                                       vv_image_path  \\\n",
       "0  ../data/train/train/bangladesh_20170314t115609...   \n",
       "1  ../data/train/train/bangladesh_20170314t115609...   \n",
       "2  ../data/train/train/bangladesh_20170314t115609...   \n",
       "3  ../data/train/train/bangladesh_20170314t115609...   \n",
       "4  ../data/train/train/bangladesh_20170314t115609...   \n",
       "\n",
       "                                       vh_image_path  \\\n",
       "0  ../data/train/train/bangladesh_20170314t115609...   \n",
       "1  ../data/train/train/bangladesh_20170314t115609...   \n",
       "2  ../data/train/train/bangladesh_20170314t115609...   \n",
       "3  ../data/train/train/bangladesh_20170314t115609...   \n",
       "4  ../data/train/train/bangladesh_20170314t115609...   \n",
       "\n",
       "                                    flood_label_path  \\\n",
       "0  ../data/train/train/bangladesh_20170314t115609...   \n",
       "1  ../data/train/train/bangladesh_20170314t115609...   \n",
       "2  ../data/train/train/bangladesh_20170314t115609...   \n",
       "3  ../data/train/train/bangladesh_20170314t115609...   \n",
       "4  ../data/train/train/bangladesh_20170314t115609...   \n",
       "\n",
       "                               water_body_label_path      region  has_mask  \\\n",
       "0  ../data/train/train/bangladesh_20170314t115609...  bangladesh     False   \n",
       "1  ../data/train/train/bangladesh_20170314t115609...  bangladesh     False   \n",
       "2  ../data/train/train/bangladesh_20170314t115609...  bangladesh     False   \n",
       "3  ../data/train/train/bangladesh_20170314t115609...  bangladesh     False   \n",
       "4  ../data/train/train/bangladesh_20170314t115609...  bangladesh     False   \n",
       "\n",
       "   invalid  \n",
       "0     True  \n",
       "1     True  \n",
       "2     True  \n",
       "3     True  \n",
       "4     True  "
      ]
     },
     "execution_count": 10,
     "metadata": {},
     "output_type": "execute_result"
    }
   ],
   "source": [
    "train_df.head()"
   ]
  },
  {
   "cell_type": "markdown",
   "id": "1e2d3bb2-fa6c-4bc8-8b8d-5bf5ec3fe758",
   "metadata": {},
   "source": [
    "## Split test -> test, val\n",
    "- 20% validation set to prevent overfitting\n",
    "- 80% final testing set"
   ]
  },
  {
   "cell_type": "code",
   "execution_count": 11,
   "id": "a7cf0983-8401-40d3-bf34-4dd500b3d712",
   "metadata": {},
   "outputs": [],
   "source": [
    "val, test = train_test_split(test_df, stratify=test_df['has_mask'], test_size=0.8)"
   ]
  },
  {
   "cell_type": "markdown",
   "id": "b1c4e349-1f63-4af2-9618-bdfb4ee6604b",
   "metadata": {},
   "source": [
    "## Save final product to CSV"
   ]
  },
  {
   "cell_type": "code",
   "execution_count": 12,
   "id": "f4a4a9d8-96b7-4e91-8dad-f65267baeddb",
   "metadata": {},
   "outputs": [],
   "source": [
    "train_df.to_csv('../data/train.csv')\n",
    "val.to_csv('../data/val.csv')\n",
    "test.to_csv('../data/test.csv')"
   ]
  },
  {
   "cell_type": "markdown",
   "id": "0b9745b2-65c7-4e03-94f9-e129eacb0bc1",
   "metadata": {},
   "source": [
    "## Exploration"
   ]
  },
  {
   "cell_type": "code",
   "execution_count": 13,
   "id": "72a23b2e-0c24-4c1f-a0c5-6c64dc5d372a",
   "metadata": {},
   "outputs": [
    {
     "name": "stdout",
     "output_type": "stream",
     "text": [
      "Train: (33405, 7)\n",
      "Val: (2080, 7)\n",
      "Test: (8320, 7)\n"
     ]
    }
   ],
   "source": [
    "print(f'Train: {train_df.shape}')\n",
    "print(f'Val: {val.shape}')\n",
    "print(f'Test: {test.shape}')"
   ]
  },
  {
   "cell_type": "code",
   "execution_count": 26,
   "id": "c9cc2ea0-070e-4e63-9df5-102a7141c145",
   "metadata": {},
   "outputs": [
    {
     "data": {
      "text/html": [
       "<div>\n",
       "<style scoped>\n",
       "    .dataframe tbody tr th:only-of-type {\n",
       "        vertical-align: middle;\n",
       "    }\n",
       "\n",
       "    .dataframe tbody tr th {\n",
       "        vertical-align: top;\n",
       "    }\n",
       "\n",
       "    .dataframe thead th {\n",
       "        text-align: right;\n",
       "    }\n",
       "</style>\n",
       "<table border=\"1\" class=\"dataframe\">\n",
       "  <thead>\n",
       "    <tr style=\"text-align: right;\">\n",
       "      <th>Set</th>\n",
       "      <th>Test</th>\n",
       "      <th>Train</th>\n",
       "      <th>Val</th>\n",
       "      <th>All</th>\n",
       "    </tr>\n",
       "    <tr>\n",
       "      <th>region</th>\n",
       "      <th></th>\n",
       "      <th></th>\n",
       "      <th></th>\n",
       "      <th></th>\n",
       "    </tr>\n",
       "  </thead>\n",
       "  <tbody>\n",
       "    <tr>\n",
       "      <th>bangladesh</th>\n",
       "      <td>NaN</td>\n",
       "      <td>6204.0</td>\n",
       "      <td>NaN</td>\n",
       "      <td>6204</td>\n",
       "    </tr>\n",
       "    <tr>\n",
       "      <th>florence</th>\n",
       "      <td>8320.0</td>\n",
       "      <td>NaN</td>\n",
       "      <td>2080.0</td>\n",
       "      <td>10400</td>\n",
       "    </tr>\n",
       "    <tr>\n",
       "      <th>nebraska</th>\n",
       "      <td>NaN</td>\n",
       "      <td>12225.0</td>\n",
       "      <td>NaN</td>\n",
       "      <td>12225</td>\n",
       "    </tr>\n",
       "    <tr>\n",
       "      <th>northal</th>\n",
       "      <td>NaN</td>\n",
       "      <td>14976.0</td>\n",
       "      <td>NaN</td>\n",
       "      <td>14976</td>\n",
       "    </tr>\n",
       "    <tr>\n",
       "      <th>All</th>\n",
       "      <td>8320.0</td>\n",
       "      <td>33405.0</td>\n",
       "      <td>2080.0</td>\n",
       "      <td>43805</td>\n",
       "    </tr>\n",
       "  </tbody>\n",
       "</table>\n",
       "</div>"
      ],
      "text/plain": [
       "Set           Test    Train     Val    All\n",
       "region                                    \n",
       "bangladesh     NaN   6204.0     NaN   6204\n",
       "florence    8320.0      NaN  2080.0  10400\n",
       "nebraska       NaN  12225.0     NaN  12225\n",
       "northal        NaN  14976.0     NaN  14976\n",
       "All         8320.0  33405.0  2080.0  43805"
      ]
     },
     "execution_count": 26,
     "metadata": {},
     "output_type": "execute_result"
    }
   ],
   "source": [
    "train_df = pd.read_csv('../data/train.csv', index_col=0)\n",
    "train_df['Set'] = 'Train'\n",
    "\n",
    "val_df = pd.read_csv('../data/val.csv', index_col=0)\n",
    "val_df['Set'] = 'Val'\n",
    "\n",
    "test_df = pd.read_csv('../data/test.csv', index_col=0)\n",
    "test_df['Set'] = 'Test'\n",
    "\n",
    "df = pd.concat([train_df, val_df, test_df])\n",
    "pd.pivot_table(df, values='vh_image_path', index=['region'], columns = ['Set'],\n",
    "               aggfunc='count', margins=True)"
   ]
  },
  {
   "cell_type": "code",
   "execution_count": 27,
   "id": "1692bd08-138b-463d-9dbf-7005abdc002a",
   "metadata": {},
   "outputs": [
    {
     "data": {
      "text/html": [
       "<div>\n",
       "<style scoped>\n",
       "    .dataframe tbody tr th:only-of-type {\n",
       "        vertical-align: middle;\n",
       "    }\n",
       "\n",
       "    .dataframe tbody tr th {\n",
       "        vertical-align: top;\n",
       "    }\n",
       "\n",
       "    .dataframe thead tr th {\n",
       "        text-align: left;\n",
       "    }\n",
       "\n",
       "    .dataframe thead tr:last-of-type th {\n",
       "        text-align: right;\n",
       "    }\n",
       "</style>\n",
       "<table border=\"1\" class=\"dataframe\">\n",
       "  <thead>\n",
       "    <tr>\n",
       "      <th>invalid</th>\n",
       "      <th colspan=\"2\" halign=\"left\">False</th>\n",
       "      <th colspan=\"2\" halign=\"left\">True</th>\n",
       "      <th>All</th>\n",
       "    </tr>\n",
       "    <tr>\n",
       "      <th>has_mask</th>\n",
       "      <th>False</th>\n",
       "      <th>True</th>\n",
       "      <th>False</th>\n",
       "      <th>True</th>\n",
       "      <th></th>\n",
       "    </tr>\n",
       "    <tr>\n",
       "      <th>Set</th>\n",
       "      <th></th>\n",
       "      <th></th>\n",
       "      <th></th>\n",
       "      <th></th>\n",
       "      <th></th>\n",
       "    </tr>\n",
       "  </thead>\n",
       "  <tbody>\n",
       "    <tr>\n",
       "      <th>Test</th>\n",
       "      <td>1756</td>\n",
       "      <td>2423</td>\n",
       "      <td>4076</td>\n",
       "      <td>65</td>\n",
       "      <td>8320</td>\n",
       "    </tr>\n",
       "    <tr>\n",
       "      <th>Train</th>\n",
       "      <td>14358</td>\n",
       "      <td>10271</td>\n",
       "      <td>8113</td>\n",
       "      <td>663</td>\n",
       "      <td>33405</td>\n",
       "    </tr>\n",
       "    <tr>\n",
       "      <th>Val</th>\n",
       "      <td>434</td>\n",
       "      <td>607</td>\n",
       "      <td>1024</td>\n",
       "      <td>15</td>\n",
       "      <td>2080</td>\n",
       "    </tr>\n",
       "    <tr>\n",
       "      <th>All</th>\n",
       "      <td>16548</td>\n",
       "      <td>13301</td>\n",
       "      <td>13213</td>\n",
       "      <td>743</td>\n",
       "      <td>43805</td>\n",
       "    </tr>\n",
       "  </tbody>\n",
       "</table>\n",
       "</div>"
      ],
      "text/plain": [
       "invalid   False          True         All\n",
       "has_mask  False   True  False True       \n",
       "Set                                      \n",
       "Test       1756   2423   4076   65   8320\n",
       "Train     14358  10271   8113  663  33405\n",
       "Val         434    607   1024   15   2080\n",
       "All       16548  13301  13213  743  43805"
      ]
     },
     "execution_count": 27,
     "metadata": {},
     "output_type": "execute_result"
    }
   ],
   "source": [
    "pd.pivot_table(df, values='vh_image_path', index=['Set'], columns = ['invalid', 'has_mask'],\n",
    "               aggfunc='count', margins=True)"
   ]
  },
  {
   "cell_type": "code",
   "execution_count": 44,
   "id": "7e85627a-b0c6-40c8-8487-d972c6e41885",
   "metadata": {},
   "outputs": [],
   "source": [
    "def s1_to_rgb(vv_image, vh_image):\n",
    "    # ratio_image = np.clip(np.nan_to_num(vh_image / vv_image, 0), 0, 1)\n",
    "    ratio_image = np.clip(np.nan_to_num(vh_image / vv_image, 0), 0, 1)\n",
    "    rgb_image = np.stack((vv_image, vh_image, 1-ratio_image), axis=2)\n",
    "    return rgb_image"
   ]
  },
  {
   "cell_type": "code",
   "execution_count": 46,
   "id": "1f1769ee-cd9d-4081-8510-c2dd21134ef6",
   "metadata": {},
   "outputs": [
    {
     "name": "stderr",
     "output_type": "stream",
     "text": [
      "/tmp/ipykernel_218203/3984800362.py:3: RuntimeWarning: divide by zero encountered in divide\n",
      "  ratio_image = np.clip(np.nan_to_num(vh_image / vv_image, 0), 0, 1)\n"
     ]
    },
    {
     "data": {
      "text/plain": [
       "<matplotlib.image.AxesImage at 0x7fbadbcc7130>"
      ]
     },
     "execution_count": 46,
     "metadata": {},
     "output_type": "execute_result"
    },
    {
     "data": {
      "image/png": "[encoded data removed]",
      "text/plain": [
       "<Figure size 640x480 with 4 Axes>"
      ]
     },
     "metadata": {},
     "output_type": "display_data"
    }
   ],
   "source": [
    "subset = df.loc[\n",
    "        (df.Set == 'Train') &\n",
    "        (df.invalid == False) &\n",
    "        (df.has_mask == True)\n",
    "    ].copy()\n",
    "subset = subset.sample()\n",
    "\n",
    "vv = imread(subset['vv_image_path'].values[0], as_gray=True)\n",
    "vh = imread(subset['vh_image_path'].values[0], as_gray=True)\n",
    "rgb_image = s1_to_rgb(vv, vh)\n",
    "flood = imread(subset['flood_label_path'].values[0], as_gray=True)\n",
    "water = imread(subset['water_body_label_path'].values[0], as_gray=True)\n",
    "\n",
    "_, ax = plt.subplots(1,3)\n",
    "plt.suptitle(f'Flood mean:{np.mean(flood)}')\n",
    "imshow(rgb_image, ax=ax[0])\n",
    "imshow(flood, ax=ax[1], cmap='gray')\n",
    "imshow(water, ax=ax[2], cmap='gray')"
   ]
  },
  {
   "cell_type": "code",
   "execution_count": 33,
   "id": "674a7da6-eb6c-4a10-86c5-8ce9269cbaaf",
   "metadata": {},
   "outputs": [
    {
     "data": {
      "text/plain": [
       "array([0.08624411, 0.07206235, 0.00029001])"
      ]
     },
     "execution_count": 33,
     "metadata": {},
     "output_type": "execute_result"
    }
   ],
   "source": [
    "channel_mean = np.std(rgb_image, axis=(0, 1))\n",
    "channel_mean"
   ]
  }
 ],
 "metadata": {
  "kernelspec": {
   "display_name": "sar-env-2",
   "language": "python",
   "name": "sar-env-2"
  },
  "language_info": {
   "codemirror_mode": {
    "name": "ipython",
    "version": 3
   },
   "file_extension": ".py",
   "mimetype": "text/x-python",
   "name": "python",
   "nbconvert_exporter": "python",
   "pygments_lexer": "ipython3",
   "version": "3.9.16"
  }
 },
 "nbformat": 4,
 "nbformat_minor": 5
}
