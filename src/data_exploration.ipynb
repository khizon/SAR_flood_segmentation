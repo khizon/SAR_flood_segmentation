{
 "cells": [
  {
   "cell_type": "code",
   "execution_count": 16,
   "id": "dda3cadf-cdba-4d66-8eab-39fe43815d97",
   "metadata": {},
   "outputs": [
    {
     "name": "stdout",
     "output_type": "stream",
     "text": [
      "/home/genrev_kiel_hizon/SAR_flood_segmentation/src\n"
     ]
    }
   ],
   "source": [
    "!pwd\n",
    "# os.chdir('../')\n",
    "# !pwd\n",
    "\n",
    "from glob import glob\n",
    "from matplotlib import pyplot as plt\n",
    "import numpy as np\n",
    "import os\n",
    "from skimage.io import imread\n",
    "import numpy as np\n",
    "import pandas as pd\n",
    "import df_utils\n",
    "from pytorch_lightning import seed_everything\n",
    "from sklearn.model_selection import train_test_split"
   ]
  },
  {
   "cell_type": "markdown",
   "id": "57cd7fa7-a3c5-4bdb-b7e6-a2497a307ba2",
   "metadata": {},
   "source": [
    "## Generate Annotations CSV"
   ]
  },
  {
   "cell_type": "code",
   "execution_count": 2,
   "id": "0ad72091-411c-4c94-9e82-7b8ddbd10dbe",
   "metadata": {},
   "outputs": [
    {
     "name": "stderr",
     "output_type": "stream",
     "text": [
      "Global seed set to 42\n"
     ]
    },
    {
     "data": {
      "text/plain": [
       "42"
      ]
     },
     "execution_count": 2,
     "metadata": {},
     "output_type": "execute_result"
    }
   ],
   "source": [
    "seed_everything(42, workers=True)"
   ]
  },
  {
   "cell_type": "code",
   "execution_count": 3,
   "id": "7cbf75aa-9a37-4d54-aae6-32e84a47ece8",
   "metadata": {},
   "outputs": [
    {
     "data": {
      "text/html": [
       "<div>\n",
       "<style scoped>\n",
       "    .dataframe tbody tr th:only-of-type {\n",
       "        vertical-align: middle;\n",
       "    }\n",
       "\n",
       "    .dataframe tbody tr th {\n",
       "        vertical-align: top;\n",
       "    }\n",
       "\n",
       "    .dataframe thead th {\n",
       "        text-align: right;\n",
       "    }\n",
       "</style>\n",
       "<table border=\"1\" class=\"dataframe\">\n",
       "  <thead>\n",
       "    <tr style=\"text-align: right;\">\n",
       "      <th></th>\n",
       "      <th>vv_image_path</th>\n",
       "      <th>vh_image_path</th>\n",
       "      <th>flood_label_path</th>\n",
       "      <th>water_body_label_path</th>\n",
       "      <th>region</th>\n",
       "    </tr>\n",
       "  </thead>\n",
       "  <tbody>\n",
       "    <tr>\n",
       "      <th>0</th>\n",
       "      <td>../data/train/train/bangladesh_20170314t115609...</td>\n",
       "      <td>../data/train/train/bangladesh_20170314t115609...</td>\n",
       "      <td>../data/train/train/bangladesh_20170314t115609...</td>\n",
       "      <td>../data/train/train/bangladesh_20170314t115609...</td>\n",
       "      <td>bangladesh</td>\n",
       "    </tr>\n",
       "    <tr>\n",
       "      <th>1</th>\n",
       "      <td>../data/train/train/bangladesh_20170314t115609...</td>\n",
       "      <td>../data/train/train/bangladesh_20170314t115609...</td>\n",
       "      <td>../data/train/train/bangladesh_20170314t115609...</td>\n",
       "      <td>../data/train/train/bangladesh_20170314t115609...</td>\n",
       "      <td>bangladesh</td>\n",
       "    </tr>\n",
       "    <tr>\n",
       "      <th>2</th>\n",
       "      <td>../data/train/train/bangladesh_20170314t115609...</td>\n",
       "      <td>../data/train/train/bangladesh_20170314t115609...</td>\n",
       "      <td>../data/train/train/bangladesh_20170314t115609...</td>\n",
       "      <td>../data/train/train/bangladesh_20170314t115609...</td>\n",
       "      <td>bangladesh</td>\n",
       "    </tr>\n",
       "    <tr>\n",
       "      <th>3</th>\n",
       "      <td>../data/train/train/bangladesh_20170314t115609...</td>\n",
       "      <td>../data/train/train/bangladesh_20170314t115609...</td>\n",
       "      <td>../data/train/train/bangladesh_20170314t115609...</td>\n",
       "      <td>../data/train/train/bangladesh_20170314t115609...</td>\n",
       "      <td>bangladesh</td>\n",
       "    </tr>\n",
       "    <tr>\n",
       "      <th>4</th>\n",
       "      <td>../data/train/train/bangladesh_20170314t115609...</td>\n",
       "      <td>../data/train/train/bangladesh_20170314t115609...</td>\n",
       "      <td>../data/train/train/bangladesh_20170314t115609...</td>\n",
       "      <td>../data/train/train/bangladesh_20170314t115609...</td>\n",
       "      <td>bangladesh</td>\n",
       "    </tr>\n",
       "  </tbody>\n",
       "</table>\n",
       "</div>"
      ],
      "text/plain": [
       "                                       vv_image_path  \\\n",
       "0  ../data/train/train/bangladesh_20170314t115609...   \n",
       "1  ../data/train/train/bangladesh_20170314t115609...   \n",
       "2  ../data/train/train/bangladesh_20170314t115609...   \n",
       "3  ../data/train/train/bangladesh_20170314t115609...   \n",
       "4  ../data/train/train/bangladesh_20170314t115609...   \n",
       "\n",
       "                                       vh_image_path  \\\n",
       "0  ../data/train/train/bangladesh_20170314t115609...   \n",
       "1  ../data/train/train/bangladesh_20170314t115609...   \n",
       "2  ../data/train/train/bangladesh_20170314t115609...   \n",
       "3  ../data/train/train/bangladesh_20170314t115609...   \n",
       "4  ../data/train/train/bangladesh_20170314t115609...   \n",
       "\n",
       "                                    flood_label_path  \\\n",
       "0  ../data/train/train/bangladesh_20170314t115609...   \n",
       "1  ../data/train/train/bangladesh_20170314t115609...   \n",
       "2  ../data/train/train/bangladesh_20170314t115609...   \n",
       "3  ../data/train/train/bangladesh_20170314t115609...   \n",
       "4  ../data/train/train/bangladesh_20170314t115609...   \n",
       "\n",
       "                               water_body_label_path      region  \n",
       "0  ../data/train/train/bangladesh_20170314t115609...  bangladesh  \n",
       "1  ../data/train/train/bangladesh_20170314t115609...  bangladesh  \n",
       "2  ../data/train/train/bangladesh_20170314t115609...  bangladesh  \n",
       "3  ../data/train/train/bangladesh_20170314t115609...  bangladesh  \n",
       "4  ../data/train/train/bangladesh_20170314t115609...  bangladesh  "
      ]
     },
     "execution_count": 3,
     "metadata": {},
     "output_type": "execute_result"
    }
   ],
   "source": [
    "train_df = df_utils.create_df('../data/train/train/')\n",
    "train_df.head()"
   ]
  },
  {
   "cell_type": "code",
   "execution_count": 4,
   "id": "9eeda066-e4a5-433b-bf8a-ff72444f5255",
   "metadata": {},
   "outputs": [
    {
     "data": {
      "text/html": [
       "<div>\n",
       "<style scoped>\n",
       "    .dataframe tbody tr th:only-of-type {\n",
       "        vertical-align: middle;\n",
       "    }\n",
       "\n",
       "    .dataframe tbody tr th {\n",
       "        vertical-align: top;\n",
       "    }\n",
       "\n",
       "    .dataframe thead th {\n",
       "        text-align: right;\n",
       "    }\n",
       "</style>\n",
       "<table border=\"1\" class=\"dataframe\">\n",
       "  <thead>\n",
       "    <tr style=\"text-align: right;\">\n",
       "      <th></th>\n",
       "      <th>vv_image_path</th>\n",
       "      <th>vh_image_path</th>\n",
       "      <th>flood_label_path</th>\n",
       "      <th>water_body_label_path</th>\n",
       "      <th>region</th>\n",
       "    </tr>\n",
       "  </thead>\n",
       "  <tbody>\n",
       "    <tr>\n",
       "      <th>0</th>\n",
       "      <td>../data/val_with_ref_labels/test/florence_2018...</td>\n",
       "      <td>../data/val_with_ref_labels/test/florence_2018...</td>\n",
       "      <td>../data/val_with_ref_labels/test/florence_2018...</td>\n",
       "      <td>../data/val_with_ref_labels/test/florence_2018...</td>\n",
       "      <td>florence</td>\n",
       "    </tr>\n",
       "    <tr>\n",
       "      <th>1</th>\n",
       "      <td>../data/val_with_ref_labels/test/florence_2018...</td>\n",
       "      <td>../data/val_with_ref_labels/test/florence_2018...</td>\n",
       "      <td>../data/val_with_ref_labels/test/florence_2018...</td>\n",
       "      <td>../data/val_with_ref_labels/test/florence_2018...</td>\n",
       "      <td>florence</td>\n",
       "    </tr>\n",
       "    <tr>\n",
       "      <th>2</th>\n",
       "      <td>../data/val_with_ref_labels/test/florence_2018...</td>\n",
       "      <td>../data/val_with_ref_labels/test/florence_2018...</td>\n",
       "      <td>../data/val_with_ref_labels/test/florence_2018...</td>\n",
       "      <td>../data/val_with_ref_labels/test/florence_2018...</td>\n",
       "      <td>florence</td>\n",
       "    </tr>\n",
       "    <tr>\n",
       "      <th>3</th>\n",
       "      <td>../data/val_with_ref_labels/test/florence_2018...</td>\n",
       "      <td>../data/val_with_ref_labels/test/florence_2018...</td>\n",
       "      <td>../data/val_with_ref_labels/test/florence_2018...</td>\n",
       "      <td>../data/val_with_ref_labels/test/florence_2018...</td>\n",
       "      <td>florence</td>\n",
       "    </tr>\n",
       "    <tr>\n",
       "      <th>4</th>\n",
       "      <td>../data/val_with_ref_labels/test/florence_2018...</td>\n",
       "      <td>../data/val_with_ref_labels/test/florence_2018...</td>\n",
       "      <td>../data/val_with_ref_labels/test/florence_2018...</td>\n",
       "      <td>../data/val_with_ref_labels/test/florence_2018...</td>\n",
       "      <td>florence</td>\n",
       "    </tr>\n",
       "  </tbody>\n",
       "</table>\n",
       "</div>"
      ],
      "text/plain": [
       "                                       vv_image_path  \\\n",
       "0  ../data/val_with_ref_labels/test/florence_2018...   \n",
       "1  ../data/val_with_ref_labels/test/florence_2018...   \n",
       "2  ../data/val_with_ref_labels/test/florence_2018...   \n",
       "3  ../data/val_with_ref_labels/test/florence_2018...   \n",
       "4  ../data/val_with_ref_labels/test/florence_2018...   \n",
       "\n",
       "                                       vh_image_path  \\\n",
       "0  ../data/val_with_ref_labels/test/florence_2018...   \n",
       "1  ../data/val_with_ref_labels/test/florence_2018...   \n",
       "2  ../data/val_with_ref_labels/test/florence_2018...   \n",
       "3  ../data/val_with_ref_labels/test/florence_2018...   \n",
       "4  ../data/val_with_ref_labels/test/florence_2018...   \n",
       "\n",
       "                                    flood_label_path  \\\n",
       "0  ../data/val_with_ref_labels/test/florence_2018...   \n",
       "1  ../data/val_with_ref_labels/test/florence_2018...   \n",
       "2  ../data/val_with_ref_labels/test/florence_2018...   \n",
       "3  ../data/val_with_ref_labels/test/florence_2018...   \n",
       "4  ../data/val_with_ref_labels/test/florence_2018...   \n",
       "\n",
       "                               water_body_label_path    region  \n",
       "0  ../data/val_with_ref_labels/test/florence_2018...  florence  \n",
       "1  ../data/val_with_ref_labels/test/florence_2018...  florence  \n",
       "2  ../data/val_with_ref_labels/test/florence_2018...  florence  \n",
       "3  ../data/val_with_ref_labels/test/florence_2018...  florence  \n",
       "4  ../data/val_with_ref_labels/test/florence_2018...  florence  "
      ]
     },
     "execution_count": 4,
     "metadata": {},
     "output_type": "execute_result"
    }
   ],
   "source": [
    "val_df = df_utils.create_df('../data/val_with_ref_labels/test')\n",
    "val_df.head()"
   ]
  },
  {
   "cell_type": "markdown",
   "id": "24a971fb-ce9f-4c95-807b-ae7c86c55d09",
   "metadata": {},
   "source": [
    "## Find images with significant flooding"
   ]
  },
  {
   "cell_type": "code",
   "execution_count": 5,
   "id": "c1df400e-4c4e-4e86-b0f2-3d7c90984c0b",
   "metadata": {},
   "outputs": [],
   "source": [
    "train_df['has_mask'] = train_df['flood_label_path'].apply(df_utils.has_mask)"
   ]
  },
  {
   "cell_type": "code",
   "execution_count": 6,
   "id": "7ae91fab-b322-498c-9e52-c1688fc0070d",
   "metadata": {},
   "outputs": [],
   "source": [
    "val_df['has_mask'] = val_df['flood_label_path'].apply(df_utils.has_mask)"
   ]
  },
  {
   "cell_type": "code",
   "execution_count": 7,
   "id": "18f271d9-0b0b-4917-bad3-6713eb741194",
   "metadata": {},
   "outputs": [
    {
     "data": {
      "text/plain": [
       "False    22471\n",
       "True     10934\n",
       "Name: has_mask, dtype: int64"
      ]
     },
     "execution_count": 7,
     "metadata": {},
     "output_type": "execute_result"
    }
   ],
   "source": [
    "train_df['has_mask'].value_counts()"
   ]
  },
  {
   "cell_type": "code",
   "execution_count": 8,
   "id": "7a86a1d8-cdc6-44eb-9dac-f2e63afd5069",
   "metadata": {},
   "outputs": [
    {
     "data": {
      "text/plain": [
       "False    7290\n",
       "True     3110\n",
       "Name: has_mask, dtype: int64"
      ]
     },
     "execution_count": 8,
     "metadata": {},
     "output_type": "execute_result"
    }
   ],
   "source": [
    "val_df['has_mask'].value_counts()"
   ]
  },
  {
   "cell_type": "markdown",
   "id": "96b0e314-121f-4d3a-8f9d-ca823a86c908",
   "metadata": {
    "tags": []
   },
   "source": [
    "## Find images where the satellite image is binary (invalid)"
   ]
  },
  {
   "cell_type": "code",
   "execution_count": 9,
   "id": "bf7d0445-53a6-414b-8ddb-44083a2af6ab",
   "metadata": {},
   "outputs": [],
   "source": [
    "train_df['invalid'] = (train_df['vv_image_path'].apply(df_utils.remove_binary))\n",
    "val_df['invalid'] = (val_df['vv_image_path'].apply(df_utils.remove_binary))"
   ]
  },
  {
   "cell_type": "code",
   "execution_count": 10,
   "id": "b5b6f839-07ff-4cbd-afc0-ddcbd577220f",
   "metadata": {},
   "outputs": [
    {
     "data": {
      "text/html": [
       "<div>\n",
       "<style scoped>\n",
       "    .dataframe tbody tr th:only-of-type {\n",
       "        vertical-align: middle;\n",
       "    }\n",
       "\n",
       "    .dataframe tbody tr th {\n",
       "        vertical-align: top;\n",
       "    }\n",
       "\n",
       "    .dataframe thead th {\n",
       "        text-align: right;\n",
       "    }\n",
       "</style>\n",
       "<table border=\"1\" class=\"dataframe\">\n",
       "  <thead>\n",
       "    <tr style=\"text-align: right;\">\n",
       "      <th></th>\n",
       "      <th>vv_image_path</th>\n",
       "      <th>vh_image_path</th>\n",
       "      <th>flood_label_path</th>\n",
       "      <th>water_body_label_path</th>\n",
       "      <th>region</th>\n",
       "      <th>has_mask</th>\n",
       "      <th>invalid</th>\n",
       "    </tr>\n",
       "  </thead>\n",
       "  <tbody>\n",
       "    <tr>\n",
       "      <th>7841</th>\n",
       "      <td>../data/train/train/nebraska_20170213t002121/t...</td>\n",
       "      <td>../data/train/train/nebraska_20170213t002121/t...</td>\n",
       "      <td>../data/train/train/nebraska_20170213t002121/t...</td>\n",
       "      <td>../data/train/train/nebraska_20170213t002121/t...</td>\n",
       "      <td>nebraska</td>\n",
       "      <td>True</td>\n",
       "      <td>True</td>\n",
       "    </tr>\n",
       "    <tr>\n",
       "      <th>9913</th>\n",
       "      <td>../data/train/train/nebraska_20170402t002111/t...</td>\n",
       "      <td>../data/train/train/nebraska_20170402t002111/t...</td>\n",
       "      <td>../data/train/train/nebraska_20170402t002111/t...</td>\n",
       "      <td>../data/train/train/nebraska_20170402t002111/t...</td>\n",
       "      <td>nebraska</td>\n",
       "      <td>True</td>\n",
       "      <td>True</td>\n",
       "    </tr>\n",
       "    <tr>\n",
       "      <th>15415</th>\n",
       "      <td>../data/train/train/nebraska_20171116t002120/t...</td>\n",
       "      <td>../data/train/train/nebraska_20171116t002120/t...</td>\n",
       "      <td>../data/train/train/nebraska_20171116t002120/t...</td>\n",
       "      <td>../data/train/train/nebraska_20171116t002120/t...</td>\n",
       "      <td>nebraska</td>\n",
       "      <td>True</td>\n",
       "      <td>True</td>\n",
       "    </tr>\n",
       "    <tr>\n",
       "      <th>18096</th>\n",
       "      <td>../data/train/train/nebraska_20171222t002118/t...</td>\n",
       "      <td>../data/train/train/nebraska_20171222t002118/t...</td>\n",
       "      <td>../data/train/train/nebraska_20171222t002118/t...</td>\n",
       "      <td>../data/train/train/nebraska_20171222t002118/t...</td>\n",
       "      <td>nebraska</td>\n",
       "      <td>True</td>\n",
       "      <td>True</td>\n",
       "    </tr>\n",
       "    <tr>\n",
       "      <th>7799</th>\n",
       "      <td>../data/train/train/nebraska_20170213t002121/t...</td>\n",
       "      <td>../data/train/train/nebraska_20170213t002121/t...</td>\n",
       "      <td>../data/train/train/nebraska_20170213t002121/t...</td>\n",
       "      <td>../data/train/train/nebraska_20170213t002121/t...</td>\n",
       "      <td>nebraska</td>\n",
       "      <td>True</td>\n",
       "      <td>True</td>\n",
       "    </tr>\n",
       "    <tr>\n",
       "      <th>17436</th>\n",
       "      <td>../data/train/train/nebraska_20171222t002118/t...</td>\n",
       "      <td>../data/train/train/nebraska_20171222t002118/t...</td>\n",
       "      <td>../data/train/train/nebraska_20171222t002118/t...</td>\n",
       "      <td>../data/train/train/nebraska_20171222t002118/t...</td>\n",
       "      <td>nebraska</td>\n",
       "      <td>True</td>\n",
       "      <td>True</td>\n",
       "    </tr>\n",
       "    <tr>\n",
       "      <th>10712</th>\n",
       "      <td>../data/train/train/nebraska_20170508t002113/t...</td>\n",
       "      <td>../data/train/train/nebraska_20170508t002113/t...</td>\n",
       "      <td>../data/train/train/nebraska_20170508t002113/t...</td>\n",
       "      <td>../data/train/train/nebraska_20170508t002113/t...</td>\n",
       "      <td>nebraska</td>\n",
       "      <td>True</td>\n",
       "      <td>True</td>\n",
       "    </tr>\n",
       "    <tr>\n",
       "      <th>16913</th>\n",
       "      <td>../data/train/train/nebraska_20171210t002119/t...</td>\n",
       "      <td>../data/train/train/nebraska_20171210t002119/t...</td>\n",
       "      <td>../data/train/train/nebraska_20171210t002119/t...</td>\n",
       "      <td>../data/train/train/nebraska_20171210t002119/t...</td>\n",
       "      <td>nebraska</td>\n",
       "      <td>True</td>\n",
       "      <td>True</td>\n",
       "    </tr>\n",
       "    <tr>\n",
       "      <th>14066</th>\n",
       "      <td>../data/train/train/nebraska_20170731t002118/t...</td>\n",
       "      <td>../data/train/train/nebraska_20170731t002118/t...</td>\n",
       "      <td>../data/train/train/nebraska_20170731t002118/t...</td>\n",
       "      <td>../data/train/train/nebraska_20170731t002118/t...</td>\n",
       "      <td>nebraska</td>\n",
       "      <td>True</td>\n",
       "      <td>True</td>\n",
       "    </tr>\n",
       "    <tr>\n",
       "      <th>15107</th>\n",
       "      <td>../data/train/train/nebraska_20170929t002120/t...</td>\n",
       "      <td>../data/train/train/nebraska_20170929t002120/t...</td>\n",
       "      <td>../data/train/train/nebraska_20170929t002120/t...</td>\n",
       "      <td>../data/train/train/nebraska_20170929t002120/t...</td>\n",
       "      <td>nebraska</td>\n",
       "      <td>True</td>\n",
       "      <td>True</td>\n",
       "    </tr>\n",
       "  </tbody>\n",
       "</table>\n",
       "</div>"
      ],
      "text/plain": [
       "                                           vv_image_path  \\\n",
       "7841   ../data/train/train/nebraska_20170213t002121/t...   \n",
       "9913   ../data/train/train/nebraska_20170402t002111/t...   \n",
       "15415  ../data/train/train/nebraska_20171116t002120/t...   \n",
       "18096  ../data/train/train/nebraska_20171222t002118/t...   \n",
       "7799   ../data/train/train/nebraska_20170213t002121/t...   \n",
       "17436  ../data/train/train/nebraska_20171222t002118/t...   \n",
       "10712  ../data/train/train/nebraska_20170508t002113/t...   \n",
       "16913  ../data/train/train/nebraska_20171210t002119/t...   \n",
       "14066  ../data/train/train/nebraska_20170731t002118/t...   \n",
       "15107  ../data/train/train/nebraska_20170929t002120/t...   \n",
       "\n",
       "                                           vh_image_path  \\\n",
       "7841   ../data/train/train/nebraska_20170213t002121/t...   \n",
       "9913   ../data/train/train/nebraska_20170402t002111/t...   \n",
       "15415  ../data/train/train/nebraska_20171116t002120/t...   \n",
       "18096  ../data/train/train/nebraska_20171222t002118/t...   \n",
       "7799   ../data/train/train/nebraska_20170213t002121/t...   \n",
       "17436  ../data/train/train/nebraska_20171222t002118/t...   \n",
       "10712  ../data/train/train/nebraska_20170508t002113/t...   \n",
       "16913  ../data/train/train/nebraska_20171210t002119/t...   \n",
       "14066  ../data/train/train/nebraska_20170731t002118/t...   \n",
       "15107  ../data/train/train/nebraska_20170929t002120/t...   \n",
       "\n",
       "                                        flood_label_path  \\\n",
       "7841   ../data/train/train/nebraska_20170213t002121/t...   \n",
       "9913   ../data/train/train/nebraska_20170402t002111/t...   \n",
       "15415  ../data/train/train/nebraska_20171116t002120/t...   \n",
       "18096  ../data/train/train/nebraska_20171222t002118/t...   \n",
       "7799   ../data/train/train/nebraska_20170213t002121/t...   \n",
       "17436  ../data/train/train/nebraska_20171222t002118/t...   \n",
       "10712  ../data/train/train/nebraska_20170508t002113/t...   \n",
       "16913  ../data/train/train/nebraska_20171210t002119/t...   \n",
       "14066  ../data/train/train/nebraska_20170731t002118/t...   \n",
       "15107  ../data/train/train/nebraska_20170929t002120/t...   \n",
       "\n",
       "                                   water_body_label_path    region  has_mask  \\\n",
       "7841   ../data/train/train/nebraska_20170213t002121/t...  nebraska      True   \n",
       "9913   ../data/train/train/nebraska_20170402t002111/t...  nebraska      True   \n",
       "15415  ../data/train/train/nebraska_20171116t002120/t...  nebraska      True   \n",
       "18096  ../data/train/train/nebraska_20171222t002118/t...  nebraska      True   \n",
       "7799   ../data/train/train/nebraska_20170213t002121/t...  nebraska      True   \n",
       "17436  ../data/train/train/nebraska_20171222t002118/t...  nebraska      True   \n",
       "10712  ../data/train/train/nebraska_20170508t002113/t...  nebraska      True   \n",
       "16913  ../data/train/train/nebraska_20171210t002119/t...  nebraska      True   \n",
       "14066  ../data/train/train/nebraska_20170731t002118/t...  nebraska      True   \n",
       "15107  ../data/train/train/nebraska_20170929t002120/t...  nebraska      True   \n",
       "\n",
       "       invalid  \n",
       "7841      True  \n",
       "9913      True  \n",
       "15415     True  \n",
       "18096     True  \n",
       "7799      True  \n",
       "17436     True  \n",
       "10712     True  \n",
       "16913     True  \n",
       "14066     True  \n",
       "15107     True  "
      ]
     },
     "execution_count": 10,
     "metadata": {},
     "output_type": "execute_result"
    }
   ],
   "source": [
    "train_df[(train_df['invalid']==True) & (train_df['has_mask']==True)].sample(10)"
   ]
  },
  {
   "cell_type": "markdown",
   "id": "708abcaa-51a7-4586-a5b8-8b647bbacdb1",
   "metadata": {},
   "source": [
    "## Remove Invalid"
   ]
  },
  {
   "cell_type": "code",
   "execution_count": 11,
   "id": "ba40d8bd-0128-464a-bdef-8c99d5d1ab53",
   "metadata": {},
   "outputs": [],
   "source": [
    "train_df = train_df[train_df['invalid']!=True]\n",
    "val_df = val_df[val_df['invalid']!=True]"
   ]
  },
  {
   "cell_type": "markdown",
   "id": "1e2d3bb2-fa6c-4bc8-8b8d-5bf5ec3fe758",
   "metadata": {},
   "source": [
    "## Split val -> val, test"
   ]
  },
  {
   "cell_type": "code",
   "execution_count": 12,
   "id": "a7cf0983-8401-40d3-bf34-4dd500b3d712",
   "metadata": {},
   "outputs": [],
   "source": [
    "val, test = train_test_split(val_df, stratify=val_df['has_mask'], test_size=0.5)"
   ]
  },
  {
   "cell_type": "markdown",
   "id": "b1c4e349-1f63-4af2-9618-bdfb4ee6604b",
   "metadata": {},
   "source": [
    "## Save final product to CSV"
   ]
  },
  {
   "cell_type": "code",
   "execution_count": 13,
   "id": "f4a4a9d8-96b7-4e91-8dad-f65267baeddb",
   "metadata": {},
   "outputs": [],
   "source": [
    "train_df.to_csv('../data/train.csv')\n",
    "val.to_csv('../data/val.csv')\n",
    "test.to_csv('../data/test.csv')"
   ]
  },
  {
   "cell_type": "markdown",
   "id": "0b9745b2-65c7-4e03-94f9-e129eacb0bc1",
   "metadata": {},
   "source": [
    "## Exploration"
   ]
  },
  {
   "cell_type": "code",
   "execution_count": 14,
   "id": "72a23b2e-0c24-4c1f-a0c5-6c64dc5d372a",
   "metadata": {},
   "outputs": [
    {
     "name": "stdout",
     "output_type": "stream",
     "text": [
      "Train: (25015, 7)\n",
      "Val: (3294, 7)\n",
      "Test: (3295, 7)\n"
     ]
    }
   ],
   "source": [
    "print(f'Train: {train_df.shape}')\n",
    "print(f'Val: {val.shape}')\n",
    "print(f'Test: {test.shape}')"
   ]
  },
  {
   "cell_type": "code",
   "execution_count": 15,
   "id": "fe1d5b14-27b6-4f53-afe3-1eb2c130da12",
   "metadata": {},
   "outputs": [
    {
     "name": "stdout",
     "output_type": "stream",
     "text": [
      "Train: (10292, 7)\n",
      "Val: (1534, 7)\n",
      "Test: (1535, 7)\n"
     ]
    }
   ],
   "source": [
    "print(f'Train: {train_df[train_df.has_mask==True].shape}')\n",
    "print(f'Val: {val[val.has_mask==True].shape}')\n",
    "print(f'Test: {test[test.has_mask==True].shape}')"
   ]
  },
  {
   "cell_type": "code",
   "execution_count": 23,
   "id": "6b2e5de4-42cc-4db5-ad9e-bb3100a5a368",
   "metadata": {},
   "outputs": [],
   "source": [
    "train_df = pd.read_csv('../data/train.csv', index_col=0)\n",
    "train_df['Set'] = 'Train'\n",
    "\n",
    "val_df = pd.read_csv('../data/val.csv', index_col=0)\n",
    "val_df['Set'] = 'Val'\n",
    "\n",
    "test_df = pd.read_csv('../data/test.csv', index_col=0)\n",
    "test_df['Set'] = 'Test'\n",
    "\n",
    "df = pd.concat([train_df, val_df, test_df])"
   ]
  },
  {
   "cell_type": "code",
   "execution_count": 29,
   "id": "ff71a353-e02d-494a-b401-0d30e4f6cb85",
   "metadata": {},
   "outputs": [
    {
     "data": {
      "text/html": [
       "<div>\n",
       "<style scoped>\n",
       "    .dataframe tbody tr th:only-of-type {\n",
       "        vertical-align: middle;\n",
       "    }\n",
       "\n",
       "    .dataframe tbody tr th {\n",
       "        vertical-align: top;\n",
       "    }\n",
       "\n",
       "    .dataframe thead th {\n",
       "        text-align: right;\n",
       "    }\n",
       "</style>\n",
       "<table border=\"1\" class=\"dataframe\">\n",
       "  <thead>\n",
       "    <tr style=\"text-align: right;\">\n",
       "      <th>has_mask</th>\n",
       "      <th>False</th>\n",
       "      <th>True</th>\n",
       "      <th>All</th>\n",
       "    </tr>\n",
       "    <tr>\n",
       "      <th>Set</th>\n",
       "      <th></th>\n",
       "      <th></th>\n",
       "      <th></th>\n",
       "    </tr>\n",
       "  </thead>\n",
       "  <tbody>\n",
       "    <tr>\n",
       "      <th>Test</th>\n",
       "      <td>1760</td>\n",
       "      <td>1535</td>\n",
       "      <td>3295</td>\n",
       "    </tr>\n",
       "    <tr>\n",
       "      <th>Train</th>\n",
       "      <td>14723</td>\n",
       "      <td>10292</td>\n",
       "      <td>25015</td>\n",
       "    </tr>\n",
       "    <tr>\n",
       "      <th>Val</th>\n",
       "      <td>1760</td>\n",
       "      <td>1534</td>\n",
       "      <td>3294</td>\n",
       "    </tr>\n",
       "    <tr>\n",
       "      <th>All</th>\n",
       "      <td>18243</td>\n",
       "      <td>13361</td>\n",
       "      <td>31604</td>\n",
       "    </tr>\n",
       "  </tbody>\n",
       "</table>\n",
       "</div>"
      ],
      "text/plain": [
       "has_mask  False   True    All\n",
       "Set                          \n",
       "Test       1760   1535   3295\n",
       "Train     14723  10292  25015\n",
       "Val        1760   1534   3294\n",
       "All       18243  13361  31604"
      ]
     },
     "execution_count": 29,
     "metadata": {},
     "output_type": "execute_result"
    }
   ],
   "source": [
    "pd.pivot_table(df, values='vh_image_path', index='Set', columns='has_mask',\n",
    "               aggfunc='count', margins=True)"
   ]
  },
  {
   "cell_type": "code",
   "execution_count": 127,
   "id": "9dc7218d-c5a4-4605-88dd-15b196ad8433",
   "metadata": {},
   "outputs": [
    {
     "data": {
      "text/plain": [
       "torch.Size([3, 256, 256])"
      ]
     },
     "execution_count": 127,
     "metadata": {},
     "output_type": "execute_result"
    }
   ],
   "source": [
    "from skimage.io import imread\n",
    "img = train_df.iloc[5]['vh_image_path']\n",
    "\n",
    "img = imread(img, as_gray=True)\n",
    "img = np.stack([img, img, img], axis=2)\n",
    "mask = img[:,:,0]\n",
    "\n",
    "# convert to tensor\n",
    "img = TF.to_tensor(img).float()\n",
    "mask = TF.to_tensor(mask).float()\n",
    "\n",
    "img.shape"
   ]
  },
  {
   "cell_type": "code",
   "execution_count": 128,
   "id": "df6ac169-9e62-4490-b277-f26346e1b816",
   "metadata": {},
   "outputs": [],
   "source": [
    "def segTransformer(image, mask):\n",
    "    _, img_w, img_h = image.shape\n",
    "    #Random horizontal flipping:\n",
    "    if np.random.random() > 0.5:\n",
    "        image = TF.hflip(image)\n",
    "        mask = TF.hflip(mask)\n",
    "        \n",
    "    #Random rotate:\n",
    "    if np.random.random() > 0.5:\n",
    "        angle = np.random.uniform(-30, 30)\n",
    "        image = TF.rotate(image, angle, fill=(1,1,1))\n",
    "        mask = TF.rotate(mask, angle, fill=(0,))\n",
    "        \n",
    "    #Random Affine\n",
    "    if np.random.random() > 0.4:\n",
    "        affine_param = T.RandomAffine.get_params(\n",
    "            degrees = [-30, 30], translate = [0.3,0.3],  \n",
    "            img_size = [img_w, img_h], scale_ranges = [1, 1.3], \n",
    "            shears = [2,2])\n",
    "        image = TF.affine(image, \n",
    "                          affine_param[0], affine_param[1],\n",
    "                          affine_param[2], affine_param[3], fill=(1,1,1)\n",
    "                         )\n",
    "        mask = TF.affine(mask, \n",
    "                         affine_param[0], affine_param[1],\n",
    "                         affine_param[2], affine_param[3], fill=(0,)\n",
    "                        )\n",
    "    \n",
    "    \n",
    "    return {\n",
    "        'image': image,\n",
    "        'mask': mask\n",
    "    }"
   ]
  },
  {
   "cell_type": "code",
   "execution_count": 129,
   "id": "d6bfa55b-482a-42a2-9938-4d2aa2363fc9",
   "metadata": {},
   "outputs": [
    {
     "data": {
      "text/plain": [
       "torch.Size([3, 256, 256])"
      ]
     },
     "execution_count": 129,
     "metadata": {},
     "output_type": "execute_result"
    }
   ],
   "source": [
    "sample = segTransformer(img, mask)\n",
    "sample['image'].shape"
   ]
  },
  {
   "cell_type": "code",
   "execution_count": 132,
   "id": "5fe06159-f1d3-40fb-b8b1-b44eb3fe7970",
   "metadata": {},
   "outputs": [
    {
     "data": {
      "text/plain": [
       "torch.Size([256, 256])"
      ]
     },
     "execution_count": 132,
     "metadata": {},
     "output_type": "execute_result"
    }
   ],
   "source": [
    "sample['mask'].squeeze().shape"
   ]
  }
 ],
 "metadata": {
  "kernelspec": {
   "display_name": "sar-env",
   "language": "python",
   "name": "sar-env"
  },
  "language_info": {
   "codemirror_mode": {
    "name": "ipython",
    "version": 3
   },
   "file_extension": ".py",
   "mimetype": "text/x-python",
   "name": "python",
   "nbconvert_exporter": "python",
   "pygments_lexer": "ipython3",
   "version": "3.9.16"
  }
 },
 "nbformat": 4,
 "nbformat_minor": 5
}
