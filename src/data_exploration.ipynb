{
 "cells": [
  {
   "cell_type": "code",
   "execution_count": 1,
   "id": "dda3cadf-cdba-4d66-8eab-39fe43815d97",
   "metadata": {},
   "outputs": [
    {
     "name": "stdout",
     "output_type": "stream",
     "text": [
      "/home/genrev_kiel_hizon/SAR_flood_segmentation/src\n"
     ]
    }
   ],
   "source": [
    "!pwd\n",
    "# os.chdir('../')\n",
    "# !pwd\n",
    "\n",
    "from glob import glob\n",
    "from matplotlib import pyplot as plt\n",
    "import numpy as np\n",
    "import os\n",
    "from skimage.io import imread\n",
    "import numpy as np\n",
    "import pandas as pd\n",
    "import df_utils\n",
    "from pytorch_lightning import seed_everything\n",
    "from sklearn.model_selection import train_test_split"
   ]
  },
  {
   "cell_type": "markdown",
   "id": "57cd7fa7-a3c5-4bdb-b7e6-a2497a307ba2",
   "metadata": {},
   "source": [
    "## Generate Annotations CSV"
   ]
  },
  {
   "cell_type": "code",
   "execution_count": 2,
   "id": "0ad72091-411c-4c94-9e82-7b8ddbd10dbe",
   "metadata": {},
   "outputs": [
    {
     "name": "stderr",
     "output_type": "stream",
     "text": [
      "Global seed set to 42\n"
     ]
    },
    {
     "data": {
      "text/plain": [
       "42"
      ]
     },
     "execution_count": 2,
     "metadata": {},
     "output_type": "execute_result"
    }
   ],
   "source": [
    "seed_everything(42, workers=True)"
   ]
  },
  {
   "cell_type": "code",
   "execution_count": 3,
   "id": "7cbf75aa-9a37-4d54-aae6-32e84a47ece8",
   "metadata": {},
   "outputs": [
    {
     "data": {
      "text/html": [
       "<div>\n",
       "<style scoped>\n",
       "    .dataframe tbody tr th:only-of-type {\n",
       "        vertical-align: middle;\n",
       "    }\n",
       "\n",
       "    .dataframe tbody tr th {\n",
       "        vertical-align: top;\n",
       "    }\n",
       "\n",
       "    .dataframe thead th {\n",
       "        text-align: right;\n",
       "    }\n",
       "</style>\n",
       "<table border=\"1\" class=\"dataframe\">\n",
       "  <thead>\n",
       "    <tr style=\"text-align: right;\">\n",
       "      <th></th>\n",
       "      <th>vv_image_path</th>\n",
       "      <th>vh_image_path</th>\n",
       "      <th>flood_label_path</th>\n",
       "      <th>water_body_label_path</th>\n",
       "      <th>region</th>\n",
       "    </tr>\n",
       "  </thead>\n",
       "  <tbody>\n",
       "    <tr>\n",
       "      <th>0</th>\n",
       "      <td>../data/train/train/bangladesh_20170314t115609...</td>\n",
       "      <td>../data/train/train/bangladesh_20170314t115609...</td>\n",
       "      <td>../data/train/train/bangladesh_20170314t115609...</td>\n",
       "      <td>../data/train/train/bangladesh_20170314t115609...</td>\n",
       "      <td>bangladesh</td>\n",
       "    </tr>\n",
       "    <tr>\n",
       "      <th>1</th>\n",
       "      <td>../data/train/train/bangladesh_20170314t115609...</td>\n",
       "      <td>../data/train/train/bangladesh_20170314t115609...</td>\n",
       "      <td>../data/train/train/bangladesh_20170314t115609...</td>\n",
       "      <td>../data/train/train/bangladesh_20170314t115609...</td>\n",
       "      <td>bangladesh</td>\n",
       "    </tr>\n",
       "    <tr>\n",
       "      <th>2</th>\n",
       "      <td>../data/train/train/bangladesh_20170314t115609...</td>\n",
       "      <td>../data/train/train/bangladesh_20170314t115609...</td>\n",
       "      <td>../data/train/train/bangladesh_20170314t115609...</td>\n",
       "      <td>../data/train/train/bangladesh_20170314t115609...</td>\n",
       "      <td>bangladesh</td>\n",
       "    </tr>\n",
       "    <tr>\n",
       "      <th>3</th>\n",
       "      <td>../data/train/train/bangladesh_20170314t115609...</td>\n",
       "      <td>../data/train/train/bangladesh_20170314t115609...</td>\n",
       "      <td>../data/train/train/bangladesh_20170314t115609...</td>\n",
       "      <td>../data/train/train/bangladesh_20170314t115609...</td>\n",
       "      <td>bangladesh</td>\n",
       "    </tr>\n",
       "    <tr>\n",
       "      <th>4</th>\n",
       "      <td>../data/train/train/bangladesh_20170314t115609...</td>\n",
       "      <td>../data/train/train/bangladesh_20170314t115609...</td>\n",
       "      <td>../data/train/train/bangladesh_20170314t115609...</td>\n",
       "      <td>../data/train/train/bangladesh_20170314t115609...</td>\n",
       "      <td>bangladesh</td>\n",
       "    </tr>\n",
       "  </tbody>\n",
       "</table>\n",
       "</div>"
      ],
      "text/plain": [
       "                                       vv_image_path  \\\n",
       "0  ../data/train/train/bangladesh_20170314t115609...   \n",
       "1  ../data/train/train/bangladesh_20170314t115609...   \n",
       "2  ../data/train/train/bangladesh_20170314t115609...   \n",
       "3  ../data/train/train/bangladesh_20170314t115609...   \n",
       "4  ../data/train/train/bangladesh_20170314t115609...   \n",
       "\n",
       "                                       vh_image_path  \\\n",
       "0  ../data/train/train/bangladesh_20170314t115609...   \n",
       "1  ../data/train/train/bangladesh_20170314t115609...   \n",
       "2  ../data/train/train/bangladesh_20170314t115609...   \n",
       "3  ../data/train/train/bangladesh_20170314t115609...   \n",
       "4  ../data/train/train/bangladesh_20170314t115609...   \n",
       "\n",
       "                                    flood_label_path  \\\n",
       "0  ../data/train/train/bangladesh_20170314t115609...   \n",
       "1  ../data/train/train/bangladesh_20170314t115609...   \n",
       "2  ../data/train/train/bangladesh_20170314t115609...   \n",
       "3  ../data/train/train/bangladesh_20170314t115609...   \n",
       "4  ../data/train/train/bangladesh_20170314t115609...   \n",
       "\n",
       "                               water_body_label_path      region  \n",
       "0  ../data/train/train/bangladesh_20170314t115609...  bangladesh  \n",
       "1  ../data/train/train/bangladesh_20170314t115609...  bangladesh  \n",
       "2  ../data/train/train/bangladesh_20170314t115609...  bangladesh  \n",
       "3  ../data/train/train/bangladesh_20170314t115609...  bangladesh  \n",
       "4  ../data/train/train/bangladesh_20170314t115609...  bangladesh  "
      ]
     },
     "execution_count": 3,
     "metadata": {},
     "output_type": "execute_result"
    }
   ],
   "source": [
    "train_df = df_utils.create_df('../data/train/train/')\n",
    "train_df.head()"
   ]
  },
  {
   "cell_type": "code",
   "execution_count": 4,
   "id": "9eeda066-e4a5-433b-bf8a-ff72444f5255",
   "metadata": {},
   "outputs": [
    {
     "data": {
      "text/html": [
       "<div>\n",
       "<style scoped>\n",
       "    .dataframe tbody tr th:only-of-type {\n",
       "        vertical-align: middle;\n",
       "    }\n",
       "\n",
       "    .dataframe tbody tr th {\n",
       "        vertical-align: top;\n",
       "    }\n",
       "\n",
       "    .dataframe thead th {\n",
       "        text-align: right;\n",
       "    }\n",
       "</style>\n",
       "<table border=\"1\" class=\"dataframe\">\n",
       "  <thead>\n",
       "    <tr style=\"text-align: right;\">\n",
       "      <th></th>\n",
       "      <th>vv_image_path</th>\n",
       "      <th>vh_image_path</th>\n",
       "      <th>flood_label_path</th>\n",
       "      <th>water_body_label_path</th>\n",
       "      <th>region</th>\n",
       "    </tr>\n",
       "  </thead>\n",
       "  <tbody>\n",
       "    <tr>\n",
       "      <th>0</th>\n",
       "      <td>../data/val_with_ref_labels/test/florence_2018...</td>\n",
       "      <td>../data/val_with_ref_labels/test/florence_2018...</td>\n",
       "      <td>../data/val_with_ref_labels/test/florence_2018...</td>\n",
       "      <td>../data/val_with_ref_labels/test/florence_2018...</td>\n",
       "      <td>florence</td>\n",
       "    </tr>\n",
       "    <tr>\n",
       "      <th>1</th>\n",
       "      <td>../data/val_with_ref_labels/test/florence_2018...</td>\n",
       "      <td>../data/val_with_ref_labels/test/florence_2018...</td>\n",
       "      <td>../data/val_with_ref_labels/test/florence_2018...</td>\n",
       "      <td>../data/val_with_ref_labels/test/florence_2018...</td>\n",
       "      <td>florence</td>\n",
       "    </tr>\n",
       "    <tr>\n",
       "      <th>2</th>\n",
       "      <td>../data/val_with_ref_labels/test/florence_2018...</td>\n",
       "      <td>../data/val_with_ref_labels/test/florence_2018...</td>\n",
       "      <td>../data/val_with_ref_labels/test/florence_2018...</td>\n",
       "      <td>../data/val_with_ref_labels/test/florence_2018...</td>\n",
       "      <td>florence</td>\n",
       "    </tr>\n",
       "    <tr>\n",
       "      <th>3</th>\n",
       "      <td>../data/val_with_ref_labels/test/florence_2018...</td>\n",
       "      <td>../data/val_with_ref_labels/test/florence_2018...</td>\n",
       "      <td>../data/val_with_ref_labels/test/florence_2018...</td>\n",
       "      <td>../data/val_with_ref_labels/test/florence_2018...</td>\n",
       "      <td>florence</td>\n",
       "    </tr>\n",
       "    <tr>\n",
       "      <th>4</th>\n",
       "      <td>../data/val_with_ref_labels/test/florence_2018...</td>\n",
       "      <td>../data/val_with_ref_labels/test/florence_2018...</td>\n",
       "      <td>../data/val_with_ref_labels/test/florence_2018...</td>\n",
       "      <td>../data/val_with_ref_labels/test/florence_2018...</td>\n",
       "      <td>florence</td>\n",
       "    </tr>\n",
       "  </tbody>\n",
       "</table>\n",
       "</div>"
      ],
      "text/plain": [
       "                                       vv_image_path  \\\n",
       "0  ../data/val_with_ref_labels/test/florence_2018...   \n",
       "1  ../data/val_with_ref_labels/test/florence_2018...   \n",
       "2  ../data/val_with_ref_labels/test/florence_2018...   \n",
       "3  ../data/val_with_ref_labels/test/florence_2018...   \n",
       "4  ../data/val_with_ref_labels/test/florence_2018...   \n",
       "\n",
       "                                       vh_image_path  \\\n",
       "0  ../data/val_with_ref_labels/test/florence_2018...   \n",
       "1  ../data/val_with_ref_labels/test/florence_2018...   \n",
       "2  ../data/val_with_ref_labels/test/florence_2018...   \n",
       "3  ../data/val_with_ref_labels/test/florence_2018...   \n",
       "4  ../data/val_with_ref_labels/test/florence_2018...   \n",
       "\n",
       "                                    flood_label_path  \\\n",
       "0  ../data/val_with_ref_labels/test/florence_2018...   \n",
       "1  ../data/val_with_ref_labels/test/florence_2018...   \n",
       "2  ../data/val_with_ref_labels/test/florence_2018...   \n",
       "3  ../data/val_with_ref_labels/test/florence_2018...   \n",
       "4  ../data/val_with_ref_labels/test/florence_2018...   \n",
       "\n",
       "                               water_body_label_path    region  \n",
       "0  ../data/val_with_ref_labels/test/florence_2018...  florence  \n",
       "1  ../data/val_with_ref_labels/test/florence_2018...  florence  \n",
       "2  ../data/val_with_ref_labels/test/florence_2018...  florence  \n",
       "3  ../data/val_with_ref_labels/test/florence_2018...  florence  \n",
       "4  ../data/val_with_ref_labels/test/florence_2018...  florence  "
      ]
     },
     "execution_count": 4,
     "metadata": {},
     "output_type": "execute_result"
    }
   ],
   "source": [
    "val_df = df_utils.create_df('../data/val_with_ref_labels/test')\n",
    "val_df.head()"
   ]
  },
  {
   "cell_type": "code",
   "execution_count": 5,
   "id": "ea751e6c-4ea0-4911-91c8-a150553d62a2",
   "metadata": {},
   "outputs": [
    {
     "data": {
      "text/plain": [
       "0.44073486328125"
      ]
     },
     "execution_count": 5,
     "metadata": {},
     "output_type": "execute_result"
    }
   ],
   "source": [
    "image = imread(train_df.iloc[77]['flood_label_path'], as_gray=True)\n",
    "np.mean(image)"
   ]
  },
  {
   "cell_type": "code",
   "execution_count": 6,
   "id": "d9d1b98f-cda1-4ad1-a5b0-7162c551fcbb",
   "metadata": {},
   "outputs": [
    {
     "data": {
      "text/plain": [
       "<matplotlib.image.AxesImage at 0x7fc5a547cd90>"
      ]
     },
     "execution_count": 6,
     "metadata": {},
     "output_type": "execute_result"
    },
    {
     "data": {
      "image/png": "[encoded data removed]",
      "text/plain": [
       "<Figure size 640x480 with 1 Axes>"
      ]
     },
     "metadata": {},
     "output_type": "display_data"
    }
   ],
   "source": [
    "plt.imshow(image, cmap='gray')"
   ]
  },
  {
   "cell_type": "markdown",
   "id": "24a971fb-ce9f-4c95-807b-ae7c86c55d09",
   "metadata": {},
   "source": [
    "## Find images with significant flooding"
   ]
  },
  {
   "cell_type": "code",
   "execution_count": 7,
   "id": "c1df400e-4c4e-4e86-b0f2-3d7c90984c0b",
   "metadata": {},
   "outputs": [],
   "source": [
    "train_df['has_mask'] = train_df['flood_label_path'].apply(df_utils.has_mask)"
   ]
  },
  {
   "cell_type": "code",
   "execution_count": 8,
   "id": "7ae91fab-b322-498c-9e52-c1688fc0070d",
   "metadata": {},
   "outputs": [],
   "source": [
    "val_df['has_mask'] = val_df['flood_label_path'].apply(df_utils.has_mask)"
   ]
  },
  {
   "cell_type": "code",
   "execution_count": 9,
   "id": "18f271d9-0b0b-4917-bad3-6713eb741194",
   "metadata": {},
   "outputs": [
    {
     "data": {
      "text/plain": [
       "False    22471\n",
       "True     10934\n",
       "Name: has_mask, dtype: int64"
      ]
     },
     "execution_count": 9,
     "metadata": {},
     "output_type": "execute_result"
    }
   ],
   "source": [
    "train_df['has_mask'].value_counts()"
   ]
  },
  {
   "cell_type": "code",
   "execution_count": 10,
   "id": "7a86a1d8-cdc6-44eb-9dac-f2e63afd5069",
   "metadata": {},
   "outputs": [
    {
     "data": {
      "text/plain": [
       "False    7290\n",
       "True     3110\n",
       "Name: has_mask, dtype: int64"
      ]
     },
     "execution_count": 10,
     "metadata": {},
     "output_type": "execute_result"
    }
   ],
   "source": [
    "val_df['has_mask'].value_counts()"
   ]
  },
  {
   "cell_type": "markdown",
   "id": "96b0e314-121f-4d3a-8f9d-ca823a86c908",
   "metadata": {
    "tags": []
   },
   "source": [
    "## Find images where the satellite image is binary (invalid)"
   ]
  },
  {
   "cell_type": "code",
   "execution_count": 12,
   "id": "bf7d0445-53a6-414b-8ddb-44083a2af6ab",
   "metadata": {},
   "outputs": [],
   "source": [
    "train_df['invalid'] = (train_df['vv_image_path'].apply(df_utils.remove_binary))\n",
    "val_df['invalid'] = (val_df['vv_image_path'].apply(df_utils.remove_binary))"
   ]
  },
  {
   "cell_type": "code",
   "execution_count": 90,
   "id": "b5b6f839-07ff-4cbd-afc0-ddcbd577220f",
   "metadata": {},
   "outputs": [
    {
     "data": {
      "text/html": [
       "<div>\n",
       "<style scoped>\n",
       "    .dataframe tbody tr th:only-of-type {\n",
       "        vertical-align: middle;\n",
       "    }\n",
       "\n",
       "    .dataframe tbody tr th {\n",
       "        vertical-align: top;\n",
       "    }\n",
       "\n",
       "    .dataframe thead th {\n",
       "        text-align: right;\n",
       "    }\n",
       "</style>\n",
       "<table border=\"1\" class=\"dataframe\">\n",
       "  <thead>\n",
       "    <tr style=\"text-align: right;\">\n",
       "      <th></th>\n",
       "      <th>vv_image_path</th>\n",
       "      <th>vh_image_path</th>\n",
       "      <th>flood_label_path</th>\n",
       "      <th>water_body_label_path</th>\n",
       "      <th>region</th>\n",
       "      <th>has_mask</th>\n",
       "      <th>invalid</th>\n",
       "    </tr>\n",
       "  </thead>\n",
       "  <tbody>\n",
       "    <tr>\n",
       "      <th>18103</th>\n",
       "      <td>../data/train/train/nebraska_20171222t002118/t...</td>\n",
       "      <td>../data/train/train/nebraska_20171222t002118/t...</td>\n",
       "      <td>../data/train/train/nebraska_20171222t002118/t...</td>\n",
       "      <td>../data/train/train/nebraska_20171222t002118/t...</td>\n",
       "      <td>nebraska</td>\n",
       "      <td>True</td>\n",
       "      <td>True</td>\n",
       "    </tr>\n",
       "    <tr>\n",
       "      <th>17437</th>\n",
       "      <td>../data/train/train/nebraska_20171222t002118/t...</td>\n",
       "      <td>../data/train/train/nebraska_20171222t002118/t...</td>\n",
       "      <td>../data/train/train/nebraska_20171222t002118/t...</td>\n",
       "      <td>../data/train/train/nebraska_20171222t002118/t...</td>\n",
       "      <td>nebraska</td>\n",
       "      <td>True</td>\n",
       "      <td>True</td>\n",
       "    </tr>\n",
       "    <tr>\n",
       "      <th>13170</th>\n",
       "      <td>../data/train/train/nebraska_20170601t002114/t...</td>\n",
       "      <td>../data/train/train/nebraska_20170601t002114/t...</td>\n",
       "      <td>../data/train/train/nebraska_20170601t002114/t...</td>\n",
       "      <td>../data/train/train/nebraska_20170601t002114/t...</td>\n",
       "      <td>nebraska</td>\n",
       "      <td>True</td>\n",
       "      <td>True</td>\n",
       "    </tr>\n",
       "    <tr>\n",
       "      <th>12243</th>\n",
       "      <td>../data/train/train/nebraska_20170601t002114/t...</td>\n",
       "      <td>../data/train/train/nebraska_20170601t002114/t...</td>\n",
       "      <td>../data/train/train/nebraska_20170601t002114/t...</td>\n",
       "      <td>../data/train/train/nebraska_20170601t002114/t...</td>\n",
       "      <td>nebraska</td>\n",
       "      <td>True</td>\n",
       "      <td>True</td>\n",
       "    </tr>\n",
       "    <tr>\n",
       "      <th>14875</th>\n",
       "      <td>../data/train/train/nebraska_20170929t002120/t...</td>\n",
       "      <td>../data/train/train/nebraska_20170929t002120/t...</td>\n",
       "      <td>../data/train/train/nebraska_20170929t002120/t...</td>\n",
       "      <td>../data/train/train/nebraska_20170929t002120/t...</td>\n",
       "      <td>nebraska</td>\n",
       "      <td>True</td>\n",
       "      <td>True</td>\n",
       "    </tr>\n",
       "    <tr>\n",
       "      <th>14114</th>\n",
       "      <td>../data/train/train/nebraska_20170731t002118/t...</td>\n",
       "      <td>../data/train/train/nebraska_20170731t002118/t...</td>\n",
       "      <td>../data/train/train/nebraska_20170731t002118/t...</td>\n",
       "      <td>../data/train/train/nebraska_20170731t002118/t...</td>\n",
       "      <td>nebraska</td>\n",
       "      <td>True</td>\n",
       "      <td>True</td>\n",
       "    </tr>\n",
       "    <tr>\n",
       "      <th>14094</th>\n",
       "      <td>../data/train/train/nebraska_20170731t002118/t...</td>\n",
       "      <td>../data/train/train/nebraska_20170731t002118/t...</td>\n",
       "      <td>../data/train/train/nebraska_20170731t002118/t...</td>\n",
       "      <td>../data/train/train/nebraska_20170731t002118/t...</td>\n",
       "      <td>nebraska</td>\n",
       "      <td>True</td>\n",
       "      <td>True</td>\n",
       "    </tr>\n",
       "    <tr>\n",
       "      <th>14895</th>\n",
       "      <td>../data/train/train/nebraska_20170929t002120/t...</td>\n",
       "      <td>../data/train/train/nebraska_20170929t002120/t...</td>\n",
       "      <td>../data/train/train/nebraska_20170929t002120/t...</td>\n",
       "      <td>../data/train/train/nebraska_20170929t002120/t...</td>\n",
       "      <td>nebraska</td>\n",
       "      <td>True</td>\n",
       "      <td>True</td>\n",
       "    </tr>\n",
       "    <tr>\n",
       "      <th>15431</th>\n",
       "      <td>../data/train/train/nebraska_20171116t002120/t...</td>\n",
       "      <td>../data/train/train/nebraska_20171116t002120/t...</td>\n",
       "      <td>../data/train/train/nebraska_20171116t002120/t...</td>\n",
       "      <td>../data/train/train/nebraska_20171116t002120/t...</td>\n",
       "      <td>nebraska</td>\n",
       "      <td>True</td>\n",
       "      <td>True</td>\n",
       "    </tr>\n",
       "    <tr>\n",
       "      <th>10237</th>\n",
       "      <td>../data/train/train/nebraska_20170508t002113/t...</td>\n",
       "      <td>../data/train/train/nebraska_20170508t002113/t...</td>\n",
       "      <td>../data/train/train/nebraska_20170508t002113/t...</td>\n",
       "      <td>../data/train/train/nebraska_20170508t002113/t...</td>\n",
       "      <td>nebraska</td>\n",
       "      <td>True</td>\n",
       "      <td>True</td>\n",
       "    </tr>\n",
       "    <tr>\n",
       "      <th>13085</th>\n",
       "      <td>../data/train/train/nebraska_20170601t002114/t...</td>\n",
       "      <td>../data/train/train/nebraska_20170601t002114/t...</td>\n",
       "      <td>../data/train/train/nebraska_20170601t002114/t...</td>\n",
       "      <td>../data/train/train/nebraska_20170601t002114/t...</td>\n",
       "      <td>nebraska</td>\n",
       "      <td>True</td>\n",
       "      <td>True</td>\n",
       "    </tr>\n",
       "    <tr>\n",
       "      <th>8901</th>\n",
       "      <td>../data/train/train/nebraska_20170309t002110/t...</td>\n",
       "      <td>../data/train/train/nebraska_20170309t002110/t...</td>\n",
       "      <td>../data/train/train/nebraska_20170309t002110/t...</td>\n",
       "      <td>../data/train/train/nebraska_20170309t002110/t...</td>\n",
       "      <td>nebraska</td>\n",
       "      <td>True</td>\n",
       "      <td>True</td>\n",
       "    </tr>\n",
       "    <tr>\n",
       "      <th>9243</th>\n",
       "      <td>../data/train/train/nebraska_20170402t002111/t...</td>\n",
       "      <td>../data/train/train/nebraska_20170402t002111/t...</td>\n",
       "      <td>../data/train/train/nebraska_20170402t002111/t...</td>\n",
       "      <td>../data/train/train/nebraska_20170402t002111/t...</td>\n",
       "      <td>nebraska</td>\n",
       "      <td>True</td>\n",
       "      <td>True</td>\n",
       "    </tr>\n",
       "    <tr>\n",
       "      <th>17138</th>\n",
       "      <td>../data/train/train/nebraska_20171210t002119/t...</td>\n",
       "      <td>../data/train/train/nebraska_20171210t002119/t...</td>\n",
       "      <td>../data/train/train/nebraska_20171210t002119/t...</td>\n",
       "      <td>../data/train/train/nebraska_20171210t002119/t...</td>\n",
       "      <td>nebraska</td>\n",
       "      <td>True</td>\n",
       "      <td>True</td>\n",
       "    </tr>\n",
       "    <tr>\n",
       "      <th>13055</th>\n",
       "      <td>../data/train/train/nebraska_20170601t002114/t...</td>\n",
       "      <td>../data/train/train/nebraska_20170601t002114/t...</td>\n",
       "      <td>../data/train/train/nebraska_20170601t002114/t...</td>\n",
       "      <td>../data/train/train/nebraska_20170601t002114/t...</td>\n",
       "      <td>nebraska</td>\n",
       "      <td>True</td>\n",
       "      <td>True</td>\n",
       "    </tr>\n",
       "  </tbody>\n",
       "</table>\n",
       "</div>"
      ],
      "text/plain": [
       "                                           vv_image_path  \\\n",
       "18103  ../data/train/train/nebraska_20171222t002118/t...   \n",
       "17437  ../data/train/train/nebraska_20171222t002118/t...   \n",
       "13170  ../data/train/train/nebraska_20170601t002114/t...   \n",
       "12243  ../data/train/train/nebraska_20170601t002114/t...   \n",
       "14875  ../data/train/train/nebraska_20170929t002120/t...   \n",
       "14114  ../data/train/train/nebraska_20170731t002118/t...   \n",
       "14094  ../data/train/train/nebraska_20170731t002118/t...   \n",
       "14895  ../data/train/train/nebraska_20170929t002120/t...   \n",
       "15431  ../data/train/train/nebraska_20171116t002120/t...   \n",
       "10237  ../data/train/train/nebraska_20170508t002113/t...   \n",
       "13085  ../data/train/train/nebraska_20170601t002114/t...   \n",
       "8901   ../data/train/train/nebraska_20170309t002110/t...   \n",
       "9243   ../data/train/train/nebraska_20170402t002111/t...   \n",
       "17138  ../data/train/train/nebraska_20171210t002119/t...   \n",
       "13055  ../data/train/train/nebraska_20170601t002114/t...   \n",
       "\n",
       "                                           vh_image_path  \\\n",
       "18103  ../data/train/train/nebraska_20171222t002118/t...   \n",
       "17437  ../data/train/train/nebraska_20171222t002118/t...   \n",
       "13170  ../data/train/train/nebraska_20170601t002114/t...   \n",
       "12243  ../data/train/train/nebraska_20170601t002114/t...   \n",
       "14875  ../data/train/train/nebraska_20170929t002120/t...   \n",
       "14114  ../data/train/train/nebraska_20170731t002118/t...   \n",
       "14094  ../data/train/train/nebraska_20170731t002118/t...   \n",
       "14895  ../data/train/train/nebraska_20170929t002120/t...   \n",
       "15431  ../data/train/train/nebraska_20171116t002120/t...   \n",
       "10237  ../data/train/train/nebraska_20170508t002113/t...   \n",
       "13085  ../data/train/train/nebraska_20170601t002114/t...   \n",
       "8901   ../data/train/train/nebraska_20170309t002110/t...   \n",
       "9243   ../data/train/train/nebraska_20170402t002111/t...   \n",
       "17138  ../data/train/train/nebraska_20171210t002119/t...   \n",
       "13055  ../data/train/train/nebraska_20170601t002114/t...   \n",
       "\n",
       "                                        flood_label_path  \\\n",
       "18103  ../data/train/train/nebraska_20171222t002118/t...   \n",
       "17437  ../data/train/train/nebraska_20171222t002118/t...   \n",
       "13170  ../data/train/train/nebraska_20170601t002114/t...   \n",
       "12243  ../data/train/train/nebraska_20170601t002114/t...   \n",
       "14875  ../data/train/train/nebraska_20170929t002120/t...   \n",
       "14114  ../data/train/train/nebraska_20170731t002118/t...   \n",
       "14094  ../data/train/train/nebraska_20170731t002118/t...   \n",
       "14895  ../data/train/train/nebraska_20170929t002120/t...   \n",
       "15431  ../data/train/train/nebraska_20171116t002120/t...   \n",
       "10237  ../data/train/train/nebraska_20170508t002113/t...   \n",
       "13085  ../data/train/train/nebraska_20170601t002114/t...   \n",
       "8901   ../data/train/train/nebraska_20170309t002110/t...   \n",
       "9243   ../data/train/train/nebraska_20170402t002111/t...   \n",
       "17138  ../data/train/train/nebraska_20171210t002119/t...   \n",
       "13055  ../data/train/train/nebraska_20170601t002114/t...   \n",
       "\n",
       "                                   water_body_label_path    region  has_mask  \\\n",
       "18103  ../data/train/train/nebraska_20171222t002118/t...  nebraska      True   \n",
       "17437  ../data/train/train/nebraska_20171222t002118/t...  nebraska      True   \n",
       "13170  ../data/train/train/nebraska_20170601t002114/t...  nebraska      True   \n",
       "12243  ../data/train/train/nebraska_20170601t002114/t...  nebraska      True   \n",
       "14875  ../data/train/train/nebraska_20170929t002120/t...  nebraska      True   \n",
       "14114  ../data/train/train/nebraska_20170731t002118/t...  nebraska      True   \n",
       "14094  ../data/train/train/nebraska_20170731t002118/t...  nebraska      True   \n",
       "14895  ../data/train/train/nebraska_20170929t002120/t...  nebraska      True   \n",
       "15431  ../data/train/train/nebraska_20171116t002120/t...  nebraska      True   \n",
       "10237  ../data/train/train/nebraska_20170508t002113/t...  nebraska      True   \n",
       "13085  ../data/train/train/nebraska_20170601t002114/t...  nebraska      True   \n",
       "8901   ../data/train/train/nebraska_20170309t002110/t...  nebraska      True   \n",
       "9243   ../data/train/train/nebraska_20170402t002111/t...  nebraska      True   \n",
       "17138  ../data/train/train/nebraska_20171210t002119/t...  nebraska      True   \n",
       "13055  ../data/train/train/nebraska_20170601t002114/t...  nebraska      True   \n",
       "\n",
       "       invalid  \n",
       "18103     True  \n",
       "17437     True  \n",
       "13170     True  \n",
       "12243     True  \n",
       "14875     True  \n",
       "14114     True  \n",
       "14094     True  \n",
       "14895     True  \n",
       "15431     True  \n",
       "10237     True  \n",
       "13085     True  \n",
       "8901      True  \n",
       "9243      True  \n",
       "17138     True  \n",
       "13055     True  "
      ]
     },
     "execution_count": 90,
     "metadata": {},
     "output_type": "execute_result"
    }
   ],
   "source": [
    "train_df[(train_df['invalid']==True) & (train_df['has_mask']==True)].sample(15)"
   ]
  },
  {
   "cell_type": "code",
   "execution_count": 91,
   "id": "06d6d55e-7db9-4a00-b979-fd3efaec308a",
   "metadata": {},
   "outputs": [],
   "source": [
    "idx = 18103\n",
    "vv_img = imread(train_df.iloc[idx]['vv_image_path'], as_gray=True)\n",
    "vh_img = imread(train_df.iloc[idx]['vh_image_path'], as_gray=True)\n",
    "label_img = imread(train_df.iloc[idx]['flood_label_path'], as_gray=True)"
   ]
  },
  {
   "cell_type": "code",
   "execution_count": 80,
   "id": "f6c7d6fa-403c-4963-9e92-da01d8768e2b",
   "metadata": {},
   "outputs": [],
   "source": [
    "def visualize(images):\n",
    "    \"\"\"PLot images in one row.\"\"\"\n",
    "    n = len(images)\n",
    "    plt.figure(figsize=(16, 5))\n",
    "    for i, (name, image) in enumerate(images.items()):\n",
    "        plt.subplot(1, n, i + 1)\n",
    "        plt.xticks([])\n",
    "        plt.yticks([])\n",
    "        plt.title(' '.join(name.split('_')).title())\n",
    "        plt.imshow(image, cmap='gray')\n",
    "    plt.show()"
   ]
  },
  {
   "cell_type": "code",
   "execution_count": 92,
   "id": "c5fc28c3-d02a-4b45-8f63-c688d59be6fb",
   "metadata": {},
   "outputs": [
    {
     "data": {
      "image/png": "[encoded data removed]",
      "text/plain": [
       "<Figure size 1600x500 with 3 Axes>"
      ]
     },
     "metadata": {},
     "output_type": "display_data"
    }
   ],
   "source": [
    "images = {\n",
    "    'vv': vv_img,\n",
    "    'vh': vh_img,\n",
    "    'label': label_img,\n",
    "}\n",
    "visualize(images=images)"
   ]
  },
  {
   "cell_type": "markdown",
   "id": "e6225637-1448-4e0c-b8e6-cb55f039d138",
   "metadata": {},
   "source": [
    "## Save as csv"
   ]
  },
  {
   "cell_type": "code",
   "execution_count": 95,
   "id": "c44eab65-c34b-47dc-b30e-3d3b077139ec",
   "metadata": {},
   "outputs": [],
   "source": [
    "train_df.to_csv('../data/train.csv')\n",
    "val_df.to_csv('../data/val.csv')"
   ]
  },
  {
   "cell_type": "markdown",
   "id": "708abcaa-51a7-4586-a5b8-8b647bbacdb1",
   "metadata": {},
   "source": [
    "## Remove Invalid"
   ]
  },
  {
   "cell_type": "code",
   "execution_count": 4,
   "id": "c1d77169-22ed-4cde-b18f-92b152e76416",
   "metadata": {},
   "outputs": [],
   "source": [
    "val_df = pd.read_csv('../data/val.csv')\n",
    "train_df = pd.read_csv('../data/train.csv')"
   ]
  },
  {
   "cell_type": "code",
   "execution_count": 7,
   "id": "ba40d8bd-0128-464a-bdef-8c99d5d1ab53",
   "metadata": {},
   "outputs": [],
   "source": [
    "train_df = train_df[train_df['invalid']!=True]\n",
    "val_df = val_df[val_df['invalid']!=True]"
   ]
  },
  {
   "cell_type": "markdown",
   "id": "1e2d3bb2-fa6c-4bc8-8b8d-5bf5ec3fe758",
   "metadata": {},
   "source": [
    "## Split val -> val, test"
   ]
  },
  {
   "cell_type": "code",
   "execution_count": 18,
   "id": "a7cf0983-8401-40d3-bf34-4dd500b3d712",
   "metadata": {},
   "outputs": [],
   "source": [
    "val, test = train_test_split(val_df, stratify=val_df['has_mask'], test_size=0.5)"
   ]
  },
  {
   "cell_type": "code",
   "execution_count": 19,
   "id": "9c3f02e7-14d0-486a-a2eb-71b8dea0bab4",
   "metadata": {},
   "outputs": [],
   "source": [
    "val.drop('Unnamed: 0', axis=1, inplace=True)\n",
    "test.drop('Unnamed: 0', axis=1, inplace=True)"
   ]
  },
  {
   "cell_type": "markdown",
   "id": "b1c4e349-1f63-4af2-9618-bdfb4ee6604b",
   "metadata": {},
   "source": [
    "## Save final product to CSV"
   ]
  },
  {
   "cell_type": "code",
   "execution_count": 21,
   "id": "f4a4a9d8-96b7-4e91-8dad-f65267baeddb",
   "metadata": {},
   "outputs": [],
   "source": [
    "train_df.to_csv('../data/train.csv')\n",
    "val.to_csv('../data/val.csv')\n",
    "test.to_csv('../data/test.csv')"
   ]
  }
 ],
 "metadata": {
  "kernelspec": {
   "display_name": "sar-env",
   "language": "python",
   "name": "sar-env"
  },
  "language_info": {
   "codemirror_mode": {
    "name": "ipython",
    "version": 3
   },
   "file_extension": ".py",
   "mimetype": "text/x-python",
   "name": "python",
   "nbconvert_exporter": "python",
   "pygments_lexer": "ipython3",
   "version": "3.9.16"
  }
 },
 "nbformat": 4,
 "nbformat_minor": 5
}
