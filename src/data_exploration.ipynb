{
 "cells": [
  {
   "cell_type": "markdown",
   "id": "ce82b9e4-13f9-4658-a823-0bc795a136f2",
   "metadata": {},
   "source": [
    "# Sen1Floods11 Dataset"
   ]
  },
  {
   "cell_type": "code",
   "execution_count": 1,
   "id": "dda3cadf-cdba-4d66-8eab-39fe43815d97",
   "metadata": {},
   "outputs": [
    {
     "name": "stdout",
     "output_type": "stream",
     "text": [
      "/home/genrev_kiel_hizon/SAR_flood_segmentation\n"
     ]
    }
   ],
   "source": [
    "from glob import glob\n",
    "from matplotlib import pyplot as plt\n",
    "import numpy as np\n",
    "import os\n",
    "from skimage.io import imread, imshow\n",
    "import numpy as np\n",
    "import pandas as pd\n",
    "import seaborn as sns\n",
    "import df_utils\n",
    "from pytorch_lightning import seed_everything\n",
    "from sklearn.model_selection import train_test_split\n",
    "\n",
    "ROOT = os.path.dirname(os.getcwd())\n",
    "print(ROOT)"
   ]
  },
  {
   "cell_type": "code",
   "execution_count": 2,
   "id": "bc716772-2bf7-432f-a4c6-fa6841b398d5",
   "metadata": {},
   "outputs": [],
   "source": [
    "HAND_LABELED = os.path.join(ROOT, 'sen1floods11', 'flood_events', 'HandLabeled')\n",
    "WEAKLY_LABELED = os.path.join(ROOT, 'sen1floods11', 'flood_events', 'WeaklyLabeled')\n",
    "\n",
    "hl_folders = ['JRCWaterHand', 'LabelHand', 'S1Hand', 'S1OtsuLabelHand', 'S2Hand']\n",
    "wl_folders = ['S1OtsuLabelWeak', 'S1Weak', 'S2IndexLabelWeak']"
   ]
  },
  {
   "cell_type": "markdown",
   "id": "223576e1-d06f-4fbc-8dc2-f596f022a6ce",
   "metadata": {
    "tags": []
   },
   "source": [
    "## Generating the annotation CSV"
   ]
  },
  {
   "cell_type": "markdown",
   "id": "48d1449b-9f80-4fb5-a2ab-6dc16235f5db",
   "metadata": {
    "tags": []
   },
   "source": [
    "### Hand Labeled\n",
    "\n",
    "Train test split is already provided for the Hand Labeled images. Process the CSVs such that Region and the unique Image Id is left. The file path can be reconstructed during loading. Additionally, add the Bolivia images as the \"hold out\" set."
   ]
  },
  {
   "cell_type": "code",
   "execution_count": 3,
   "id": "68d899bd-1ef5-49d9-a6a3-fee2c860ad0d",
   "metadata": {},
   "outputs": [
    {
     "name": "stdout",
     "output_type": "stream",
     "text": [
      "JRCWaterHand: 446\n",
      "LabelHand: 446\n",
      "S1Hand: 446\n",
      "S1OtsuLabelHand: 446\n",
      "S2Hand: 446\n"
     ]
    }
   ],
   "source": [
    "for folder in hl_folders:\n",
    "    hl_images = glob(f'{os.path.join(HAND_LABELED, folder)}/*.tif')\n",
    "    hl_images = [hl_image.split('/')[8].replace(f'_{folder}.tif', '') for hl_image in hl_images]\n",
    "    print(f'{folder}: {len(hl_images)}')"
   ]
  },
  {
   "cell_type": "code",
   "execution_count": 4,
   "id": "4bf7a404-d702-42a1-b0a7-77de80813f58",
   "metadata": {},
   "outputs": [],
   "source": [
    "SPLITS = ['test', 'train', 'valid']\n",
    "hand_labeled = pd.DataFrame()\n",
    "for SPLIT in SPLITS:\n",
    "    FILE = os.path.join(ROOT, 'sen1floods11', f'flood_{SPLIT}_data.csv')\n",
    "    hl = pd.read_csv(FILE, header=None)\n",
    "    hl['Region'] = hl[0].str.split('_', expand=True)[0]\n",
    "    hl['Img_Id'] = hl[0].str.split('_', expand=True)[1]\n",
    "    hl['Split'] = SPLIT\n",
    "    hl.drop(columns=[0,1], inplace=True)\n",
    "    hand_labeled = pd.concat([hand_labeled, hl])"
   ]
  },
  {
   "cell_type": "code",
   "execution_count": 5,
   "id": "ca6e04d1-cc79-4b84-9c25-c09606cd4af5",
   "metadata": {},
   "outputs": [
    {
     "data": {
      "text/html": [
       "<div>\n",
       "<style scoped>\n",
       "    .dataframe tbody tr th:only-of-type {\n",
       "        vertical-align: middle;\n",
       "    }\n",
       "\n",
       "    .dataframe tbody tr th {\n",
       "        vertical-align: top;\n",
       "    }\n",
       "\n",
       "    .dataframe thead th {\n",
       "        text-align: right;\n",
       "    }\n",
       "</style>\n",
       "<table border=\"1\" class=\"dataframe\">\n",
       "  <thead>\n",
       "    <tr style=\"text-align: right;\">\n",
       "      <th></th>\n",
       "      <th>Region</th>\n",
       "      <th>Img_Id</th>\n",
       "      <th>Split</th>\n",
       "    </tr>\n",
       "  </thead>\n",
       "  <tbody>\n",
       "    <tr>\n",
       "      <th>89</th>\n",
       "      <td>USA</td>\n",
       "      <td>758178</td>\n",
       "      <td>test</td>\n",
       "    </tr>\n",
       "    <tr>\n",
       "      <th>40</th>\n",
       "      <td>India</td>\n",
       "      <td>979278</td>\n",
       "      <td>train</td>\n",
       "    </tr>\n",
       "    <tr>\n",
       "      <th>89</th>\n",
       "      <td>Nigeria</td>\n",
       "      <td>529525</td>\n",
       "      <td>train</td>\n",
       "    </tr>\n",
       "    <tr>\n",
       "      <th>92</th>\n",
       "      <td>Nigeria</td>\n",
       "      <td>707067</td>\n",
       "      <td>train</td>\n",
       "    </tr>\n",
       "    <tr>\n",
       "      <th>0</th>\n",
       "      <td>Ghana</td>\n",
       "      <td>5079</td>\n",
       "      <td>valid</td>\n",
       "    </tr>\n",
       "    <tr>\n",
       "      <th>249</th>\n",
       "      <td>USA</td>\n",
       "      <td>788696</td>\n",
       "      <td>train</td>\n",
       "    </tr>\n",
       "    <tr>\n",
       "      <th>79</th>\n",
       "      <td>USA</td>\n",
       "      <td>366607</td>\n",
       "      <td>valid</td>\n",
       "    </tr>\n",
       "    <tr>\n",
       "      <th>162</th>\n",
       "      <td>Somalia</td>\n",
       "      <td>32375</td>\n",
       "      <td>train</td>\n",
       "    </tr>\n",
       "    <tr>\n",
       "      <th>88</th>\n",
       "      <td>USA</td>\n",
       "      <td>504150</td>\n",
       "      <td>test</td>\n",
       "    </tr>\n",
       "    <tr>\n",
       "      <th>59</th>\n",
       "      <td>India</td>\n",
       "      <td>136196</td>\n",
       "      <td>train</td>\n",
       "    </tr>\n",
       "  </tbody>\n",
       "</table>\n",
       "</div>"
      ],
      "text/plain": [
       "      Region  Img_Id  Split\n",
       "89       USA  758178   test\n",
       "40     India  979278  train\n",
       "89   Nigeria  529525  train\n",
       "92   Nigeria  707067  train\n",
       "0      Ghana    5079  valid\n",
       "249      USA  788696  train\n",
       "79       USA  366607  valid\n",
       "162  Somalia   32375  train\n",
       "88       USA  504150   test\n",
       "59     India  136196  train"
      ]
     },
     "execution_count": 5,
     "metadata": {},
     "output_type": "execute_result"
    }
   ],
   "source": [
    "bolivia = glob(f'{os.path.join(HAND_LABELED, folder)}/Bolivia*.tif')\n",
    "bolivia = [img.split('/')[8].replace(f'_{folder}.tif', '') for img in bolivia]\n",
    "img_ids = [img.split('_')[1] for img in bolivia]\n",
    "\n",
    "bolivia_df = pd.DataFrame({\n",
    "    'Region': ['Bolivia'] * len(img_ids),\n",
    "    'Img_Id': img_ids,\n",
    "    'Split': ['hold out'] * len(img_ids)\n",
    "})\n",
    "\n",
    "hand_labeled = pd.concat([hand_labeled, bolivia_df])\n",
    "hand_labeled.sample(10)"
   ]
  },
  {
   "cell_type": "code",
   "execution_count": 6,
   "id": "53439a74-b88a-45ce-9298-df8515b12b19",
   "metadata": {},
   "outputs": [],
   "source": [
    "hand_labeled.to_csv(os.path.join(ROOT, 'sen1floods11', 'hand_labeled.csv'))"
   ]
  },
  {
   "cell_type": "markdown",
   "id": "a530b792-2dda-4904-9060-a13d74f501be",
   "metadata": {
    "tags": []
   },
   "source": [
    "### Weak Labeled\n",
    "For the weak labeled images, there we use train_test_split to get an 80:20 split. No test set here because we will also use the handlabeled test set. We remove all Bolivia images here too."
   ]
  },
  {
   "cell_type": "code",
   "execution_count": 7,
   "id": "acfdc489-b766-4ba5-8dc9-fb0214558127",
   "metadata": {},
   "outputs": [
    {
     "name": "stdout",
     "output_type": "stream",
     "text": [
      "S1OtsuLabelWeak: 4384\n",
      "S1Weak: 4384\n",
      "S2IndexLabelWeak: 4384\n"
     ]
    }
   ],
   "source": [
    "for folder in wl_folders:\n",
    "    hl_images = glob(f'{os.path.join(WEAKLY_LABELED, folder)}/*.tif')\n",
    "    hl_images = [hl_image.split('/')[8].replace(f'_{folder}.tif', '') for hl_image in hl_images]\n",
    "    print(f'{folder}: {len(hl_images)}')"
   ]
  },
  {
   "cell_type": "code",
   "execution_count": 8,
   "id": "3da6fdb0-638e-4f7d-aaaf-b542b2ff6fe5",
   "metadata": {},
   "outputs": [
    {
     "ename": "TypeError",
     "evalue": "train_test_split() got an unexpected keyword argument 'seed'",
     "output_type": "error",
     "traceback": [
      "\u001b[0;31m---------------------------------------------------------------------------\u001b[0m",
      "\u001b[0;31mTypeError\u001b[0m                                 Traceback (most recent call last)",
      "Cell \u001b[0;32mIn[8], line 10\u001b[0m\n\u001b[1;32m      8\u001b[0m weak_labeled\u001b[38;5;241m.\u001b[39msample(\u001b[38;5;241m10\u001b[39m)\n\u001b[1;32m      9\u001b[0m weak_labeled \u001b[38;5;241m=\u001b[39m weak_labeled\u001b[38;5;241m.\u001b[39mloc[weak_labeled[\u001b[38;5;124m'\u001b[39m\u001b[38;5;124mRegion\u001b[39m\u001b[38;5;124m'\u001b[39m] \u001b[38;5;241m!=\u001b[39m\u001b[38;5;124m'\u001b[39m\u001b[38;5;124mBolivia\u001b[39m\u001b[38;5;124m'\u001b[39m]\n\u001b[0;32m---> 10\u001b[0m train, valid \u001b[38;5;241m=\u001b[39m \u001b[43mtrain_test_split\u001b[49m\u001b[43m(\u001b[49m\u001b[43mweak_labeled\u001b[49m\u001b[43m,\u001b[49m\u001b[43m \u001b[49m\u001b[43mtest_size\u001b[49m\u001b[38;5;241;43m=\u001b[39;49m\u001b[38;5;241;43m0.2\u001b[39;49m\u001b[43m,\u001b[49m\u001b[43m \u001b[49m\u001b[43mstratify\u001b[49m\u001b[38;5;241;43m=\u001b[39;49m\u001b[43mweak_labeled\u001b[49m\u001b[43m[\u001b[49m\u001b[38;5;124;43m'\u001b[39;49m\u001b[38;5;124;43mRegion\u001b[39;49m\u001b[38;5;124;43m'\u001b[39;49m\u001b[43m]\u001b[49m\u001b[43m,\u001b[49m\u001b[43m \u001b[49m\u001b[43mseed\u001b[49m\u001b[38;5;241;43m=\u001b[39;49m\u001b[38;5;241;43m42\u001b[39;49m\u001b[43m)\u001b[49m\n\u001b[1;32m     12\u001b[0m train[\u001b[38;5;124m'\u001b[39m\u001b[38;5;124mSplit\u001b[39m\u001b[38;5;124m'\u001b[39m] \u001b[38;5;241m=\u001b[39m \u001b[38;5;124m'\u001b[39m\u001b[38;5;124mtrain\u001b[39m\u001b[38;5;124m'\u001b[39m\n\u001b[1;32m     13\u001b[0m valid[\u001b[38;5;124m'\u001b[39m\u001b[38;5;124mSplit\u001b[39m\u001b[38;5;124m'\u001b[39m] \u001b[38;5;241m=\u001b[39m \u001b[38;5;124m'\u001b[39m\u001b[38;5;124mvalid\u001b[39m\u001b[38;5;124m'\u001b[39m\n",
      "\u001b[0;31mTypeError\u001b[0m: train_test_split() got an unexpected keyword argument 'seed'"
     ]
    }
   ],
   "source": [
    "hl_images = glob(f'{os.path.join(WEAKLY_LABELED, folder)}/*.tif')\n",
    "hl_images = [hl_image.split('/')[8].replace(f'_{folder}.tif', '') for hl_image in hl_images]\n",
    "weak_labeled = pd.DataFrame({\n",
    "    'Region': [hl_image.split('_')[0] for hl_image in hl_images],\n",
    "    'Img_Id': [hl_image.split('_')[1] for hl_image in hl_images],\n",
    "})\n",
    "\n",
    "weak_labeled.sample(10)\n",
    "weak_labeled = weak_labeled.loc[weak_labeled['Region'] !='Bolivia']\n",
    "train, valid = train_test_split(weak_labeled, test_size=0.2, stratify=weak_labeled['Region'], seed=42)\n",
    "\n",
    "train['Split'] = 'train'\n",
    "valid['Split'] = 'valid'\n",
    "\n",
    "weak_labeled = pd.concat([train, valid])\n",
    "weak_labeled.sample(10)"
   ]
  },
  {
   "cell_type": "code",
   "execution_count": null,
   "id": "41d67dde-51c0-4947-9e97-218d795d3a8b",
   "metadata": {},
   "outputs": [],
   "source": [
    "weak_labeled.to_csv(os.path.join(ROOT, 'sen1floods11', 'weak_labeled.csv'))"
   ]
  },
  {
   "cell_type": "markdown",
   "id": "1539c548-98dc-499c-81b6-bfee0475a2dc",
   "metadata": {
    "jp-MarkdownHeadingCollapsed": true,
    "tags": []
   },
   "source": [
    "## Visualization"
   ]
  },
  {
   "cell_type": "code",
   "execution_count": null,
   "id": "cfcc36b7-5e10-44a4-86d6-d4b51235fda5",
   "metadata": {},
   "outputs": [],
   "source": [
    "hand_labeled['Label'] = 'hand_labeled'\n",
    "weak_labeled['Label'] = 'weak_labeled'\n",
    "\n",
    "all_data = pd.concat([hand_labeled, weak_labeled])\n",
    "all_data.sample(5)"
   ]
  },
  {
   "cell_type": "code",
   "execution_count": null,
   "id": "6cfe0b2f-a8af-49fc-9d79-701ff2809021",
   "metadata": {},
   "outputs": [],
   "source": [
    "# Check that no same 'chip' is shared between splits or labels\n",
    "all_data[all_data[['Region', 'Img_Id']].duplicated(keep=False)]"
   ]
  },
  {
   "cell_type": "code",
   "execution_count": null,
   "id": "4af6c286-6695-4813-9905-4a82d4861be5",
   "metadata": {},
   "outputs": [],
   "source": [
    "hand_labeled['Split'].value_counts().sort_values(ascending=True).keys()"
   ]
  },
  {
   "cell_type": "code",
   "execution_count": null,
   "id": "e868dd17-4457-4243-ba37-7206bd15c758",
   "metadata": {},
   "outputs": [],
   "source": [
    "sns.set_style('whitegrid')\n",
    "# g = sns.histplot(data=hand_labeled, y='Region', hue='Split', multiple='stack', shrink=0.8)\n",
    "g = hand_labeled.groupby(['Split', 'Region']).size().reset_index().pivot(columns='Split', index='Region', values=0).sort_values('train', ascending=False)\n",
    "g.plot(kind='barh', stacked=True)\n",
    "plt.title('Hand Labeled Images')\n",
    "plt.show()"
   ]
  },
  {
   "cell_type": "code",
   "execution_count": null,
   "id": "16b6bc02-dd15-475a-ad6e-ae6327c8cd26",
   "metadata": {},
   "outputs": [],
   "source": [
    "g = weak_labeled.groupby(['Split', 'Region']).size().reset_index().pivot(columns='Split', index='Region', values=0).sort_values('train', ascending=False)\n",
    "g.plot(kind='barh', stacked=True)\n",
    "plt.title('Weak Labeled Images')\n",
    "plt.show()"
   ]
  },
  {
   "cell_type": "markdown",
   "id": "7bf24838-a263-4e53-9947-4e5a47468f31",
   "metadata": {
    "tags": []
   },
   "source": [
    "## Computing the Mean and Standard Deviation"
   ]
  },
  {
   "cell_type": "code",
   "execution_count": null,
   "id": "dcaae2bb-7b41-49e2-8637-0c7d69ef20fa",
   "metadata": {},
   "outputs": [],
   "source": [
    "def get_mean_std(row, ROOT, folder):\n",
    "    if row['Split'] == 'train':\n",
    "        path = os.path.join(ROOT, folder, f'{row[\"Region\"]}_{row[\"Img_Id\"]}_{folder}.tif')\n",
    "        img = imread(path)\n",
    "        row['Ch1_Mean'] = np.mean(img[0])\n",
    "        row['Ch1_StdDev'] = np.std(img[0])\n",
    "        row['Ch2_Mean'] = np.mean(img[1])\n",
    "        row['Ch2_StdDev'] = np.std(img[1])\n",
    "    return row\n",
    "\n",
    "hand_labeled = hand_labeled.apply(lambda row: get_mean_std(row, HAND_LABELED, 'S1Hand'), axis=1)\n",
    "\n",
    "hand_labeled.sample(5)"
   ]
  },
  {
   "cell_type": "code",
   "execution_count": null,
   "id": "0939c89d-fb4b-4808-99ff-a9bfd16af1d4",
   "metadata": {},
   "outputs": [],
   "source": [
    "weak_labeled = weak_labeled.apply(lambda row: get_mean_std(row, WEAKLY_LABELED, 'S1Weak'), axis=1)\n",
    "weak_labeled.sample(5)"
   ]
  },
  {
   "cell_type": "code",
   "execution_count": null,
   "id": "4740169b-202d-4fc4-b3a3-bcf2b9615c04",
   "metadata": {},
   "outputs": [],
   "source": [
    "import json\n",
    "stats = {\n",
    "    'HandLabeled': {\n",
    "        'Ch1': {\n",
    "            'Mean': hand_labeled['Ch1_Mean'].mean(),\n",
    "            'Std': hand_labeled['Ch1_StdDev'].mean()\n",
    "        },\n",
    "        'Ch2': {\n",
    "            'Mean': hand_labeled['Ch2_Mean'].mean(),\n",
    "            'Std': hand_labeled['Ch2_StdDev'].mean()\n",
    "        } \n",
    "    },\n",
    "    'WeaklyLabeled': {\n",
    "        'Ch1': {\n",
    "            'Mean': weak_labeled['Ch1_Mean'].mean(),\n",
    "            'Std': weak_labeled['Ch1_StdDev'].mean()\n",
    "        },\n",
    "        'Ch2': {\n",
    "            'Mean': weak_labeled['Ch2_Mean'].mean(),\n",
    "            'Std': weak_labeled['Ch2_StdDev'].mean()\n",
    "        } \n",
    "    }\n",
    "}\n",
    "\n",
    "with open(os.path.join(ROOT, 'sen1floods11', 'mean_std.json'), 'w') as f:\n",
    "    f.write(json.dumps(stats, indent=4))"
   ]
  },
  {
   "cell_type": "code",
   "execution_count": null,
   "id": "cb9c311b-01e1-45f2-a7df-550b76f65a1b",
   "metadata": {},
   "outputs": [],
   "source": [
    "# import gdown\n",
    "# URL = 'https://drive.google.com/drive/folders/1epo0cP6RQyH5BI2SJJzZZRFtnZXa6jpJ'\n",
    "# gdown.download_folder(URL, quiet=True)"
   ]
  }
 ],
 "metadata": {
  "kernelspec": {
   "display_name": "sar-env-2",
   "language": "python",
   "name": "sar-env-2"
  },
  "language_info": {
   "codemirror_mode": {
    "name": "ipython",
    "version": 3
   },
   "file_extension": ".py",
   "mimetype": "text/x-python",
   "name": "python",
   "nbconvert_exporter": "python",
   "pygments_lexer": "ipython3",
   "version": "3.9.16"
  }
 },
 "nbformat": 4,
 "nbformat_minor": 5
}
