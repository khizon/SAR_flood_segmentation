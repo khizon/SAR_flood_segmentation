{
 "cells": [
  {
   "cell_type": "code",
   "execution_count": 1,
   "id": "dda3cadf-cdba-4d66-8eab-39fe43815d97",
   "metadata": {},
   "outputs": [
    {
     "name": "stdout",
     "output_type": "stream",
     "text": [
      "/home/genrev_kiel_hizon/SAR_flood_segmentation/src\n"
     ]
    }
   ],
   "source": [
    "!pwd\n",
    "# os.chdir('../')\n",
    "# !pwd\n",
    "\n",
    "from glob import glob\n",
    "from matplotlib import pyplot as plt\n",
    "import numpy as np\n",
    "import os\n",
    "from skimage.io import imread\n",
    "import numpy as np\n",
    "import pandas as pd\n",
    "import df_utils\n",
    "from pytorch_lightning import seed_everything\n",
    "from sklearn.model_selection import train_test_split"
   ]
  },
  {
   "cell_type": "markdown",
   "id": "57cd7fa7-a3c5-4bdb-b7e6-a2497a307ba2",
   "metadata": {},
   "source": [
    "## Generate Annotations CSV"
   ]
  },
  {
   "cell_type": "code",
   "execution_count": 2,
   "id": "0ad72091-411c-4c94-9e82-7b8ddbd10dbe",
   "metadata": {},
   "outputs": [
    {
     "name": "stderr",
     "output_type": "stream",
     "text": [
      "Global seed set to 42\n"
     ]
    },
    {
     "data": {
      "text/plain": [
       "42"
      ]
     },
     "execution_count": 2,
     "metadata": {},
     "output_type": "execute_result"
    }
   ],
   "source": [
    "seed_everything(42, workers=True)"
   ]
  },
  {
   "cell_type": "code",
   "execution_count": 3,
   "id": "7cbf75aa-9a37-4d54-aae6-32e84a47ece8",
   "metadata": {},
   "outputs": [
    {
     "data": {
      "text/html": [
       "<div>\n",
       "<style scoped>\n",
       "    .dataframe tbody tr th:only-of-type {\n",
       "        vertical-align: middle;\n",
       "    }\n",
       "\n",
       "    .dataframe tbody tr th {\n",
       "        vertical-align: top;\n",
       "    }\n",
       "\n",
       "    .dataframe thead th {\n",
       "        text-align: right;\n",
       "    }\n",
       "</style>\n",
       "<table border=\"1\" class=\"dataframe\">\n",
       "  <thead>\n",
       "    <tr style=\"text-align: right;\">\n",
       "      <th></th>\n",
       "      <th>vv_image_path</th>\n",
       "      <th>vh_image_path</th>\n",
       "      <th>flood_label_path</th>\n",
       "      <th>water_body_label_path</th>\n",
       "      <th>region</th>\n",
       "    </tr>\n",
       "  </thead>\n",
       "  <tbody>\n",
       "    <tr>\n",
       "      <th>0</th>\n",
       "      <td>../data/train/train/bangladesh_20170314t115609...</td>\n",
       "      <td>../data/train/train/bangladesh_20170314t115609...</td>\n",
       "      <td>../data/train/train/bangladesh_20170314t115609...</td>\n",
       "      <td>../data/train/train/bangladesh_20170314t115609...</td>\n",
       "      <td>bangladesh</td>\n",
       "    </tr>\n",
       "    <tr>\n",
       "      <th>1</th>\n",
       "      <td>../data/train/train/bangladesh_20170314t115609...</td>\n",
       "      <td>../data/train/train/bangladesh_20170314t115609...</td>\n",
       "      <td>../data/train/train/bangladesh_20170314t115609...</td>\n",
       "      <td>../data/train/train/bangladesh_20170314t115609...</td>\n",
       "      <td>bangladesh</td>\n",
       "    </tr>\n",
       "    <tr>\n",
       "      <th>2</th>\n",
       "      <td>../data/train/train/bangladesh_20170314t115609...</td>\n",
       "      <td>../data/train/train/bangladesh_20170314t115609...</td>\n",
       "      <td>../data/train/train/bangladesh_20170314t115609...</td>\n",
       "      <td>../data/train/train/bangladesh_20170314t115609...</td>\n",
       "      <td>bangladesh</td>\n",
       "    </tr>\n",
       "    <tr>\n",
       "      <th>3</th>\n",
       "      <td>../data/train/train/bangladesh_20170314t115609...</td>\n",
       "      <td>../data/train/train/bangladesh_20170314t115609...</td>\n",
       "      <td>../data/train/train/bangladesh_20170314t115609...</td>\n",
       "      <td>../data/train/train/bangladesh_20170314t115609...</td>\n",
       "      <td>bangladesh</td>\n",
       "    </tr>\n",
       "    <tr>\n",
       "      <th>4</th>\n",
       "      <td>../data/train/train/bangladesh_20170314t115609...</td>\n",
       "      <td>../data/train/train/bangladesh_20170314t115609...</td>\n",
       "      <td>../data/train/train/bangladesh_20170314t115609...</td>\n",
       "      <td>../data/train/train/bangladesh_20170314t115609...</td>\n",
       "      <td>bangladesh</td>\n",
       "    </tr>\n",
       "  </tbody>\n",
       "</table>\n",
       "</div>"
      ],
      "text/plain": [
       "                                       vv_image_path  \\\n",
       "0  ../data/train/train/bangladesh_20170314t115609...   \n",
       "1  ../data/train/train/bangladesh_20170314t115609...   \n",
       "2  ../data/train/train/bangladesh_20170314t115609...   \n",
       "3  ../data/train/train/bangladesh_20170314t115609...   \n",
       "4  ../data/train/train/bangladesh_20170314t115609...   \n",
       "\n",
       "                                       vh_image_path  \\\n",
       "0  ../data/train/train/bangladesh_20170314t115609...   \n",
       "1  ../data/train/train/bangladesh_20170314t115609...   \n",
       "2  ../data/train/train/bangladesh_20170314t115609...   \n",
       "3  ../data/train/train/bangladesh_20170314t115609...   \n",
       "4  ../data/train/train/bangladesh_20170314t115609...   \n",
       "\n",
       "                                    flood_label_path  \\\n",
       "0  ../data/train/train/bangladesh_20170314t115609...   \n",
       "1  ../data/train/train/bangladesh_20170314t115609...   \n",
       "2  ../data/train/train/bangladesh_20170314t115609...   \n",
       "3  ../data/train/train/bangladesh_20170314t115609...   \n",
       "4  ../data/train/train/bangladesh_20170314t115609...   \n",
       "\n",
       "                               water_body_label_path      region  \n",
       "0  ../data/train/train/bangladesh_20170314t115609...  bangladesh  \n",
       "1  ../data/train/train/bangladesh_20170314t115609...  bangladesh  \n",
       "2  ../data/train/train/bangladesh_20170314t115609...  bangladesh  \n",
       "3  ../data/train/train/bangladesh_20170314t115609...  bangladesh  \n",
       "4  ../data/train/train/bangladesh_20170314t115609...  bangladesh  "
      ]
     },
     "execution_count": 3,
     "metadata": {},
     "output_type": "execute_result"
    }
   ],
   "source": [
    "train_df = df_utils.create_df('../data/train/train/')\n",
    "train_df.head()"
   ]
  },
  {
   "cell_type": "code",
   "execution_count": 4,
   "id": "9eeda066-e4a5-433b-bf8a-ff72444f5255",
   "metadata": {},
   "outputs": [
    {
     "data": {
      "text/html": [
       "<div>\n",
       "<style scoped>\n",
       "    .dataframe tbody tr th:only-of-type {\n",
       "        vertical-align: middle;\n",
       "    }\n",
       "\n",
       "    .dataframe tbody tr th {\n",
       "        vertical-align: top;\n",
       "    }\n",
       "\n",
       "    .dataframe thead th {\n",
       "        text-align: right;\n",
       "    }\n",
       "</style>\n",
       "<table border=\"1\" class=\"dataframe\">\n",
       "  <thead>\n",
       "    <tr style=\"text-align: right;\">\n",
       "      <th></th>\n",
       "      <th>vv_image_path</th>\n",
       "      <th>vh_image_path</th>\n",
       "      <th>flood_label_path</th>\n",
       "      <th>water_body_label_path</th>\n",
       "      <th>region</th>\n",
       "    </tr>\n",
       "  </thead>\n",
       "  <tbody>\n",
       "    <tr>\n",
       "      <th>0</th>\n",
       "      <td>../data/val_with_ref_labels/test/florence_2018...</td>\n",
       "      <td>../data/val_with_ref_labels/test/florence_2018...</td>\n",
       "      <td>../data/val_with_ref_labels/test/florence_2018...</td>\n",
       "      <td>../data/val_with_ref_labels/test/florence_2018...</td>\n",
       "      <td>florence</td>\n",
       "    </tr>\n",
       "    <tr>\n",
       "      <th>1</th>\n",
       "      <td>../data/val_with_ref_labels/test/florence_2018...</td>\n",
       "      <td>../data/val_with_ref_labels/test/florence_2018...</td>\n",
       "      <td>../data/val_with_ref_labels/test/florence_2018...</td>\n",
       "      <td>../data/val_with_ref_labels/test/florence_2018...</td>\n",
       "      <td>florence</td>\n",
       "    </tr>\n",
       "    <tr>\n",
       "      <th>2</th>\n",
       "      <td>../data/val_with_ref_labels/test/florence_2018...</td>\n",
       "      <td>../data/val_with_ref_labels/test/florence_2018...</td>\n",
       "      <td>../data/val_with_ref_labels/test/florence_2018...</td>\n",
       "      <td>../data/val_with_ref_labels/test/florence_2018...</td>\n",
       "      <td>florence</td>\n",
       "    </tr>\n",
       "    <tr>\n",
       "      <th>3</th>\n",
       "      <td>../data/val_with_ref_labels/test/florence_2018...</td>\n",
       "      <td>../data/val_with_ref_labels/test/florence_2018...</td>\n",
       "      <td>../data/val_with_ref_labels/test/florence_2018...</td>\n",
       "      <td>../data/val_with_ref_labels/test/florence_2018...</td>\n",
       "      <td>florence</td>\n",
       "    </tr>\n",
       "    <tr>\n",
       "      <th>4</th>\n",
       "      <td>../data/val_with_ref_labels/test/florence_2018...</td>\n",
       "      <td>../data/val_with_ref_labels/test/florence_2018...</td>\n",
       "      <td>../data/val_with_ref_labels/test/florence_2018...</td>\n",
       "      <td>../data/val_with_ref_labels/test/florence_2018...</td>\n",
       "      <td>florence</td>\n",
       "    </tr>\n",
       "  </tbody>\n",
       "</table>\n",
       "</div>"
      ],
      "text/plain": [
       "                                       vv_image_path  \\\n",
       "0  ../data/val_with_ref_labels/test/florence_2018...   \n",
       "1  ../data/val_with_ref_labels/test/florence_2018...   \n",
       "2  ../data/val_with_ref_labels/test/florence_2018...   \n",
       "3  ../data/val_with_ref_labels/test/florence_2018...   \n",
       "4  ../data/val_with_ref_labels/test/florence_2018...   \n",
       "\n",
       "                                       vh_image_path  \\\n",
       "0  ../data/val_with_ref_labels/test/florence_2018...   \n",
       "1  ../data/val_with_ref_labels/test/florence_2018...   \n",
       "2  ../data/val_with_ref_labels/test/florence_2018...   \n",
       "3  ../data/val_with_ref_labels/test/florence_2018...   \n",
       "4  ../data/val_with_ref_labels/test/florence_2018...   \n",
       "\n",
       "                                    flood_label_path  \\\n",
       "0  ../data/val_with_ref_labels/test/florence_2018...   \n",
       "1  ../data/val_with_ref_labels/test/florence_2018...   \n",
       "2  ../data/val_with_ref_labels/test/florence_2018...   \n",
       "3  ../data/val_with_ref_labels/test/florence_2018...   \n",
       "4  ../data/val_with_ref_labels/test/florence_2018...   \n",
       "\n",
       "                               water_body_label_path    region  \n",
       "0  ../data/val_with_ref_labels/test/florence_2018...  florence  \n",
       "1  ../data/val_with_ref_labels/test/florence_2018...  florence  \n",
       "2  ../data/val_with_ref_labels/test/florence_2018...  florence  \n",
       "3  ../data/val_with_ref_labels/test/florence_2018...  florence  \n",
       "4  ../data/val_with_ref_labels/test/florence_2018...  florence  "
      ]
     },
     "execution_count": 4,
     "metadata": {},
     "output_type": "execute_result"
    }
   ],
   "source": [
    "val_df = df_utils.create_df('../data/val_with_ref_labels/test')\n",
    "val_df.head()"
   ]
  },
  {
   "cell_type": "markdown",
   "id": "24a971fb-ce9f-4c95-807b-ae7c86c55d09",
   "metadata": {},
   "source": [
    "## Find images with significant flooding"
   ]
  },
  {
   "cell_type": "code",
   "execution_count": 5,
   "id": "c1df400e-4c4e-4e86-b0f2-3d7c90984c0b",
   "metadata": {},
   "outputs": [],
   "source": [
    "train_df['has_mask'] = train_df['flood_label_path'].apply(df_utils.has_mask)"
   ]
  },
  {
   "cell_type": "code",
   "execution_count": 6,
   "id": "7ae91fab-b322-498c-9e52-c1688fc0070d",
   "metadata": {},
   "outputs": [],
   "source": [
    "val_df['has_mask'] = val_df['flood_label_path'].apply(df_utils.has_mask)"
   ]
  },
  {
   "cell_type": "code",
   "execution_count": 7,
   "id": "18f271d9-0b0b-4917-bad3-6713eb741194",
   "metadata": {},
   "outputs": [
    {
     "data": {
      "text/plain": [
       "False    22471\n",
       "True     10934\n",
       "Name: has_mask, dtype: int64"
      ]
     },
     "execution_count": 7,
     "metadata": {},
     "output_type": "execute_result"
    }
   ],
   "source": [
    "train_df['has_mask'].value_counts()"
   ]
  },
  {
   "cell_type": "code",
   "execution_count": 8,
   "id": "7a86a1d8-cdc6-44eb-9dac-f2e63afd5069",
   "metadata": {},
   "outputs": [
    {
     "data": {
      "text/plain": [
       "False    7290\n",
       "True     3110\n",
       "Name: has_mask, dtype: int64"
      ]
     },
     "execution_count": 8,
     "metadata": {},
     "output_type": "execute_result"
    }
   ],
   "source": [
    "val_df['has_mask'].value_counts()"
   ]
  },
  {
   "cell_type": "markdown",
   "id": "96b0e314-121f-4d3a-8f9d-ca823a86c908",
   "metadata": {
    "tags": []
   },
   "source": [
    "## Find images where the satellite image is binary (invalid)"
   ]
  },
  {
   "cell_type": "code",
   "execution_count": 9,
   "id": "bf7d0445-53a6-414b-8ddb-44083a2af6ab",
   "metadata": {},
   "outputs": [],
   "source": [
    "train_df['invalid'] = (train_df['vv_image_path'].apply(df_utils.remove_binary))\n",
    "val_df['invalid'] = (val_df['vv_image_path'].apply(df_utils.remove_binary))"
   ]
  },
  {
   "cell_type": "code",
   "execution_count": 10,
   "id": "b5b6f839-07ff-4cbd-afc0-ddcbd577220f",
   "metadata": {},
   "outputs": [
    {
     "data": {
      "text/html": [
       "<div>\n",
       "<style scoped>\n",
       "    .dataframe tbody tr th:only-of-type {\n",
       "        vertical-align: middle;\n",
       "    }\n",
       "\n",
       "    .dataframe tbody tr th {\n",
       "        vertical-align: top;\n",
       "    }\n",
       "\n",
       "    .dataframe thead th {\n",
       "        text-align: right;\n",
       "    }\n",
       "</style>\n",
       "<table border=\"1\" class=\"dataframe\">\n",
       "  <thead>\n",
       "    <tr style=\"text-align: right;\">\n",
       "      <th></th>\n",
       "      <th>vv_image_path</th>\n",
       "      <th>vh_image_path</th>\n",
       "      <th>flood_label_path</th>\n",
       "      <th>water_body_label_path</th>\n",
       "      <th>region</th>\n",
       "      <th>has_mask</th>\n",
       "      <th>invalid</th>\n",
       "    </tr>\n",
       "  </thead>\n",
       "  <tbody>\n",
       "    <tr>\n",
       "      <th>7841</th>\n",
       "      <td>../data/train/train/nebraska_20170213t002121/t...</td>\n",
       "      <td>../data/train/train/nebraska_20170213t002121/t...</td>\n",
       "      <td>../data/train/train/nebraska_20170213t002121/t...</td>\n",
       "      <td>../data/train/train/nebraska_20170213t002121/t...</td>\n",
       "      <td>nebraska</td>\n",
       "      <td>True</td>\n",
       "      <td>True</td>\n",
       "    </tr>\n",
       "    <tr>\n",
       "      <th>9913</th>\n",
       "      <td>../data/train/train/nebraska_20170402t002111/t...</td>\n",
       "      <td>../data/train/train/nebraska_20170402t002111/t...</td>\n",
       "      <td>../data/train/train/nebraska_20170402t002111/t...</td>\n",
       "      <td>../data/train/train/nebraska_20170402t002111/t...</td>\n",
       "      <td>nebraska</td>\n",
       "      <td>True</td>\n",
       "      <td>True</td>\n",
       "    </tr>\n",
       "    <tr>\n",
       "      <th>15415</th>\n",
       "      <td>../data/train/train/nebraska_20171116t002120/t...</td>\n",
       "      <td>../data/train/train/nebraska_20171116t002120/t...</td>\n",
       "      <td>../data/train/train/nebraska_20171116t002120/t...</td>\n",
       "      <td>../data/train/train/nebraska_20171116t002120/t...</td>\n",
       "      <td>nebraska</td>\n",
       "      <td>True</td>\n",
       "      <td>True</td>\n",
       "    </tr>\n",
       "    <tr>\n",
       "      <th>18096</th>\n",
       "      <td>../data/train/train/nebraska_20171222t002118/t...</td>\n",
       "      <td>../data/train/train/nebraska_20171222t002118/t...</td>\n",
       "      <td>../data/train/train/nebraska_20171222t002118/t...</td>\n",
       "      <td>../data/train/train/nebraska_20171222t002118/t...</td>\n",
       "      <td>nebraska</td>\n",
       "      <td>True</td>\n",
       "      <td>True</td>\n",
       "    </tr>\n",
       "    <tr>\n",
       "      <th>7799</th>\n",
       "      <td>../data/train/train/nebraska_20170213t002121/t...</td>\n",
       "      <td>../data/train/train/nebraska_20170213t002121/t...</td>\n",
       "      <td>../data/train/train/nebraska_20170213t002121/t...</td>\n",
       "      <td>../data/train/train/nebraska_20170213t002121/t...</td>\n",
       "      <td>nebraska</td>\n",
       "      <td>True</td>\n",
       "      <td>True</td>\n",
       "    </tr>\n",
       "    <tr>\n",
       "      <th>17436</th>\n",
       "      <td>../data/train/train/nebraska_20171222t002118/t...</td>\n",
       "      <td>../data/train/train/nebraska_20171222t002118/t...</td>\n",
       "      <td>../data/train/train/nebraska_20171222t002118/t...</td>\n",
       "      <td>../data/train/train/nebraska_20171222t002118/t...</td>\n",
       "      <td>nebraska</td>\n",
       "      <td>True</td>\n",
       "      <td>True</td>\n",
       "    </tr>\n",
       "    <tr>\n",
       "      <th>10712</th>\n",
       "      <td>../data/train/train/nebraska_20170508t002113/t...</td>\n",
       "      <td>../data/train/train/nebraska_20170508t002113/t...</td>\n",
       "      <td>../data/train/train/nebraska_20170508t002113/t...</td>\n",
       "      <td>../data/train/train/nebraska_20170508t002113/t...</td>\n",
       "      <td>nebraska</td>\n",
       "      <td>True</td>\n",
       "      <td>True</td>\n",
       "    </tr>\n",
       "    <tr>\n",
       "      <th>16913</th>\n",
       "      <td>../data/train/train/nebraska_20171210t002119/t...</td>\n",
       "      <td>../data/train/train/nebraska_20171210t002119/t...</td>\n",
       "      <td>../data/train/train/nebraska_20171210t002119/t...</td>\n",
       "      <td>../data/train/train/nebraska_20171210t002119/t...</td>\n",
       "      <td>nebraska</td>\n",
       "      <td>True</td>\n",
       "      <td>True</td>\n",
       "    </tr>\n",
       "    <tr>\n",
       "      <th>14066</th>\n",
       "      <td>../data/train/train/nebraska_20170731t002118/t...</td>\n",
       "      <td>../data/train/train/nebraska_20170731t002118/t...</td>\n",
       "      <td>../data/train/train/nebraska_20170731t002118/t...</td>\n",
       "      <td>../data/train/train/nebraska_20170731t002118/t...</td>\n",
       "      <td>nebraska</td>\n",
       "      <td>True</td>\n",
       "      <td>True</td>\n",
       "    </tr>\n",
       "    <tr>\n",
       "      <th>15107</th>\n",
       "      <td>../data/train/train/nebraska_20170929t002120/t...</td>\n",
       "      <td>../data/train/train/nebraska_20170929t002120/t...</td>\n",
       "      <td>../data/train/train/nebraska_20170929t002120/t...</td>\n",
       "      <td>../data/train/train/nebraska_20170929t002120/t...</td>\n",
       "      <td>nebraska</td>\n",
       "      <td>True</td>\n",
       "      <td>True</td>\n",
       "    </tr>\n",
       "  </tbody>\n",
       "</table>\n",
       "</div>"
      ],
      "text/plain": [
       "                                           vv_image_path  \\\n",
       "7841   ../data/train/train/nebraska_20170213t002121/t...   \n",
       "9913   ../data/train/train/nebraska_20170402t002111/t...   \n",
       "15415  ../data/train/train/nebraska_20171116t002120/t...   \n",
       "18096  ../data/train/train/nebraska_20171222t002118/t...   \n",
       "7799   ../data/train/train/nebraska_20170213t002121/t...   \n",
       "17436  ../data/train/train/nebraska_20171222t002118/t...   \n",
       "10712  ../data/train/train/nebraska_20170508t002113/t...   \n",
       "16913  ../data/train/train/nebraska_20171210t002119/t...   \n",
       "14066  ../data/train/train/nebraska_20170731t002118/t...   \n",
       "15107  ../data/train/train/nebraska_20170929t002120/t...   \n",
       "\n",
       "                                           vh_image_path  \\\n",
       "7841   ../data/train/train/nebraska_20170213t002121/t...   \n",
       "9913   ../data/train/train/nebraska_20170402t002111/t...   \n",
       "15415  ../data/train/train/nebraska_20171116t002120/t...   \n",
       "18096  ../data/train/train/nebraska_20171222t002118/t...   \n",
       "7799   ../data/train/train/nebraska_20170213t002121/t...   \n",
       "17436  ../data/train/train/nebraska_20171222t002118/t...   \n",
       "10712  ../data/train/train/nebraska_20170508t002113/t...   \n",
       "16913  ../data/train/train/nebraska_20171210t002119/t...   \n",
       "14066  ../data/train/train/nebraska_20170731t002118/t...   \n",
       "15107  ../data/train/train/nebraska_20170929t002120/t...   \n",
       "\n",
       "                                        flood_label_path  \\\n",
       "7841   ../data/train/train/nebraska_20170213t002121/t...   \n",
       "9913   ../data/train/train/nebraska_20170402t002111/t...   \n",
       "15415  ../data/train/train/nebraska_20171116t002120/t...   \n",
       "18096  ../data/train/train/nebraska_20171222t002118/t...   \n",
       "7799   ../data/train/train/nebraska_20170213t002121/t...   \n",
       "17436  ../data/train/train/nebraska_20171222t002118/t...   \n",
       "10712  ../data/train/train/nebraska_20170508t002113/t...   \n",
       "16913  ../data/train/train/nebraska_20171210t002119/t...   \n",
       "14066  ../data/train/train/nebraska_20170731t002118/t...   \n",
       "15107  ../data/train/train/nebraska_20170929t002120/t...   \n",
       "\n",
       "                                   water_body_label_path    region  has_mask  \\\n",
       "7841   ../data/train/train/nebraska_20170213t002121/t...  nebraska      True   \n",
       "9913   ../data/train/train/nebraska_20170402t002111/t...  nebraska      True   \n",
       "15415  ../data/train/train/nebraska_20171116t002120/t...  nebraska      True   \n",
       "18096  ../data/train/train/nebraska_20171222t002118/t...  nebraska      True   \n",
       "7799   ../data/train/train/nebraska_20170213t002121/t...  nebraska      True   \n",
       "17436  ../data/train/train/nebraska_20171222t002118/t...  nebraska      True   \n",
       "10712  ../data/train/train/nebraska_20170508t002113/t...  nebraska      True   \n",
       "16913  ../data/train/train/nebraska_20171210t002119/t...  nebraska      True   \n",
       "14066  ../data/train/train/nebraska_20170731t002118/t...  nebraska      True   \n",
       "15107  ../data/train/train/nebraska_20170929t002120/t...  nebraska      True   \n",
       "\n",
       "       invalid  \n",
       "7841      True  \n",
       "9913      True  \n",
       "15415     True  \n",
       "18096     True  \n",
       "7799      True  \n",
       "17436     True  \n",
       "10712     True  \n",
       "16913     True  \n",
       "14066     True  \n",
       "15107     True  "
      ]
     },
     "execution_count": 10,
     "metadata": {},
     "output_type": "execute_result"
    }
   ],
   "source": [
    "train_df[(train_df['invalid']==True) & (train_df['has_mask']==True)].sample(10)"
   ]
  },
  {
   "cell_type": "markdown",
   "id": "708abcaa-51a7-4586-a5b8-8b647bbacdb1",
   "metadata": {},
   "source": [
    "## Remove Invalid"
   ]
  },
  {
   "cell_type": "code",
   "execution_count": 11,
   "id": "ba40d8bd-0128-464a-bdef-8c99d5d1ab53",
   "metadata": {},
   "outputs": [],
   "source": [
    "# train_df = train_df[train_df['invalid']!=True]\n",
    "# val_df = val_df[val_df['invalid']!=True]"
   ]
  },
  {
   "cell_type": "markdown",
   "id": "1e2d3bb2-fa6c-4bc8-8b8d-5bf5ec3fe758",
   "metadata": {},
   "source": [
    "## Split val -> val, test"
   ]
  },
  {
   "cell_type": "code",
   "execution_count": 12,
   "id": "a7cf0983-8401-40d3-bf34-4dd500b3d712",
   "metadata": {},
   "outputs": [],
   "source": [
    "val, test = train_test_split(val_df, stratify=val_df['has_mask'], test_size=0.5)"
   ]
  },
  {
   "cell_type": "markdown",
   "id": "b1c4e349-1f63-4af2-9618-bdfb4ee6604b",
   "metadata": {},
   "source": [
    "## Save final product to CSV"
   ]
  },
  {
   "cell_type": "code",
   "execution_count": 13,
   "id": "f4a4a9d8-96b7-4e91-8dad-f65267baeddb",
   "metadata": {},
   "outputs": [],
   "source": [
    "train_df.to_csv('../data/train.csv')\n",
    "val.to_csv('../data/val.csv')\n",
    "test.to_csv('../data/test.csv')"
   ]
  },
  {
   "cell_type": "markdown",
   "id": "0b9745b2-65c7-4e03-94f9-e129eacb0bc1",
   "metadata": {},
   "source": [
    "## Exploration"
   ]
  },
  {
   "cell_type": "code",
   "execution_count": 14,
   "id": "72a23b2e-0c24-4c1f-a0c5-6c64dc5d372a",
   "metadata": {},
   "outputs": [
    {
     "name": "stdout",
     "output_type": "stream",
     "text": [
      "Train: (33405, 7)\n",
      "Val: (5200, 7)\n",
      "Test: (5200, 7)\n"
     ]
    }
   ],
   "source": [
    "print(f'Train: {train_df.shape}')\n",
    "print(f'Val: {val.shape}')\n",
    "print(f'Test: {test.shape}')"
   ]
  },
  {
   "cell_type": "code",
   "execution_count": 15,
   "id": "fe1d5b14-27b6-4f53-afe3-1eb2c130da12",
   "metadata": {},
   "outputs": [
    {
     "name": "stdout",
     "output_type": "stream",
     "text": [
      "Train: (10934, 7)\n",
      "Val: (1555, 7)\n",
      "Test: (1555, 7)\n"
     ]
    }
   ],
   "source": [
    "print(f'Train: {train_df[train_df.has_mask==True].shape}')\n",
    "print(f'Val: {val[val.has_mask==True].shape}')\n",
    "print(f'Test: {test[test.has_mask==True].shape}')"
   ]
  },
  {
   "cell_type": "code",
   "execution_count": 16,
   "id": "6b2e5de4-42cc-4db5-ad9e-bb3100a5a368",
   "metadata": {},
   "outputs": [],
   "source": [
    "train_df = pd.read_csv('../data/train.csv', index_col=0)\n",
    "train_df['Set'] = 'Train'\n",
    "\n",
    "val_df = pd.read_csv('../data/val.csv', index_col=0)\n",
    "val_df['Set'] = 'Val'\n",
    "\n",
    "test_df = pd.read_csv('../data/test.csv', index_col=0)\n",
    "test_df['Set'] = 'Test'\n",
    "\n",
    "df = pd.concat([train_df, val_df, test_df])"
   ]
  },
  {
   "cell_type": "code",
   "execution_count": 18,
   "id": "ff71a353-e02d-494a-b401-0d30e4f6cb85",
   "metadata": {},
   "outputs": [
    {
     "data": {
      "text/html": [
       "<div>\n",
       "<style scoped>\n",
       "    .dataframe tbody tr th:only-of-type {\n",
       "        vertical-align: middle;\n",
       "    }\n",
       "\n",
       "    .dataframe tbody tr th {\n",
       "        vertical-align: top;\n",
       "    }\n",
       "\n",
       "    .dataframe thead th {\n",
       "        text-align: right;\n",
       "    }\n",
       "</style>\n",
       "<table border=\"1\" class=\"dataframe\">\n",
       "  <thead>\n",
       "    <tr style=\"text-align: right;\">\n",
       "      <th></th>\n",
       "      <th>has_mask</th>\n",
       "      <th>False</th>\n",
       "      <th>True</th>\n",
       "      <th>All</th>\n",
       "    </tr>\n",
       "    <tr>\n",
       "      <th>invalid</th>\n",
       "      <th>Set</th>\n",
       "      <th></th>\n",
       "      <th></th>\n",
       "      <th></th>\n",
       "    </tr>\n",
       "  </thead>\n",
       "  <tbody>\n",
       "    <tr>\n",
       "      <th rowspan=\"3\" valign=\"top\">False</th>\n",
       "      <th>Test</th>\n",
       "      <td>1117</td>\n",
       "      <td>1532</td>\n",
       "      <td>2649</td>\n",
       "    </tr>\n",
       "    <tr>\n",
       "      <th>Train</th>\n",
       "      <td>14723</td>\n",
       "      <td>10292</td>\n",
       "      <td>25015</td>\n",
       "    </tr>\n",
       "    <tr>\n",
       "      <th>Val</th>\n",
       "      <td>1133</td>\n",
       "      <td>1537</td>\n",
       "      <td>2670</td>\n",
       "    </tr>\n",
       "    <tr>\n",
       "      <th rowspan=\"3\" valign=\"top\">True</th>\n",
       "      <th>Test</th>\n",
       "      <td>2528</td>\n",
       "      <td>23</td>\n",
       "      <td>2551</td>\n",
       "    </tr>\n",
       "    <tr>\n",
       "      <th>Train</th>\n",
       "      <td>7748</td>\n",
       "      <td>642</td>\n",
       "      <td>8390</td>\n",
       "    </tr>\n",
       "    <tr>\n",
       "      <th>Val</th>\n",
       "      <td>2512</td>\n",
       "      <td>18</td>\n",
       "      <td>2530</td>\n",
       "    </tr>\n",
       "    <tr>\n",
       "      <th>All</th>\n",
       "      <th></th>\n",
       "      <td>29761</td>\n",
       "      <td>14044</td>\n",
       "      <td>43805</td>\n",
       "    </tr>\n",
       "  </tbody>\n",
       "</table>\n",
       "</div>"
      ],
      "text/plain": [
       "has_mask       False   True    All\n",
       "invalid Set                       \n",
       "False   Test    1117   1532   2649\n",
       "        Train  14723  10292  25015\n",
       "        Val     1133   1537   2670\n",
       "True    Test    2528     23   2551\n",
       "        Train   7748    642   8390\n",
       "        Val     2512     18   2530\n",
       "All            29761  14044  43805"
      ]
     },
     "execution_count": 18,
     "metadata": {},
     "output_type": "execute_result"
    }
   ],
   "source": [
    "pd.pivot_table(df, values='vh_image_path', index=['invalid', 'Set'], columns='has_mask',\n",
    "               aggfunc='count', margins=True)"
   ]
  }
 ],
 "metadata": {
  "kernelspec": {
   "display_name": "sar-env",
   "language": "python",
   "name": "sar-env"
  },
  "language_info": {
   "codemirror_mode": {
    "name": "ipython",
    "version": 3
   },
   "file_extension": ".py",
   "mimetype": "text/x-python",
   "name": "python",
   "nbconvert_exporter": "python",
   "pygments_lexer": "ipython3",
   "version": "3.9.16"
  }
 },
 "nbformat": 4,
 "nbformat_minor": 5
}
