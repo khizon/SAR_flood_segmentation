{
 "cells": [
  {
   "cell_type": "code",
   "execution_count": 8,
   "id": "dda3cadf-cdba-4d66-8eab-39fe43815d97",
   "metadata": {},
   "outputs": [
    {
     "name": "stdout",
     "output_type": "stream",
     "text": [
      "/home/genrev_kiel_hizon/SAR_flood_segmentation/src\n"
     ]
    }
   ],
   "source": [
    "from glob import glob\n",
    "from matplotlib import pyplot as plt\n",
    "import numpy as np\n",
    "import os\n",
    "from skimage.io import imread\n",
    "import numpy as np\n",
    "import pandas as pd\n",
    "!pwd"
   ]
  },
  {
   "cell_type": "markdown",
   "id": "57cd7fa7-a3c5-4bdb-b7e6-a2497a307ba2",
   "metadata": {},
   "source": [
    "## Generate Annotations CSV"
   ]
  },
  {
   "cell_type": "code",
   "execution_count": 26,
   "id": "580e0914-56f4-47b0-b0ab-eb4db8500f39",
   "metadata": {},
   "outputs": [],
   "source": [
    "def get_val_datapath():\n",
    "    return glob('../data/val_with_ref_labels/test/*/*/flood_label/*.png')\n",
    "def get_train_datapath():\n",
    "    return glob('../data/train/train/*/*/flood_label/*.png')\n",
    "\n",
    "def cvtFpath(fpath, label):\n",
    "    if label in ['vv', 'vh']:\n",
    "        return '/'.join([tag if tag!='flood_label' else label for tag in fpath.split('/')])[:-4]+'_%s.png'%label\n",
    "    else:\n",
    "        return '/'.join([tag if tag!='flood_label' else label for tag in fpath.split('/')])"
   ]
  },
  {
   "cell_type": "code",
   "execution_count": 27,
   "id": "aa9717ad-d5a1-420d-b04e-b3c82d7f5c2e",
   "metadata": {},
   "outputs": [
    {
     "data": {
      "text/plain": [
       "10400"
      ]
     },
     "execution_count": 27,
     "metadata": {},
     "output_type": "execute_result"
    }
   ],
   "source": [
    "val_path = get_val_datapath()\n",
    "train_path = get_train_datapath()\n",
    "len(val_path)"
   ]
  },
  {
   "cell_type": "code",
   "execution_count": 28,
   "id": "5c77753c-3000-41ec-ad5b-418cb30cd2e6",
   "metadata": {},
   "outputs": [],
   "source": [
    "train_df = pd.DataFrame({'flood_label':train_path})\n",
    "train_df['vv']=train_df.apply(lambda row: cvtFpath(row['flood_label'], 'vv'), axis=1)\n",
    "train_df['vh']=train_df.apply(lambda row: cvtFpath(row['flood_label'], 'vh'), axis=1)\n",
    "train_df['water_body']=train_df.apply(lambda row: cvtFpath(row['flood_label'], 'water_body'), axis=1)"
   ]
  },
  {
   "cell_type": "code",
   "execution_count": 29,
   "id": "468597f5-5c40-4d0c-bc6b-541bcb20d7f4",
   "metadata": {},
   "outputs": [],
   "source": [
    "val_df = pd.DataFrame({'flood_label':val_path})\n",
    "val_df['vv']=val_df.apply(lambda row: cvtFpath(row['flood_label'], 'vv'), axis=1)\n",
    "val_df['vh']=val_df.apply(lambda row: cvtFpath(row['flood_label'], 'vh'), axis=1)\n",
    "val_df['water_body']=val_df.apply(lambda row: cvtFpath(row['flood_label'], 'water_body'), axis=1)"
   ]
  },
  {
   "cell_type": "code",
   "execution_count": 40,
   "id": "d97f3376-1816-4edc-910e-8fba4dd9a6b9",
   "metadata": {},
   "outputs": [],
   "source": [
    "test_df = val_df.sample(int(val_df.shape[0]/2))\n",
    "val_df = val_df.drop(list(test_df.index))"
   ]
  },
  {
   "cell_type": "code",
   "execution_count": 41,
   "id": "351ff128-fb07-4bb8-9eae-ddd02d094e4e",
   "metadata": {},
   "outputs": [
    {
     "data": {
      "text/plain": [
       "(5200, 4)"
      ]
     },
     "execution_count": 41,
     "metadata": {},
     "output_type": "execute_result"
    }
   ],
   "source": [
    "val_df.shape"
   ]
  },
  {
   "cell_type": "code",
   "execution_count": 42,
   "id": "1d321d7b-c696-4ca9-8fe5-6152ce8f8dfb",
   "metadata": {},
   "outputs": [],
   "source": [
    "train_df.to_csv('../data/train.csv')\n",
    "val_df.to_csv('../data/val.csv')\n",
    "test_df.to_csv('../data/test.csv')"
   ]
  }
 ],
 "metadata": {
  "kernelspec": {
   "display_name": "sar-env",
   "language": "python",
   "name": "sar-env"
  },
  "language_info": {
   "codemirror_mode": {
    "name": "ipython",
    "version": 3
   },
   "file_extension": ".py",
   "mimetype": "text/x-python",
   "name": "python",
   "nbconvert_exporter": "python",
   "pygments_lexer": "ipython3",
   "version": "3.9.16"
  }
 },
 "nbformat": 4,
 "nbformat_minor": 5
}
