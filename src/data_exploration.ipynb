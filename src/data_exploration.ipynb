{
 "cells": [
  {
   "cell_type": "markdown",
   "id": "ce82b9e4-13f9-4658-a823-0bc795a136f2",
   "metadata": {},
   "source": [
    "# Sen1Floods11 Dataset"
   ]
  },
  {
   "cell_type": "code",
   "execution_count": 1,
   "id": "dda3cadf-cdba-4d66-8eab-39fe43815d97",
   "metadata": {},
   "outputs": [
    {
     "name": "stdout",
     "output_type": "stream",
     "text": [
      "/home/genrev_kiel_hizon/SAR_flood_segmentation\n"
     ]
    }
   ],
   "source": [
    "from glob import glob\n",
    "from matplotlib import pyplot as plt\n",
    "import numpy as np\n",
    "import os\n",
    "from skimage.io import imread, imshow\n",
    "import numpy as np\n",
    "import pandas as pd\n",
    "import seaborn as sns\n",
    "import df_utils\n",
    "from pytorch_lightning import seed_everything\n",
    "from sklearn.model_selection import train_test_split\n",
    "\n",
    "ROOT = os.path.dirname(os.getcwd())\n",
    "print(ROOT)"
   ]
  },
  {
   "cell_type": "code",
   "execution_count": 2,
   "id": "bc716772-2bf7-432f-a4c6-fa6841b398d5",
   "metadata": {},
   "outputs": [],
   "source": [
    "HAND_LABELED = os.path.join(ROOT, 'sen1floods11', 'flood_events', 'HandLabeled')\n",
    "WEAKLY_LABELED = os.path.join(ROOT, 'sen1floods11', 'flood_events', 'WeaklyLabeled')\n",
    "\n",
    "hl_folders = ['JRCWaterHand', 'LabelHand', 'S1Hand', 'S1OtsuLabelHand', 'S2Hand']\n",
    "wl_folders = ['S1OtsuLabelWeak', 'S1Weak', 'S2IndexLabelWeak']"
   ]
  },
  {
   "cell_type": "markdown",
   "id": "223576e1-d06f-4fbc-8dc2-f596f022a6ce",
   "metadata": {
    "tags": []
   },
   "source": [
    "## Generating the annotation CSV"
   ]
  },
  {
   "cell_type": "markdown",
   "id": "48d1449b-9f80-4fb5-a2ab-6dc16235f5db",
   "metadata": {
    "tags": []
   },
   "source": [
    "### Hand Labeled\n",
    "\n",
    "Train test split is already provided for the Hand Labeled images. Process the CSVs such that Region and the unique Image Id is left. The file path can be reconstructed during loading. Additionally, add the Bolivia images as the \"hold out\" set."
   ]
  },
  {
   "cell_type": "code",
   "execution_count": 3,
   "id": "68d899bd-1ef5-49d9-a6a3-fee2c860ad0d",
   "metadata": {},
   "outputs": [
    {
     "name": "stdout",
     "output_type": "stream",
     "text": [
      "JRCWaterHand: 446\n",
      "LabelHand: 446\n",
      "S1Hand: 446\n",
      "S1OtsuLabelHand: 446\n",
      "S2Hand: 446\n"
     ]
    }
   ],
   "source": [
    "for folder in hl_folders:\n",
    "    hl_images = glob(f'{os.path.join(HAND_LABELED, folder)}/*.tif')\n",
    "    hl_images = [hl_image.split('/')[8].replace(f'_{folder}.tif', '') for hl_image in hl_images]\n",
    "    print(f'{folder}: {len(hl_images)}')"
   ]
  },
  {
   "cell_type": "code",
   "execution_count": 4,
   "id": "4bf7a404-d702-42a1-b0a7-77de80813f58",
   "metadata": {},
   "outputs": [],
   "source": [
    "SPLITS = ['test', 'train', 'valid']\n",
    "hand_labeled = pd.DataFrame()\n",
    "for SPLIT in SPLITS:\n",
    "    FILE = os.path.join(ROOT, 'sen1floods11', f'flood_{SPLIT}_data.csv')\n",
    "    hl = pd.read_csv(FILE, header=None)\n",
    "    hl['Region'] = hl[0].str.split('_', expand=True)[0]\n",
    "    hl['Img_Id'] = hl[0].str.split('_', expand=True)[1]\n",
    "    hl['Split'] = SPLIT\n",
    "    hl.drop(columns=[0,1], inplace=True)\n",
    "    hand_labeled = pd.concat([hand_labeled, hl])"
   ]
  },
  {
   "cell_type": "code",
   "execution_count": 5,
   "id": "ca6e04d1-cc79-4b84-9c25-c09606cd4af5",
   "metadata": {},
   "outputs": [
    {
     "data": {
      "text/html": [
       "<div>\n",
       "<style scoped>\n",
       "    .dataframe tbody tr th:only-of-type {\n",
       "        vertical-align: middle;\n",
       "    }\n",
       "\n",
       "    .dataframe tbody tr th {\n",
       "        vertical-align: top;\n",
       "    }\n",
       "\n",
       "    .dataframe thead th {\n",
       "        text-align: right;\n",
       "    }\n",
       "</style>\n",
       "<table border=\"1\" class=\"dataframe\">\n",
       "  <thead>\n",
       "    <tr style=\"text-align: right;\">\n",
       "      <th></th>\n",
       "      <th>Region</th>\n",
       "      <th>Img_Id</th>\n",
       "      <th>Split</th>\n",
       "    </tr>\n",
       "  </thead>\n",
       "  <tbody>\n",
       "    <tr>\n",
       "      <th>57</th>\n",
       "      <td>Somalia</td>\n",
       "      <td>61368</td>\n",
       "      <td>valid</td>\n",
       "    </tr>\n",
       "    <tr>\n",
       "      <th>81</th>\n",
       "      <td>USA</td>\n",
       "      <td>1039203</td>\n",
       "      <td>valid</td>\n",
       "    </tr>\n",
       "    <tr>\n",
       "      <th>53</th>\n",
       "      <td>India</td>\n",
       "      <td>91379</td>\n",
       "      <td>train</td>\n",
       "    </tr>\n",
       "    <tr>\n",
       "      <th>139</th>\n",
       "      <td>Paraguay</td>\n",
       "      <td>339807</td>\n",
       "      <td>train</td>\n",
       "    </tr>\n",
       "    <tr>\n",
       "      <th>19</th>\n",
       "      <td>India</td>\n",
       "      <td>80221</td>\n",
       "      <td>test</td>\n",
       "    </tr>\n",
       "    <tr>\n",
       "      <th>9</th>\n",
       "      <td>Ghana</td>\n",
       "      <td>277</td>\n",
       "      <td>valid</td>\n",
       "    </tr>\n",
       "    <tr>\n",
       "      <th>63</th>\n",
       "      <td>Spain</td>\n",
       "      <td>5650136</td>\n",
       "      <td>test</td>\n",
       "    </tr>\n",
       "    <tr>\n",
       "      <th>108</th>\n",
       "      <td>Pakistan</td>\n",
       "      <td>211386</td>\n",
       "      <td>train</td>\n",
       "    </tr>\n",
       "    <tr>\n",
       "      <th>12</th>\n",
       "      <td>Bolivia</td>\n",
       "      <td>76104</td>\n",
       "      <td>hold out</td>\n",
       "    </tr>\n",
       "    <tr>\n",
       "      <th>73</th>\n",
       "      <td>Sri-Lanka</td>\n",
       "      <td>101973</td>\n",
       "      <td>valid</td>\n",
       "    </tr>\n",
       "  </tbody>\n",
       "</table>\n",
       "</div>"
      ],
      "text/plain": [
       "        Region   Img_Id     Split\n",
       "57     Somalia    61368     valid\n",
       "81         USA  1039203     valid\n",
       "53       India    91379     train\n",
       "139   Paraguay   339807     train\n",
       "19       India    80221      test\n",
       "9        Ghana      277     valid\n",
       "63       Spain  5650136      test\n",
       "108   Pakistan   211386     train\n",
       "12     Bolivia    76104  hold out\n",
       "73   Sri-Lanka   101973     valid"
      ]
     },
     "execution_count": 5,
     "metadata": {},
     "output_type": "execute_result"
    }
   ],
   "source": [
    "bolivia = glob(f'{os.path.join(HAND_LABELED, folder)}/Bolivia*.tif')\n",
    "bolivia = [img.split('/')[8].replace(f'_{folder}.tif', '') for img in bolivia]\n",
    "img_ids = [img.split('_')[1] for img in bolivia]\n",
    "\n",
    "bolivia_df = pd.DataFrame({\n",
    "    'Region': ['Bolivia'] * len(img_ids),\n",
    "    'Img_Id': img_ids,\n",
    "    'Split': ['hold out'] * len(img_ids)\n",
    "})\n",
    "\n",
    "hand_labeled = pd.concat([hand_labeled, bolivia_df])\n",
    "hand_labeled.sample(10)"
   ]
  },
  {
   "cell_type": "code",
   "execution_count": 6,
   "id": "53439a74-b88a-45ce-9298-df8515b12b19",
   "metadata": {},
   "outputs": [],
   "source": [
    "hand_labeled.to_csv(os.path.join(ROOT, 'sen1floods11', 'hand_labeled.csv'))"
   ]
  },
  {
   "cell_type": "markdown",
   "id": "a530b792-2dda-4904-9060-a13d74f501be",
   "metadata": {
    "tags": []
   },
   "source": [
    "### Weak Labeled\n",
    "For the weak labeled images, there we use train_test_split to get an 80:20 split. No test set here because we will also use the handlabeled test set. We remove all Bolivia images here too."
   ]
  },
  {
   "cell_type": "code",
   "execution_count": 7,
   "id": "acfdc489-b766-4ba5-8dc9-fb0214558127",
   "metadata": {},
   "outputs": [
    {
     "name": "stdout",
     "output_type": "stream",
     "text": [
      "S1OtsuLabelWeak: 4384\n",
      "S1Weak: 4384\n",
      "S2IndexLabelWeak: 4384\n"
     ]
    }
   ],
   "source": [
    "for folder in wl_folders:\n",
    "    hl_images = glob(f'{os.path.join(WEAKLY_LABELED, folder)}/*.tif')\n",
    "    hl_images = [hl_image.split('/')[8].replace(f'_{folder}.tif', '') for hl_image in hl_images]\n",
    "    print(f'{folder}: {len(hl_images)}')"
   ]
  },
  {
   "cell_type": "code",
   "execution_count": 8,
   "id": "3da6fdb0-638e-4f7d-aaaf-b542b2ff6fe5",
   "metadata": {},
   "outputs": [
    {
     "data": {
      "text/html": [
       "<div>\n",
       "<style scoped>\n",
       "    .dataframe tbody tr th:only-of-type {\n",
       "        vertical-align: middle;\n",
       "    }\n",
       "\n",
       "    .dataframe tbody tr th {\n",
       "        vertical-align: top;\n",
       "    }\n",
       "\n",
       "    .dataframe thead th {\n",
       "        text-align: right;\n",
       "    }\n",
       "</style>\n",
       "<table border=\"1\" class=\"dataframe\">\n",
       "  <thead>\n",
       "    <tr style=\"text-align: right;\">\n",
       "      <th></th>\n",
       "      <th>Region</th>\n",
       "      <th>Img_Id</th>\n",
       "      <th>Split</th>\n",
       "    </tr>\n",
       "  </thead>\n",
       "  <tbody>\n",
       "    <tr>\n",
       "      <th>1735</th>\n",
       "      <td>Mekong</td>\n",
       "      <td>8472711</td>\n",
       "      <td>train</td>\n",
       "    </tr>\n",
       "    <tr>\n",
       "      <th>4101</th>\n",
       "      <td>USA</td>\n",
       "      <td>6481276</td>\n",
       "      <td>train</td>\n",
       "    </tr>\n",
       "    <tr>\n",
       "      <th>2678</th>\n",
       "      <td>Colombia</td>\n",
       "      <td>1221590</td>\n",
       "      <td>train</td>\n",
       "    </tr>\n",
       "    <tr>\n",
       "      <th>281</th>\n",
       "      <td>Mekong</td>\n",
       "      <td>5269434</td>\n",
       "      <td>train</td>\n",
       "    </tr>\n",
       "    <tr>\n",
       "      <th>3172</th>\n",
       "      <td>India</td>\n",
       "      <td>959294</td>\n",
       "      <td>train</td>\n",
       "    </tr>\n",
       "    <tr>\n",
       "      <th>1679</th>\n",
       "      <td>Mekong</td>\n",
       "      <td>6784669</td>\n",
       "      <td>train</td>\n",
       "    </tr>\n",
       "    <tr>\n",
       "      <th>2435</th>\n",
       "      <td>Pakistan</td>\n",
       "      <td>8656077</td>\n",
       "      <td>train</td>\n",
       "    </tr>\n",
       "    <tr>\n",
       "      <th>1514</th>\n",
       "      <td>Mekong</td>\n",
       "      <td>1099620</td>\n",
       "      <td>valid</td>\n",
       "    </tr>\n",
       "    <tr>\n",
       "      <th>2187</th>\n",
       "      <td>India</td>\n",
       "      <td>7423357</td>\n",
       "      <td>train</td>\n",
       "    </tr>\n",
       "    <tr>\n",
       "      <th>3203</th>\n",
       "      <td>Mekong</td>\n",
       "      <td>9805757</td>\n",
       "      <td>train</td>\n",
       "    </tr>\n",
       "  </tbody>\n",
       "</table>\n",
       "</div>"
      ],
      "text/plain": [
       "        Region   Img_Id  Split\n",
       "1735    Mekong  8472711  train\n",
       "4101       USA  6481276  train\n",
       "2678  Colombia  1221590  train\n",
       "281     Mekong  5269434  train\n",
       "3172     India   959294  train\n",
       "1679    Mekong  6784669  train\n",
       "2435  Pakistan  8656077  train\n",
       "1514    Mekong  1099620  valid\n",
       "2187     India  7423357  train\n",
       "3203    Mekong  9805757  train"
      ]
     },
     "execution_count": 8,
     "metadata": {},
     "output_type": "execute_result"
    }
   ],
   "source": [
    "hl_images = glob(f'{os.path.join(WEAKLY_LABELED, folder)}/*.tif')\n",
    "hl_images = [hl_image.split('/')[8].replace(f'_{folder}.tif', '') for hl_image in hl_images]\n",
    "weak_labeled = pd.DataFrame({\n",
    "    'Region': [hl_image.split('_')[0] for hl_image in hl_images],\n",
    "    'Img_Id': [hl_image.split('_')[1] for hl_image in hl_images],\n",
    "})\n",
    "\n",
    "weak_labeled.sample(10)\n",
    "weak_labeled = weak_labeled.loc[weak_labeled['Region'] !='Bolivia']\n",
    "train, valid = train_test_split(weak_labeled, test_size=0.2, stratify=weak_labeled['Region'], random_state=42)\n",
    "\n",
    "train['Split'] = 'train'\n",
    "valid['Split'] = 'valid'\n",
    "\n",
    "weak_labeled = pd.concat([train, valid])\n",
    "weak_labeled.sample(10)"
   ]
  },
  {
   "cell_type": "code",
   "execution_count": 9,
   "id": "41d67dde-51c0-4947-9e97-218d795d3a8b",
   "metadata": {},
   "outputs": [],
   "source": [
    "weak_labeled.to_csv(os.path.join(ROOT, 'sen1floods11', 'weak_labeled.csv'))"
   ]
  },
  {
   "cell_type": "markdown",
   "id": "1539c548-98dc-499c-81b6-bfee0475a2dc",
   "metadata": {
    "jp-MarkdownHeadingCollapsed": true,
    "tags": []
   },
   "source": [
    "## Visualization"
   ]
  },
  {
   "cell_type": "code",
   "execution_count": 10,
   "id": "cfcc36b7-5e10-44a4-86d6-d4b51235fda5",
   "metadata": {},
   "outputs": [
    {
     "data": {
      "text/html": [
       "<div>\n",
       "<style scoped>\n",
       "    .dataframe tbody tr th:only-of-type {\n",
       "        vertical-align: middle;\n",
       "    }\n",
       "\n",
       "    .dataframe tbody tr th {\n",
       "        vertical-align: top;\n",
       "    }\n",
       "\n",
       "    .dataframe thead th {\n",
       "        text-align: right;\n",
       "    }\n",
       "</style>\n",
       "<table border=\"1\" class=\"dataframe\">\n",
       "  <thead>\n",
       "    <tr style=\"text-align: right;\">\n",
       "      <th></th>\n",
       "      <th>Region</th>\n",
       "      <th>Img_Id</th>\n",
       "      <th>Split</th>\n",
       "      <th>Label</th>\n",
       "    </tr>\n",
       "  </thead>\n",
       "  <tbody>\n",
       "    <tr>\n",
       "      <th>1520</th>\n",
       "      <td>India</td>\n",
       "      <td>7011567</td>\n",
       "      <td>valid</td>\n",
       "      <td>weak_labeled</td>\n",
       "    </tr>\n",
       "    <tr>\n",
       "      <th>2076</th>\n",
       "      <td>USA</td>\n",
       "      <td>5244420</td>\n",
       "      <td>valid</td>\n",
       "      <td>weak_labeled</td>\n",
       "    </tr>\n",
       "    <tr>\n",
       "      <th>2620</th>\n",
       "      <td>Mekong</td>\n",
       "      <td>72758</td>\n",
       "      <td>valid</td>\n",
       "      <td>weak_labeled</td>\n",
       "    </tr>\n",
       "    <tr>\n",
       "      <th>2527</th>\n",
       "      <td>Mekong</td>\n",
       "      <td>8487498</td>\n",
       "      <td>train</td>\n",
       "      <td>weak_labeled</td>\n",
       "    </tr>\n",
       "    <tr>\n",
       "      <th>2755</th>\n",
       "      <td>Mekong</td>\n",
       "      <td>66901</td>\n",
       "      <td>train</td>\n",
       "      <td>weak_labeled</td>\n",
       "    </tr>\n",
       "  </tbody>\n",
       "</table>\n",
       "</div>"
      ],
      "text/plain": [
       "      Region   Img_Id  Split         Label\n",
       "1520   India  7011567  valid  weak_labeled\n",
       "2076     USA  5244420  valid  weak_labeled\n",
       "2620  Mekong    72758  valid  weak_labeled\n",
       "2527  Mekong  8487498  train  weak_labeled\n",
       "2755  Mekong    66901  train  weak_labeled"
      ]
     },
     "execution_count": 10,
     "metadata": {},
     "output_type": "execute_result"
    }
   ],
   "source": [
    "hand_labeled['Label'] = 'hand_labeled'\n",
    "weak_labeled['Label'] = 'weak_labeled'\n",
    "\n",
    "all_data = pd.concat([hand_labeled, weak_labeled])\n",
    "all_data.sample(5)"
   ]
  },
  {
   "cell_type": "code",
   "execution_count": 11,
   "id": "6cfe0b2f-a8af-49fc-9d79-701ff2809021",
   "metadata": {},
   "outputs": [
    {
     "data": {
      "text/html": [
       "<div>\n",
       "<style scoped>\n",
       "    .dataframe tbody tr th:only-of-type {\n",
       "        vertical-align: middle;\n",
       "    }\n",
       "\n",
       "    .dataframe tbody tr th {\n",
       "        vertical-align: top;\n",
       "    }\n",
       "\n",
       "    .dataframe thead th {\n",
       "        text-align: right;\n",
       "    }\n",
       "</style>\n",
       "<table border=\"1\" class=\"dataframe\">\n",
       "  <thead>\n",
       "    <tr style=\"text-align: right;\">\n",
       "      <th></th>\n",
       "      <th>Region</th>\n",
       "      <th>Img_Id</th>\n",
       "      <th>Split</th>\n",
       "      <th>Label</th>\n",
       "    </tr>\n",
       "  </thead>\n",
       "  <tbody>\n",
       "  </tbody>\n",
       "</table>\n",
       "</div>"
      ],
      "text/plain": [
       "Empty DataFrame\n",
       "Columns: [Region, Img_Id, Split, Label]\n",
       "Index: []"
      ]
     },
     "execution_count": 11,
     "metadata": {},
     "output_type": "execute_result"
    }
   ],
   "source": [
    "# Check that no same 'chip' is shared between splits or labels\n",
    "all_data[all_data[['Region', 'Img_Id']].duplicated(keep=False)]"
   ]
  },
  {
   "cell_type": "code",
   "execution_count": 12,
   "id": "4af6c286-6695-4813-9905-4a82d4861be5",
   "metadata": {},
   "outputs": [
    {
     "data": {
      "text/plain": [
       "Index(['hold out', 'valid', 'test', 'train'], dtype='object')"
      ]
     },
     "execution_count": 12,
     "metadata": {},
     "output_type": "execute_result"
    }
   ],
   "source": [
    "hand_labeled['Split'].value_counts().sort_values(ascending=True).keys()"
   ]
  },
  {
   "cell_type": "code",
   "execution_count": 13,
   "id": "e868dd17-4457-4243-ba37-7206bd15c758",
   "metadata": {},
   "outputs": [
    {
     "data": {
      "image/png": "[encoded data removed]",
      "text/plain": [
       "<Figure size 640x480 with 1 Axes>"
      ]
     },
     "metadata": {},
     "output_type": "display_data"
    }
   ],
   "source": [
    "sns.set_style('whitegrid')\n",
    "# g = sns.histplot(data=hand_labeled, y='Region', hue='Split', multiple='stack', shrink=0.8)\n",
    "g = hand_labeled.groupby(['Split', 'Region']).size().reset_index().pivot(columns='Split', index='Region', values=0).sort_values('train', ascending=False)\n",
    "g.plot(kind='barh', stacked=True)\n",
    "plt.title('Hand Labeled Images')\n",
    "plt.show()"
   ]
  },
  {
   "cell_type": "code",
   "execution_count": 14,
   "id": "16b6bc02-dd15-475a-ad6e-ae6327c8cd26",
   "metadata": {},
   "outputs": [
    {
     "data": {
      "image/png": "[encoded data removed]",
      "text/plain": [
       "<Figure size 640x480 with 1 Axes>"
      ]
     },
     "metadata": {},
     "output_type": "display_data"
    }
   ],
   "source": [
    "g = weak_labeled.groupby(['Split', 'Region']).size().reset_index().pivot(columns='Split', index='Region', values=0).sort_values('train', ascending=False)\n",
    "g.plot(kind='barh', stacked=True)\n",
    "plt.title('Weak Labeled Images')\n",
    "plt.show()"
   ]
  },
  {
   "cell_type": "markdown",
   "id": "7bf24838-a263-4e53-9947-4e5a47468f31",
   "metadata": {
    "tags": []
   },
   "source": [
    "## Computing the Mean and Standard Deviation"
   ]
  },
  {
   "cell_type": "code",
   "execution_count": 15,
   "id": "dcaae2bb-7b41-49e2-8637-0c7d69ef20fa",
   "metadata": {},
   "outputs": [
    {
     "data": {
      "text/html": [
       "<div>\n",
       "<style scoped>\n",
       "    .dataframe tbody tr th:only-of-type {\n",
       "        vertical-align: middle;\n",
       "    }\n",
       "\n",
       "    .dataframe tbody tr th {\n",
       "        vertical-align: top;\n",
       "    }\n",
       "\n",
       "    .dataframe thead th {\n",
       "        text-align: right;\n",
       "    }\n",
       "</style>\n",
       "<table border=\"1\" class=\"dataframe\">\n",
       "  <thead>\n",
       "    <tr style=\"text-align: right;\">\n",
       "      <th></th>\n",
       "      <th>Img_Id</th>\n",
       "      <th>InvalidPx</th>\n",
       "      <th>Label</th>\n",
       "      <th>Region</th>\n",
       "      <th>Split</th>\n",
       "    </tr>\n",
       "  </thead>\n",
       "  <tbody>\n",
       "    <tr>\n",
       "      <th>27</th>\n",
       "      <td>474783</td>\n",
       "      <td>NaN</td>\n",
       "      <td>hand_labeled</td>\n",
       "      <td>Mekong</td>\n",
       "      <td>valid</td>\n",
       "    </tr>\n",
       "    <tr>\n",
       "      <th>13</th>\n",
       "      <td>747992</td>\n",
       "      <td>NaN</td>\n",
       "      <td>hand_labeled</td>\n",
       "      <td>India</td>\n",
       "      <td>test</td>\n",
       "    </tr>\n",
       "    <tr>\n",
       "      <th>53</th>\n",
       "      <td>91379</td>\n",
       "      <td>0.0</td>\n",
       "      <td>hand_labeled</td>\n",
       "      <td>India</td>\n",
       "      <td>train</td>\n",
       "    </tr>\n",
       "    <tr>\n",
       "      <th>37</th>\n",
       "      <td>534470</td>\n",
       "      <td>0.0</td>\n",
       "      <td>hand_labeled</td>\n",
       "      <td>India</td>\n",
       "      <td>train</td>\n",
       "    </tr>\n",
       "    <tr>\n",
       "      <th>62</th>\n",
       "      <td>7558720</td>\n",
       "      <td>NaN</td>\n",
       "      <td>hand_labeled</td>\n",
       "      <td>Spain</td>\n",
       "      <td>test</td>\n",
       "    </tr>\n",
       "  </tbody>\n",
       "</table>\n",
       "</div>"
      ],
      "text/plain": [
       "     Img_Id  InvalidPx         Label  Region  Split\n",
       "27   474783        NaN  hand_labeled  Mekong  valid\n",
       "13   747992        NaN  hand_labeled   India   test\n",
       "53    91379        0.0  hand_labeled   India  train\n",
       "37   534470        0.0  hand_labeled   India  train\n",
       "62  7558720        NaN  hand_labeled   Spain   test"
      ]
     },
     "execution_count": 15,
     "metadata": {},
     "output_type": "execute_result"
    }
   ],
   "source": [
    "def get_mean_std(row, ROOT, folder):\n",
    "    if row['Split'] == 'train':\n",
    "        path = os.path.join(ROOT, folder, f'{row[\"Region\"]}_{row[\"Img_Id\"]}_{folder}.tif')\n",
    "        img = imread(path)\n",
    "        row['Ch1_Mean'] = np.mean(img[0])\n",
    "        row['Ch1_StdDev'] = np.std(img[0])\n",
    "        row['Ch2_Mean'] = np.mean(img[1])\n",
    "        row['Ch2_StdDev'] = np.std(img[1])\n",
    "        # row['InvalidPx'] = np.isnan(img).sum()\n",
    "    return row\n",
    "\n",
    "hand_labeled = hand_labeled.apply(lambda row: get_mean_std(row, HAND_LABELED, 'S1Hand'), axis=1)\n",
    "\n",
    "hand_labeled.sample(5)"
   ]
  },
  {
   "cell_type": "code",
   "execution_count": 22,
   "id": "5bf070ec-79a1-4e68-b8e0-895b3313b6c2",
   "metadata": {},
   "outputs": [
    {
     "data": {
      "text/html": [
       "<div>\n",
       "<style scoped>\n",
       "    .dataframe tbody tr th:only-of-type {\n",
       "        vertical-align: middle;\n",
       "    }\n",
       "\n",
       "    .dataframe tbody tr th {\n",
       "        vertical-align: top;\n",
       "    }\n",
       "\n",
       "    .dataframe thead th {\n",
       "        text-align: right;\n",
       "    }\n",
       "</style>\n",
       "<table border=\"1\" class=\"dataframe\">\n",
       "  <thead>\n",
       "    <tr style=\"text-align: right;\">\n",
       "      <th></th>\n",
       "      <th>Img_Id</th>\n",
       "      <th>InvalidPx</th>\n",
       "      <th>Label</th>\n",
       "      <th>Region</th>\n",
       "      <th>Split</th>\n",
       "    </tr>\n",
       "  </thead>\n",
       "  <tbody>\n",
       "    <tr>\n",
       "      <th>0</th>\n",
       "      <td>313799</td>\n",
       "      <td>NaN</td>\n",
       "      <td>hand_labeled</td>\n",
       "      <td>Ghana</td>\n",
       "      <td>test</td>\n",
       "    </tr>\n",
       "    <tr>\n",
       "      <th>1</th>\n",
       "      <td>1078550</td>\n",
       "      <td>NaN</td>\n",
       "      <td>hand_labeled</td>\n",
       "      <td>Ghana</td>\n",
       "      <td>test</td>\n",
       "    </tr>\n",
       "    <tr>\n",
       "      <th>2</th>\n",
       "      <td>97059</td>\n",
       "      <td>NaN</td>\n",
       "      <td>hand_labeled</td>\n",
       "      <td>Ghana</td>\n",
       "      <td>test</td>\n",
       "    </tr>\n",
       "    <tr>\n",
       "      <th>3</th>\n",
       "      <td>359826</td>\n",
       "      <td>NaN</td>\n",
       "      <td>hand_labeled</td>\n",
       "      <td>Ghana</td>\n",
       "      <td>test</td>\n",
       "    </tr>\n",
       "    <tr>\n",
       "      <th>4</th>\n",
       "      <td>319168</td>\n",
       "      <td>NaN</td>\n",
       "      <td>hand_labeled</td>\n",
       "      <td>Ghana</td>\n",
       "      <td>test</td>\n",
       "    </tr>\n",
       "    <tr>\n",
       "      <th>...</th>\n",
       "      <td>...</td>\n",
       "      <td>...</td>\n",
       "      <td>...</td>\n",
       "      <td>...</td>\n",
       "      <td>...</td>\n",
       "    </tr>\n",
       "    <tr>\n",
       "      <th>10</th>\n",
       "      <td>294583</td>\n",
       "      <td>NaN</td>\n",
       "      <td>hand_labeled</td>\n",
       "      <td>Bolivia</td>\n",
       "      <td>hold out</td>\n",
       "    </tr>\n",
       "    <tr>\n",
       "      <th>11</th>\n",
       "      <td>312675</td>\n",
       "      <td>NaN</td>\n",
       "      <td>hand_labeled</td>\n",
       "      <td>Bolivia</td>\n",
       "      <td>hold out</td>\n",
       "    </tr>\n",
       "    <tr>\n",
       "      <th>12</th>\n",
       "      <td>76104</td>\n",
       "      <td>NaN</td>\n",
       "      <td>hand_labeled</td>\n",
       "      <td>Bolivia</td>\n",
       "      <td>hold out</td>\n",
       "    </tr>\n",
       "    <tr>\n",
       "      <th>13</th>\n",
       "      <td>379434</td>\n",
       "      <td>NaN</td>\n",
       "      <td>hand_labeled</td>\n",
       "      <td>Bolivia</td>\n",
       "      <td>hold out</td>\n",
       "    </tr>\n",
       "    <tr>\n",
       "      <th>14</th>\n",
       "      <td>432776</td>\n",
       "      <td>NaN</td>\n",
       "      <td>hand_labeled</td>\n",
       "      <td>Bolivia</td>\n",
       "      <td>hold out</td>\n",
       "    </tr>\n",
       "  </tbody>\n",
       "</table>\n",
       "<p>194 rows × 5 columns</p>\n",
       "</div>"
      ],
      "text/plain": [
       "     Img_Id  InvalidPx         Label   Region     Split\n",
       "0    313799        NaN  hand_labeled    Ghana      test\n",
       "1   1078550        NaN  hand_labeled    Ghana      test\n",
       "2     97059        NaN  hand_labeled    Ghana      test\n",
       "3    359826        NaN  hand_labeled    Ghana      test\n",
       "4    319168        NaN  hand_labeled    Ghana      test\n",
       "..      ...        ...           ...      ...       ...\n",
       "10   294583        NaN  hand_labeled  Bolivia  hold out\n",
       "11   312675        NaN  hand_labeled  Bolivia  hold out\n",
       "12    76104        NaN  hand_labeled  Bolivia  hold out\n",
       "13   379434        NaN  hand_labeled  Bolivia  hold out\n",
       "14   432776        NaN  hand_labeled  Bolivia  hold out\n",
       "\n",
       "[194 rows x 5 columns]"
      ]
     },
     "execution_count": 22,
     "metadata": {},
     "output_type": "execute_result"
    }
   ],
   "source": [
    "path = os.path.join(ROOT, folder, f'{row[\"Region\"]}_{row[\"Img_Id\"]}_{folder}.tif')"
   ]
  },
  {
   "cell_type": "code",
   "execution_count": 16,
   "id": "0939c89d-fb4b-4808-99ff-a9bfd16af1d4",
   "metadata": {},
   "outputs": [
    {
     "data": {
      "text/html": [
       "<div>\n",
       "<style scoped>\n",
       "    .dataframe tbody tr th:only-of-type {\n",
       "        vertical-align: middle;\n",
       "    }\n",
       "\n",
       "    .dataframe tbody tr th {\n",
       "        vertical-align: top;\n",
       "    }\n",
       "\n",
       "    .dataframe thead th {\n",
       "        text-align: right;\n",
       "    }\n",
       "</style>\n",
       "<table border=\"1\" class=\"dataframe\">\n",
       "  <thead>\n",
       "    <tr style=\"text-align: right;\">\n",
       "      <th></th>\n",
       "      <th>Img_Id</th>\n",
       "      <th>InvalidPx</th>\n",
       "      <th>Label</th>\n",
       "      <th>Region</th>\n",
       "      <th>Split</th>\n",
       "    </tr>\n",
       "  </thead>\n",
       "  <tbody>\n",
       "    <tr>\n",
       "      <th>98</th>\n",
       "      <td>5197713</td>\n",
       "      <td>0.0</td>\n",
       "      <td>weak_labeled</td>\n",
       "      <td>India</td>\n",
       "      <td>train</td>\n",
       "    </tr>\n",
       "    <tr>\n",
       "      <th>1650</th>\n",
       "      <td>4579290</td>\n",
       "      <td>0.0</td>\n",
       "      <td>weak_labeled</td>\n",
       "      <td>Mekong</td>\n",
       "      <td>train</td>\n",
       "    </tr>\n",
       "    <tr>\n",
       "      <th>2055</th>\n",
       "      <td>2923887</td>\n",
       "      <td>0.0</td>\n",
       "      <td>weak_labeled</td>\n",
       "      <td>Paraguay</td>\n",
       "      <td>train</td>\n",
       "    </tr>\n",
       "    <tr>\n",
       "      <th>2667</th>\n",
       "      <td>367813</td>\n",
       "      <td>0.0</td>\n",
       "      <td>weak_labeled</td>\n",
       "      <td>Colombia</td>\n",
       "      <td>train</td>\n",
       "    </tr>\n",
       "    <tr>\n",
       "      <th>556</th>\n",
       "      <td>4617667</td>\n",
       "      <td>NaN</td>\n",
       "      <td>weak_labeled</td>\n",
       "      <td>Ghana</td>\n",
       "      <td>valid</td>\n",
       "    </tr>\n",
       "  </tbody>\n",
       "</table>\n",
       "</div>"
      ],
      "text/plain": [
       "       Img_Id  InvalidPx         Label    Region  Split\n",
       "98    5197713        0.0  weak_labeled     India  train\n",
       "1650  4579290        0.0  weak_labeled    Mekong  train\n",
       "2055  2923887        0.0  weak_labeled  Paraguay  train\n",
       "2667   367813        0.0  weak_labeled  Colombia  train\n",
       "556   4617667        NaN  weak_labeled     Ghana  valid"
      ]
     },
     "execution_count": 16,
     "metadata": {},
     "output_type": "execute_result"
    }
   ],
   "source": [
    "# weak_labeled = weak_labeled.apply(lambda row: get_mean_std(row, WEAKLY_LABELED, 'S1Weak'), axis=1)\n",
    "# weak_labeled.sample(5)"
   ]
  },
  {
   "cell_type": "code",
   "execution_count": 17,
   "id": "4740169b-202d-4fc4-b3a3-bcf2b9615c04",
   "metadata": {},
   "outputs": [],
   "source": [
    "# import json\n",
    "# stats = {\n",
    "#     'HandLabeled': {\n",
    "#         'Ch1': {\n",
    "#             'Mean': hand_labeled['Ch1_Mean'].mean(),\n",
    "#             'Std': hand_labeled['Ch1_StdDev'].mean()\n",
    "#         },\n",
    "#         'Ch2': {\n",
    "#             'Mean': hand_labeled['Ch2_Mean'].mean(),\n",
    "#             'Std': hand_labeled['Ch2_StdDev'].mean()\n",
    "#         } \n",
    "#     },\n",
    "#     'WeaklyLabeled': {\n",
    "#         'Ch1': {\n",
    "#             'Mean': weak_labeled['Ch1_Mean'].mean(),\n",
    "#             'Std': weak_labeled['Ch1_StdDev'].mean()\n",
    "#         },\n",
    "#         'Ch2': {\n",
    "#             'Mean': weak_labeled['Ch2_Mean'].mean(),\n",
    "#             'Std': weak_labeled['Ch2_StdDev'].mean()\n",
    "#         } \n",
    "#     }\n",
    "# }\n",
    "\n",
    "# with open(os.path.join(ROOT, 'sen1floods11', 'mean_std.json'), 'w') as f:\n",
    "#     f.write(json.dumps(stats, indent=4))"
   ]
  },
  {
   "cell_type": "code",
   "execution_count": 18,
   "id": "cb9c311b-01e1-45f2-a7df-550b76f65a1b",
   "metadata": {},
   "outputs": [],
   "source": [
    "# import gdown\n",
    "# URL = 'https://drive.google.com/drive/folders/1epo0cP6RQyH5BI2SJJzZZRFtnZXa6jpJ'\n",
    "# gdown.download_folder(URL, quiet=True)"
   ]
  }
 ],
 "metadata": {
  "kernelspec": {
   "display_name": "sar-env-2",
   "language": "python",
   "name": "sar-env-2"
  },
  "language_info": {
   "codemirror_mode": {
    "name": "ipython",
    "version": 3
   },
   "file_extension": ".py",
   "mimetype": "text/x-python",
   "name": "python",
   "nbconvert_exporter": "python",
   "pygments_lexer": "ipython3",
   "version": "3.9.16"
  }
 },
 "nbformat": 4,
 "nbformat_minor": 5
}
