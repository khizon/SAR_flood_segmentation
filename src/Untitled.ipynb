{
 "cells": [
  {
   "cell_type": "code",
   "execution_count": 1,
   "id": "5d21da43-6de0-4680-ae50-6f1d2736946a",
   "metadata": {},
   "outputs": [
    {
     "name": "stdout",
     "output_type": "stream",
     "text": [
      "/home/genrev_kiel_hizon/SAR_flood_segmentation\n",
      "/home/genrev_kiel_hizon/SAR_flood_segmentation/src\n"
     ]
    }
   ],
   "source": [
    "import warnings\n",
    "warnings.filterwarnings('ignore')\n",
    "\n",
    "import torch\n",
    "import torch.nn as nn\n",
    "import torch.optim as optim\n",
    "import torchvision.transforms as transforms\n",
    "import torchvision\n",
    "from torch.utils.data import Dataset, DataLoader\n",
    "import os\n",
    "\n",
    "from pytorch_lightning import LightningModule, Trainer, LightningDataModule, Callback\n",
    "from pytorch_lightning.callbacks import ModelCheckpoint\n",
    "from pytorch_lightning.callbacks.early_stopping import EarlyStopping\n",
    "from pytorch_lightning.loggers import WandbLogger\n",
    "\n",
    "import pandas as pd\n",
    "from skimage import io\n",
    "import numpy as np\n",
    "import matplotlib.pyplot as plt\n",
    "from src.etci_dataset import ETCIDataset, ETCIDataModule\n",
    "from src.model import SegModule\n",
    "from src.utils import *\n",
    "import segmentation_models_pytorch as smp\n",
    "import wandb\n",
    "!pwd\n",
    "os.chdir('src')\n",
    "!pwd"
   ]
  },
  {
   "cell_type": "code",
   "execution_count": 2,
   "id": "305e3351-0e8c-4297-9bf5-d7a025d2658c",
   "metadata": {},
   "outputs": [],
   "source": [
    "model = smp.Unet(\n",
    "        encoder_name='efficientnet-b7',\n",
    "        encoder_weights='imagenet',\n",
    "        in_channels=3,\n",
    "        classes=1\n",
    "    )"
   ]
  },
  {
   "cell_type": "code",
   "execution_count": 3,
   "id": "2c06043e-aa68-4851-a10d-0a4799620c48",
   "metadata": {},
   "outputs": [
    {
     "name": "stderr",
     "output_type": "stream",
     "text": [
      "Failed to detect the name of this notebook, you can set it manually with the WANDB_NOTEBOOK_NAME environment variable to enable code saving.\n",
      "\u001b[34m\u001b[1mwandb\u001b[0m: Currently logged in as: \u001b[33mkhizon\u001b[0m. Use \u001b[1m`wandb login --relogin`\u001b[0m to force relogin\n"
     ]
    },
    {
     "data": {
      "text/html": [
       "wandb version 0.14.2 is available!  To upgrade, please run:\n",
       " $ pip install wandb --upgrade"
      ],
      "text/plain": [
       "<IPython.core.display.HTML object>"
      ]
     },
     "metadata": {},
     "output_type": "display_data"
    },
    {
     "data": {
      "text/html": [
       "Tracking run with wandb version 0.14.1"
      ],
      "text/plain": [
       "<IPython.core.display.HTML object>"
      ]
     },
     "metadata": {},
     "output_type": "display_data"
    },
    {
     "data": {
      "text/html": [
       "Run data is saved locally in <code>./wandb/run-20230408_121944-ths26kfe</code>"
      ],
      "text/plain": [
       "<IPython.core.display.HTML object>"
      ]
     },
     "metadata": {},
     "output_type": "display_data"
    },
    {
     "data": {
      "text/html": [
       "Syncing run <strong><a href='https://wandb.ai/khizon/sar_seg/runs/ths26kfe' target=\"_blank\">electric-night-30</a></strong> to <a href='https://wandb.ai/khizon/sar_seg' target=\"_blank\">Weights & Biases</a> (<a href='https://wandb.me/run' target=\"_blank\">docs</a>)<br/>"
      ],
      "text/plain": [
       "<IPython.core.display.HTML object>"
      ]
     },
     "metadata": {},
     "output_type": "display_data"
    },
    {
     "data": {
      "text/html": [
       " View project at <a href='https://wandb.ai/khizon/sar_seg' target=\"_blank\">https://wandb.ai/khizon/sar_seg</a>"
      ],
      "text/plain": [
       "<IPython.core.display.HTML object>"
      ]
     },
     "metadata": {},
     "output_type": "display_data"
    },
    {
     "data": {
      "text/html": [
       " View run at <a href='https://wandb.ai/khizon/sar_seg/runs/ths26kfe' target=\"_blank\">https://wandb.ai/khizon/sar_seg/runs/ths26kfe</a>"
      ],
      "text/plain": [
       "<IPython.core.display.HTML object>"
      ]
     },
     "metadata": {},
     "output_type": "display_data"
    }
   ],
   "source": [
    "wandb_logger = WandbLogger(project='sar_seg', log_model='all')\n",
    "model_checkpoint = ModelCheckpoint(\n",
    "        dirpath=os.path.join('SAR_flood_segmentation', \"checkpoints\"),\n",
    "        filename=\"sar-best-miou\",\n",
    "        save_top_k=1,\n",
    "        verbose=True,\n",
    "        monitor='val_miou',\n",
    "        mode='max',\n",
    "    )"
   ]
  },
  {
   "cell_type": "code",
   "execution_count": 4,
   "id": "86085f77-7871-435f-8e90-c27b25741f91",
   "metadata": {},
   "outputs": [],
   "source": [
    "early_stop_callback = EarlyStopping(monitor=\"val_miou\", min_delta=0.25, patience=5, verbose=False, mode=\"max\")"
   ]
  },
  {
   "cell_type": "code",
   "execution_count": 5,
   "id": "f1a790a1-454f-45ea-9ae1-c400ff54c59a",
   "metadata": {},
   "outputs": [
    {
     "name": "stderr",
     "output_type": "stream",
     "text": [
      "GPU available: False, used: False\n",
      "TPU available: False, using: 0 TPU cores\n",
      "IPU available: False, using: 0 IPUs\n",
      "HPU available: False, using: 0 HPUs\n"
     ]
    }
   ],
   "source": [
    "trainer = Trainer(max_epochs=1,\n",
    "                      logger=wandb_logger,\n",
    "                      gradient_clip_val=0.5,\n",
    "                      callbacks=[model_checkpoint, early_stop_callback])"
   ]
  },
  {
   "cell_type": "code",
   "execution_count": 6,
   "id": "12c4165d-56b7-4f69-a386-e6cf59b77d9f",
   "metadata": {},
   "outputs": [],
   "source": [
    "datamodule=ETCIDataModule('../data/', batch_size=8, num_workers=1)\n",
    "datamodule.setup()"
   ]
  },
  {
   "cell_type": "code",
   "execution_count": 7,
   "id": "83398b2a-ef62-4a78-8a19-09fa389e571f",
   "metadata": {},
   "outputs": [],
   "source": [
    "unet_model = SegModule(model)"
   ]
  },
  {
   "cell_type": "code",
   "execution_count": 8,
   "id": "95e27c1a-4ca4-4b81-877d-0ffb9bd8f377",
   "metadata": {},
   "outputs": [
    {
     "name": "stderr",
     "output_type": "stream",
     "text": [
      "\n",
      "  | Name   | Type               | Params\n",
      "----------------------------------------------\n",
      "0 | model  | Unet               | 67.1 M\n",
      "1 | loss   | BCEWithLogitsLoss  | 0     \n",
      "2 | metric | BinaryJaccardIndex | 0     \n",
      "----------------------------------------------\n",
      "67.1 M    Trainable params\n",
      "0         Non-trainable params\n",
      "67.1 M    Total params\n",
      "268.381   Total estimated model params size (MB)\n"
     ]
    },
    {
     "data": {
      "application/vnd.jupyter.widget-view+json": {
       "model_id": "8ab56a3c71094a1ca38b4db710f495ee",
       "version_major": 2,
       "version_minor": 0
      },
      "text/plain": [
       "Sanity Checking: 0it [00:00, ?it/s]"
      ]
     },
     "metadata": {},
     "output_type": "display_data"
    },
    {
     "data": {
      "application/vnd.jupyter.widget-view+json": {
       "model_id": "1a22e25396954cabafd1be2e0f08c0e7",
       "version_major": 2,
       "version_minor": 0
      },
      "text/plain": [
       "Training: 0it [00:00, ?it/s]"
      ]
     },
     "metadata": {},
     "output_type": "display_data"
    },
    {
     "data": {
      "text/html": [
       "Waiting for W&B process to finish... <strong style=\"color:green\">(success).</strong>"
      ],
      "text/plain": [
       "<IPython.core.display.HTML object>"
      ]
     },
     "metadata": {},
     "output_type": "display_data"
    },
    {
     "data": {
      "application/vnd.jupyter.widget-view+json": {
       "model_id": "b31b6ba613a54fcc9ae408d66bfd2e41",
       "version_major": 2,
       "version_minor": 0
      },
      "text/plain": [
       "VBox(children=(Label(value='0.011 MB of 0.011 MB uploaded (0.000 MB deduped)\\r'), FloatProgress(value=1.0, max…"
      ]
     },
     "metadata": {},
     "output_type": "display_data"
    },
    {
     "data": {
      "text/html": [
       " View run <strong style=\"color:#cdcd00\">electric-night-30</strong> at: <a href='https://wandb.ai/khizon/sar_seg/runs/ths26kfe' target=\"_blank\">https://wandb.ai/khizon/sar_seg/runs/ths26kfe</a><br/>Synced 6 W&B file(s), 0 media file(s), 0 artifact file(s) and 0 other file(s)"
      ],
      "text/plain": [
       "<IPython.core.display.HTML object>"
      ]
     },
     "metadata": {},
     "output_type": "display_data"
    },
    {
     "data": {
      "text/html": [
       "Find logs at: <code>./wandb/run-20230408_121944-ths26kfe/logs</code>"
      ],
      "text/plain": [
       "<IPython.core.display.HTML object>"
      ]
     },
     "metadata": {},
     "output_type": "display_data"
    }
   ],
   "source": [
    "trainer.fit(unet_model, datamodule=datamodule)\n",
    "wandb.finish()"
   ]
  }
 ],
 "metadata": {
  "kernelspec": {
   "display_name": "sar-env",
   "language": "python",
   "name": "sar-env"
  },
  "language_info": {
   "codemirror_mode": {
    "name": "ipython",
    "version": 3
   },
   "file_extension": ".py",
   "mimetype": "text/x-python",
   "name": "python",
   "nbconvert_exporter": "python",
   "pygments_lexer": "ipython3",
   "version": "3.9.16"
  }
 },
 "nbformat": 4,
 "nbformat_minor": 5
}
