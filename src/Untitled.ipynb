{
 "cells": [
  {
   "cell_type": "code",
   "execution_count": 98,
   "id": "594d0ac6-e125-46cf-8542-c226233bbe6a",
   "metadata": {},
   "outputs": [],
   "source": [
    "import pandas as pd\n",
    "from skimage.io import imread\n",
    "import numpy as np\n",
    "import matplotlib.pyplot as plt"
   ]
  },
  {
   "cell_type": "code",
   "execution_count": 117,
   "id": "0a2a5cdc-53cf-404d-bd72-9108363254f4",
   "metadata": {},
   "outputs": [
    {
     "data": {
      "text/html": [
       "<div>\n",
       "<style scoped>\n",
       "    .dataframe tbody tr th:only-of-type {\n",
       "        vertical-align: middle;\n",
       "    }\n",
       "\n",
       "    .dataframe tbody tr th {\n",
       "        vertical-align: top;\n",
       "    }\n",
       "\n",
       "    .dataframe thead th {\n",
       "        text-align: right;\n",
       "    }\n",
       "</style>\n",
       "<table border=\"1\" class=\"dataframe\">\n",
       "  <thead>\n",
       "    <tr style=\"text-align: right;\">\n",
       "      <th></th>\n",
       "      <th>Unnamed: 0</th>\n",
       "      <th>vv_image_path</th>\n",
       "      <th>vh_image_path</th>\n",
       "      <th>flood_label_path</th>\n",
       "      <th>water_body_label_path</th>\n",
       "      <th>region</th>\n",
       "      <th>has_mask</th>\n",
       "      <th>invalid</th>\n",
       "    </tr>\n",
       "  </thead>\n",
       "  <tbody>\n",
       "    <tr>\n",
       "      <th>0</th>\n",
       "      <td>2996</td>\n",
       "      <td>../data/val_with_ref_labels/test/florence_2018...</td>\n",
       "      <td>../data/val_with_ref_labels/test/florence_2018...</td>\n",
       "      <td>../data/val_with_ref_labels/test/florence_2018...</td>\n",
       "      <td>../data/val_with_ref_labels/test/florence_2018...</td>\n",
       "      <td>florence</td>\n",
       "      <td>True</td>\n",
       "      <td>False</td>\n",
       "    </tr>\n",
       "    <tr>\n",
       "      <th>1</th>\n",
       "      <td>1647</td>\n",
       "      <td>../data/val_with_ref_labels/test/florence_2018...</td>\n",
       "      <td>../data/val_with_ref_labels/test/florence_2018...</td>\n",
       "      <td>../data/val_with_ref_labels/test/florence_2018...</td>\n",
       "      <td>../data/val_with_ref_labels/test/florence_2018...</td>\n",
       "      <td>florence</td>\n",
       "      <td>False</td>\n",
       "      <td>False</td>\n",
       "    </tr>\n",
       "    <tr>\n",
       "      <th>2</th>\n",
       "      <td>9917</td>\n",
       "      <td>../data/val_with_ref_labels/test/florence_2018...</td>\n",
       "      <td>../data/val_with_ref_labels/test/florence_2018...</td>\n",
       "      <td>../data/val_with_ref_labels/test/florence_2018...</td>\n",
       "      <td>../data/val_with_ref_labels/test/florence_2018...</td>\n",
       "      <td>florence</td>\n",
       "      <td>True</td>\n",
       "      <td>False</td>\n",
       "    </tr>\n",
       "    <tr>\n",
       "      <th>3</th>\n",
       "      <td>1261</td>\n",
       "      <td>../data/val_with_ref_labels/test/florence_2018...</td>\n",
       "      <td>../data/val_with_ref_labels/test/florence_2018...</td>\n",
       "      <td>../data/val_with_ref_labels/test/florence_2018...</td>\n",
       "      <td>../data/val_with_ref_labels/test/florence_2018...</td>\n",
       "      <td>florence</td>\n",
       "      <td>False</td>\n",
       "      <td>False</td>\n",
       "    </tr>\n",
       "    <tr>\n",
       "      <th>4</th>\n",
       "      <td>814</td>\n",
       "      <td>../data/val_with_ref_labels/test/florence_2018...</td>\n",
       "      <td>../data/val_with_ref_labels/test/florence_2018...</td>\n",
       "      <td>../data/val_with_ref_labels/test/florence_2018...</td>\n",
       "      <td>../data/val_with_ref_labels/test/florence_2018...</td>\n",
       "      <td>florence</td>\n",
       "      <td>True</td>\n",
       "      <td>False</td>\n",
       "    </tr>\n",
       "  </tbody>\n",
       "</table>\n",
       "</div>"
      ],
      "text/plain": [
       "   Unnamed: 0                                      vv_image_path  \\\n",
       "0        2996  ../data/val_with_ref_labels/test/florence_2018...   \n",
       "1        1647  ../data/val_with_ref_labels/test/florence_2018...   \n",
       "2        9917  ../data/val_with_ref_labels/test/florence_2018...   \n",
       "3        1261  ../data/val_with_ref_labels/test/florence_2018...   \n",
       "4         814  ../data/val_with_ref_labels/test/florence_2018...   \n",
       "\n",
       "                                       vh_image_path  \\\n",
       "0  ../data/val_with_ref_labels/test/florence_2018...   \n",
       "1  ../data/val_with_ref_labels/test/florence_2018...   \n",
       "2  ../data/val_with_ref_labels/test/florence_2018...   \n",
       "3  ../data/val_with_ref_labels/test/florence_2018...   \n",
       "4  ../data/val_with_ref_labels/test/florence_2018...   \n",
       "\n",
       "                                    flood_label_path  \\\n",
       "0  ../data/val_with_ref_labels/test/florence_2018...   \n",
       "1  ../data/val_with_ref_labels/test/florence_2018...   \n",
       "2  ../data/val_with_ref_labels/test/florence_2018...   \n",
       "3  ../data/val_with_ref_labels/test/florence_2018...   \n",
       "4  ../data/val_with_ref_labels/test/florence_2018...   \n",
       "\n",
       "                               water_body_label_path    region  has_mask  \\\n",
       "0  ../data/val_with_ref_labels/test/florence_2018...  florence      True   \n",
       "1  ../data/val_with_ref_labels/test/florence_2018...  florence     False   \n",
       "2  ../data/val_with_ref_labels/test/florence_2018...  florence      True   \n",
       "3  ../data/val_with_ref_labels/test/florence_2018...  florence     False   \n",
       "4  ../data/val_with_ref_labels/test/florence_2018...  florence      True   \n",
       "\n",
       "   invalid  \n",
       "0    False  \n",
       "1    False  \n",
       "2    False  \n",
       "3    False  \n",
       "4    False  "
      ]
     },
     "execution_count": 117,
     "metadata": {},
     "output_type": "execute_result"
    }
   ],
   "source": [
    "val_df = pd.read_csv('../data/test.csv')\n",
    "val_df.head()"
   ]
  },
  {
   "cell_type": "code",
   "execution_count": 118,
   "id": "86ac1f3c-173a-4f79-a130-a105f5f18d1b",
   "metadata": {},
   "outputs": [
    {
     "data": {
      "text/plain": [
       "False    2133\n",
       "True     1555\n",
       "Name: has_mask, dtype: int64"
      ]
     },
     "execution_count": 118,
     "metadata": {},
     "output_type": "execute_result"
    }
   ],
   "source": [
    "val_df.shape\n",
    "val_df.has_mask.value_counts()"
   ]
  },
  {
   "cell_type": "code",
   "execution_count": 17,
   "id": "3bf3eb4f-ccf1-454c-9e8e-1dde35e9d8bf",
   "metadata": {},
   "outputs": [],
   "source": [
    "def is_mask_binary(path):\n",
    "    img = imread(path, as_gray=True)\n",
    "    unique = np.unique(img)\n",
    "    \n",
    "    for item in unique:\n",
    "        if item not in [0, 1]:\n",
    "            return False\n",
    "    return True        "
   ]
  },
  {
   "cell_type": "code",
   "execution_count": 24,
   "id": "20954522-f966-407d-9a8f-8b6a7ced12d0",
   "metadata": {},
   "outputs": [],
   "source": [
    "train_df['binary_mask'] = train_df['flood_label_path'].apply(is_mask_binary)"
   ]
  },
  {
   "cell_type": "code",
   "execution_count": 25,
   "id": "d4583c2d-7c62-4649-aa07-5d4003665553",
   "metadata": {},
   "outputs": [
    {
     "data": {
      "text/plain": [
       "True    3688\n",
       "Name: binary_mask, dtype: int64"
      ]
     },
     "execution_count": 25,
     "metadata": {},
     "output_type": "execute_result"
    }
   ],
   "source": [
    "train_df['binary_mask'].value_counts()"
   ]
  },
  {
   "cell_type": "code",
   "execution_count": 51,
   "id": "5b724740-8106-49ef-b460-0b5b129fecb8",
   "metadata": {},
   "outputs": [],
   "source": [
    "from torchmetrics.classification import BinaryJaccardIndex\n",
    "import torch\n",
    "\n",
    "black = torch.tensor(np.zeros((256,256)))\n",
    "white = torch.tensor(np.ones((256,256)))"
   ]
  },
  {
   "cell_type": "code",
   "execution_count": 95,
   "id": "ec53a7a5-bed8-47f9-bac7-a6060a747f54",
   "metadata": {},
   "outputs": [],
   "source": [
    "metric=BinaryJaccardIndex(ignore_index=0)"
   ]
  },
  {
   "cell_type": "code",
   "execution_count": 84,
   "id": "45632c5c-b098-43f3-bab5-bf503512ab94",
   "metadata": {},
   "outputs": [
    {
     "data": {
      "text/plain": [
       "<matplotlib.image.AxesImage at 0x7f27802dba00>"
      ]
     },
     "execution_count": 84,
     "metadata": {},
     "output_type": "execute_result"
    },
    {
     "data": {
      "image/png": "[encoded data removed]",
      "text/plain": [
       "<Figure size 640x480 with 1 Axes>"
      ]
     },
     "metadata": {},
     "output_type": "display_data"
    }
   ],
   "source": [
    "idx = np.random.randint(train_df.shape[0])\n",
    "img = imread(train_df.iloc[idx]['flood_label_path'], as_gray=True)\n",
    "plt.imshow(img, cmap='gray')"
   ]
  },
  {
   "cell_type": "code",
   "execution_count": 86,
   "id": "a510b04c-c694-4649-b524-ad147975efc4",
   "metadata": {},
   "outputs": [
    {
     "data": {
      "text/plain": [
       "tensor(0.0359)"
      ]
     },
     "execution_count": 86,
     "metadata": {},
     "output_type": "execute_result"
    }
   ],
   "source": [
    "metric(torch.tensor(img),white)"
   ]
  },
  {
   "cell_type": "code",
   "execution_count": 77,
   "id": "f7eb9b40-da0b-4100-b504-4a442de4b69a",
   "metadata": {},
   "outputs": [],
   "source": [
    "black = torch.tensor(np.zeros((256,256)))\n",
    "left = black.detach().clone()\n",
    "left[:, 0:101] = 1\n",
    "\n",
    "right = black.detach().clone()\n",
    "right[:, 101:] = 1"
   ]
  },
  {
   "cell_type": "code",
   "execution_count": 78,
   "id": "1bd225fd-fd35-49d1-b9aa-0f9b9f1274f4",
   "metadata": {},
   "outputs": [
    {
     "data": {
      "text/plain": [
       "tensor(0.)"
      ]
     },
     "execution_count": 78,
     "metadata": {},
     "output_type": "execute_result"
    }
   ],
   "source": [
    "metric(left, right.int())"
   ]
  },
  {
   "cell_type": "code",
   "execution_count": 96,
   "id": "3bdbed64-68d1-4c7b-910f-fc1fd99e547e",
   "metadata": {},
   "outputs": [
    {
     "data": {
      "text/plain": [
       "tensor(nan)"
      ]
     },
     "execution_count": 96,
     "metadata": {},
     "output_type": "execute_result"
    }
   ],
   "source": [
    "metric(black, black)"
   ]
  },
  {
   "cell_type": "code",
   "execution_count": 97,
   "id": "7af4ff6e-6c06-4a16-98d3-8cb83fa8a0b0",
   "metadata": {},
   "outputs": [
    {
     "data": {
      "text/plain": [
       "tensor(nan)"
      ]
     },
     "execution_count": 97,
     "metadata": {},
     "output_type": "execute_result"
    }
   ],
   "source": [
    "metric(white, black)"
   ]
  }
 ],
 "metadata": {
  "kernelspec": {
   "display_name": "sar-env",
   "language": "python",
   "name": "sar-env"
  },
  "language_info": {
   "codemirror_mode": {
    "name": "ipython",
    "version": 3
   },
   "file_extension": ".py",
   "mimetype": "text/x-python",
   "name": "python",
   "nbconvert_exporter": "python",
   "pygments_lexer": "ipython3",
   "version": "3.9.16"
  }
 },
 "nbformat": 4,
 "nbformat_minor": 5
}
